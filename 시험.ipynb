{
 "cells": [
  {
   "cell_type": "code",
   "execution_count": 1,
   "id": "57a5f923",
   "metadata": {},
   "outputs": [],
   "source": [
    "s = \"adadfadfadfdf\"\n",
    "# 슬라이싱"
   ]
  },
  {
   "cell_type": "code",
   "execution_count": 2,
   "id": "d7769ca1",
   "metadata": {},
   "outputs": [],
   "source": [
    "a = [[1,3,5],[2,4,6]]\n",
    "b = [(1,3,5),(2,4,6)]\n",
    "#인덱싱"
   ]
  },
  {
   "cell_type": "markdown",
   "id": "332e907a",
   "metadata": {},
   "source": [
    "3. "
   ]
  },
  {
   "cell_type": "code",
   "execution_count": null,
   "id": "b99fb21d",
   "metadata": {},
   "outputs": [],
   "source": [
    "''''''\n",
    "b = {'key1': 'value1', key2 : value2}\n",
    "통으로 출력\n",
    " \n",
    "pop() : key가 없을 경우 \n",
    "b 출력"
   ]
  },
  {
   "cell_type": "code",
   "execution_count": null,
   "id": "6c384147",
   "metadata": {},
   "outputs": [],
   "source": [
    "연산: %, /, //, ** -> 우선순위"
   ]
  },
  {
   "cell_type": "code",
   "execution_count": null,
   "id": "e7db0227",
   "metadata": {},
   "outputs": [],
   "source": [
    "비교 연산자 : <, <=, >, >=, ==, != "
   ]
  },
  {
   "cell_type": "code",
   "execution_count": null,
   "id": "28871d5b",
   "metadata": {},
   "outputs": [],
   "source": [
    "\n",
    "| 숫자연산 : 3|4 \n",
    "\n",
    "비트 연산자 3|4\n",
    "16,8,4,2,1, => 자리수 \n",
    "----------------------\n",
    "0  0 0 1 1 => 3\n",
    "0  0 1 0 0 => 4 \n",
    "----------------------\n",
    "0  0 1 1 1 => 7 #or 연산 \n",
    "0  0 0 0 0 => 0 #and 연산 "
   ]
  },
  {
   "cell_type": "code",
   "execution_count": null,
   "id": "5c877ddc",
   "metadata": {},
   "outputs": [],
   "source": [
    "is, is not, in, not in"
   ]
  },
  {
   "cell_type": "code",
   "execution_count": null,
   "id": "e494110c",
   "metadata": {},
   "outputs": [],
   "source": [
    "a = \"사과\" if a > 70 else \"바나나\""
   ]
  },
  {
   "cell_type": "code",
   "execution_count": null,
   "id": "b218f533",
   "metadata": {},
   "outputs": [],
   "source": [
    " ✅ 1. 기본 동작 확인\n",
    "i = 0\n",
    "while i < 6:\n",
    "    if i == 4:\n",
    "        break\n",
    "    elif i == 2:\n",
    "        i += 1\n",
    "        continue\n",
    "    else:\n",
    "        print(i)\n",
    "    i += 1\n",
    "print(\"끝\")\n",
    "\n",
    "\n",
    "👉 출력:\n",
    "\n",
    "0\n",
    "1\n",
    "3\n",
    "끝\n",
    "\n",
    "\n",
    "i==2일 때 → continue (증가 후 넘어감, 출력 안 됨)\n",
    "\n",
    "i==4일 때 → break (반복 종료)\n",
    "\n",
    "나머지 → 출력"
   ]
  },
  {
   "cell_type": "code",
   "execution_count": null,
   "id": "17f683cb",
   "metadata": {},
   "outputs": [],
   "source": [
    "MyD=[ {'aa':10, 'bb':20}]\n",
    "for n in MyD:\n",
    "    print(\"%(aa)d %(bb)d\"% n)"
   ]
  },
  {
   "cell_type": "code",
   "execution_count": null,
   "id": "8d9cc431",
   "metadata": {},
   "outputs": [],
   "source": [
    "def a():\n",
    "    return 1,2,3\n",
    "\n",
    "a,b = a()"
   ]
  },
  {
   "cell_type": "code",
   "execution_count": null,
   "id": "8d6f8a28",
   "metadata": {},
   "outputs": [],
   "source": [
    "def a(a = 10, b= 20, c=30):\n",
    "    ??? \n",
    "    return a+b\n",
    "\n",
    "a(30, b=40)\n",
    "a(30, c=40) \n",
    "에러가 날까? "
   ]
  },
  {
   "cell_type": "code",
   "execution_count": null,
   "id": "786a0d1b",
   "metadata": {},
   "outputs": [],
   "source": [
    "dsf a(*a) #가변인자 \n",
    "    print(a) "
   ]
  },
  {
   "cell_type": "code",
   "execution_count": null,
   "id": "ae76211d",
   "metadata": {},
   "outputs": [],
   "source": [
    "dsf a(*a) #가변인자 \n",
    "    print(a) \n",
    "    \n",
    "dsf a(**a) #가변인자 \n",
    "    print(a) \n",
    "    \n",
    "def a(**a)\n",
    "\n",
    "a(name=\"박미정\")"
   ]
  },
  {
   "cell_type": "code",
   "execution_count": null,
   "id": "b17e4734",
   "metadata": {},
   "outputs": [],
   "source": [
    "a = 3 \n",
    "def bb():\n",
    "    a=4\n",
    "    print()\n",
    "\n",
    "a값을 출력 ?? "
   ]
  },
  {
   "cell_type": "code",
   "execution_count": null,
   "id": "83430ea2",
   "metadata": {},
   "outputs": [],
   "source": [
    "그래프 그리는 라이브러리 3개 이름 "
   ]
  },
  {
   "cell_type": "code",
   "execution_count": null,
   "id": "cf5913d3",
   "metadata": {},
   "outputs": [],
   "source": [
    "bar chart, box plot, scatter plot, histogram #희귀성이 있는 연속성이 있는 데이터, 변수를 가지고 상관관계를 분석하기에 적합한건 뭘까 = scatter (산점도)"
   ]
  },
  {
   "cell_type": "code",
   "execution_count": null,
   "id": "42622e4c",
   "metadata": {},
   "outputs": [],
   "source": [
    "필드가 3개 있음 => a   b   c \n",
    "===============\n",
    "df = \n",
    "df['a'] # 필드 구성 \n",
    "df['a'].max()\n",
    "df.a.max()\n",
    "df.loc[:,'a'].max() 가능? ( 집합함수를 끝에 둬야 함.)\n",
    "df.max()['a']는 안됨 "
   ]
  },
  {
   "cell_type": "code",
   "execution_count": null,
   "id": "89a9c0ec",
   "metadata": {},
   "outputs": [],
   "source": [
    "딕셔너리 값이 세팅되어있음\n",
    "\n",
    "df[df['key']>50] 인 경우 어떻게 할까....... 이게 뭔데"
   ]
  },
  {
   "cell_type": "code",
   "execution_count": null,
   "id": "c05cfbc0",
   "metadata": {},
   "outputs": [],
   "source": [
    "import pandas as pd\n",
    "data = {'A':[1,2,3], 'B':[4,5,6]}\n",
    "df = df.DataFrame(data)\n",
    "df\n",
    "\n",
    "#5를 loc으로 찾기"
   ]
  },
  {
   "cell_type": "code",
   "execution_count": null,
   "id": "eac1c824",
   "metadata": {},
   "outputs": [],
   "source": [
    "data = {'name' : [ 'a', 'b', 'c', 'd'], \n",
    "        'score': [1,2,3,4]}\n",
    "\n",
    "#마스크 연산, 결과값이 어떻게 나오는지 \n",
    "mask = df['score'] > 80"
   ]
  }
 ],
 "metadata": {
  "kernelspec": {
   "display_name": "base",
   "language": "python",
   "name": "python3"
  },
  "language_info": {
   "codemirror_mode": {
    "name": "ipython",
    "version": 3
   },
   "file_extension": ".py",
   "mimetype": "text/x-python",
   "name": "python",
   "nbconvert_exporter": "python",
   "pygments_lexer": "ipython3",
   "version": "3.13.5"
  }
 },
 "nbformat": 4,
 "nbformat_minor": 5
}

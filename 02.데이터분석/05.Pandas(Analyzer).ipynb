{
 "cells": [
  {
   "cell_type": "code",
   "execution_count": 2,
   "id": "aab77fc4",
   "metadata": {},
   "outputs": [],
   "source": [
    "import warnings \n",
    "warnings.filterwarnings(\"ignore\")\n"
   ]
  },
  {
   "cell_type": "code",
   "execution_count": 9,
   "id": "3dd6c9b8",
   "metadata": {},
   "outputs": [
    {
     "name": "stdout",
     "output_type": "stream",
     "text": [
      "    mpg  cylinder  displacement horsepower  weight  acceleration  mode year  \\\n",
      "0  18.0         8         307.0      130.0  3504.0          12.0         70   \n",
      "1  15.0         8         350.0      165.0  3693.0          11.5         70   \n",
      "2  18.0         8         318.0      150.0  3436.0          11.0         70   \n",
      "3  16.0         8         304.0      150.0  3433.0          12.0         70   \n",
      "4  17.0         8         302.0      140.0  3449.0          10.5         70   \n",
      "\n",
      "   origin                       name  \n",
      "0       1  chevrolet chevelle malibu  \n",
      "1       1          buick skylark 320  \n",
      "2       1         plymouth satellite  \n",
      "3       1              amc rebel sst  \n",
      "4       1                ford torino  \n",
      "\n",
      "\n",
      "      mpg  cylinder  displacement horsepower  weight  acceleration  mode year  \\\n",
      "393  27.0         4         140.0      86.00  2790.0          15.6         82   \n",
      "394  44.0         4          97.0      52.00  2130.0          24.6         82   \n",
      "395  32.0         4         135.0      84.00  2295.0          11.6         82   \n",
      "396  28.0         4         120.0      79.00  2625.0          18.6         82   \n",
      "397  31.0         4         119.0      82.00  2720.0          19.4         82   \n",
      "\n",
      "     origin             name  \n",
      "393       1  ford mustang gl  \n",
      "394       2        vw pickup  \n",
      "395       1    dodge rampage  \n",
      "396       1      ford ranger  \n",
      "397       1       chevy s-10  \n",
      "(398, 9)\n",
      "\n",
      "\n"
     ]
    }
   ],
   "source": [
    "import pandas as pd\n",
    "\n",
    "df = pd.read_csv('./data/auto-mpg.csv', header=None)\n",
    "\n",
    "df.columns = ['mpg', 'cylinder', 'displacement', 'horsepower', 'weight', 'acceleration', 'mode year', 'origin', 'name' ]\n",
    "\n",
    "#데이터 프레임 df의 내용을 일부 확인\n",
    "print(df.head()) #처음 5개 행\n",
    "print('\\n')\n",
    "print(df.tail())\n",
    "\n",
    "# df의 모양과 크기 확인: (행의 개수, 열의 개수)를 튜플로 반환\n",
    "print(df.shape)\n",
    "print('\\n')\n"
   ]
  },
  {
   "cell_type": "code",
   "execution_count": null,
   "id": "97acca62",
   "metadata": {},
   "outputs": [],
   "source": [
    "? ?"
   ]
  },
  {
   "cell_type": "code",
   "execution_count": 10,
   "id": "a66a1fd9",
   "metadata": {},
   "outputs": [
    {
     "name": "stdout",
     "output_type": "stream",
     "text": [
      "mpg             float64\n",
      "cylinder          int64\n",
      "displacement    float64\n",
      "horsepower       object\n",
      "weight          float64\n",
      "acceleration    float64\n",
      "mode year         int64\n",
      "origin            int64\n",
      "name             object\n",
      "dtype: object\n",
      "\n",
      "\n",
      "float64\n"
     ]
    }
   ],
   "source": [
    "# 데이터프레임 df의 자료형 확인\n",
    "print(df.dtypes)\n",
    "print('\\n')\n",
    "\n",
    "#시리즈(mpg열)의 자료형 확인\n",
    "print(df.mpg.dtypes)"
   ]
  },
  {
   "cell_type": "code",
   "execution_count": 11,
   "id": "418cdef0",
   "metadata": {},
   "outputs": [
    {
     "name": "stdout",
     "output_type": "stream",
     "text": [
      "              mpg    cylinder  displacement       weight  acceleration  \\\n",
      "count  398.000000  398.000000    398.000000   398.000000    398.000000   \n",
      "mean    23.514573    5.454774    193.425879  2970.424623     15.568090   \n",
      "std      7.815984    1.701004    104.269838   846.841774      2.757689   \n",
      "min      9.000000    3.000000     68.000000  1613.000000      8.000000   \n",
      "25%     17.500000    4.000000    104.250000  2223.750000     13.825000   \n",
      "50%     23.000000    4.000000    148.500000  2803.500000     15.500000   \n",
      "75%     29.000000    8.000000    262.000000  3608.000000     17.175000   \n",
      "max     46.600000    8.000000    455.000000  5140.000000     24.800000   \n",
      "\n",
      "        mode year      origin  \n",
      "count  398.000000  398.000000  \n",
      "mean    76.010050    1.572864  \n",
      "std      3.697627    0.802055  \n",
      "min     70.000000    1.000000  \n",
      "25%     73.000000    1.000000  \n",
      "50%     76.000000    1.000000  \n",
      "75%     79.000000    2.000000  \n",
      "max     82.000000    3.000000  \n"
     ]
    }
   ],
   "source": [
    "# 데이터 프레임 df의 기술통계 정보 확인\n",
    "print(df.describe())"
   ]
  },
  {
   "cell_type": "code",
   "execution_count": 12,
   "id": "0ce4b509",
   "metadata": {},
   "outputs": [
    {
     "name": "stdout",
     "output_type": "stream",
     "text": [
      "               mpg    cylinder  displacement horsepower       weight  \\\n",
      "count   398.000000  398.000000    398.000000        398   398.000000   \n",
      "unique         NaN         NaN           NaN         94          NaN   \n",
      "top            NaN         NaN           NaN      150.0          NaN   \n",
      "freq           NaN         NaN           NaN         22          NaN   \n",
      "mean     23.514573    5.454774    193.425879        NaN  2970.424623   \n",
      "std       7.815984    1.701004    104.269838        NaN   846.841774   \n",
      "min       9.000000    3.000000     68.000000        NaN  1613.000000   \n",
      "25%      17.500000    4.000000    104.250000        NaN  2223.750000   \n",
      "50%      23.000000    4.000000    148.500000        NaN  2803.500000   \n",
      "75%      29.000000    8.000000    262.000000        NaN  3608.000000   \n",
      "max      46.600000    8.000000    455.000000        NaN  5140.000000   \n",
      "\n",
      "        acceleration   mode year      origin        name  \n",
      "count     398.000000  398.000000  398.000000         398  \n",
      "unique           NaN         NaN         NaN         305  \n",
      "top              NaN         NaN         NaN  ford pinto  \n",
      "freq             NaN         NaN         NaN           6  \n",
      "mean       15.568090   76.010050    1.572864         NaN  \n",
      "std         2.757689    3.697627    0.802055         NaN  \n",
      "min         8.000000   70.000000    1.000000         NaN  \n",
      "25%        13.825000   73.000000    1.000000         NaN  \n",
      "50%        15.500000   76.000000    1.000000         NaN  \n",
      "75%        17.175000   79.000000    2.000000         NaN  \n",
      "max        24.800000   82.000000    3.000000         NaN  \n"
     ]
    }
   ],
   "source": [
    "print(df.describe(include='all'))"
   ]
  },
  {
   "cell_type": "code",
   "execution_count": 13,
   "id": "c73665d2",
   "metadata": {},
   "outputs": [
    {
     "name": "stdout",
     "output_type": "stream",
     "text": [
      "mpg             398\n",
      "cylinder        398\n",
      "displacement    398\n",
      "horsepower      398\n",
      "weight          398\n",
      "acceleration    398\n",
      "mode year       398\n",
      "origin          398\n",
      "name            398\n",
      "dtype: int64\n"
     ]
    }
   ],
   "source": [
    "# 데이터프레임 df의 각 열이 가지고 있는 원소 개수 확인\n",
    "\n",
    "print(df.count())"
   ]
  },
  {
   "cell_type": "code",
   "execution_count": 20,
   "id": "1d8bbc3d",
   "metadata": {},
   "outputs": [
    {
     "name": "stdout",
     "output_type": "stream",
     "text": [
      "origin\n",
      "1    249\n",
      "3     79\n",
      "2     70\n",
      "Name: count, dtype: int64\n",
      "\n",
      "\n",
      "<class 'pandas.core.series.Series'>\n"
     ]
    }
   ],
   "source": [
    "# 데이터프레임 df의 특정 열이 가지고 있는 고유값 확인\n",
    "unique_values = df['origin'].value_counts()\n",
    "print(unique_values)\n",
    "print('\\n')\n",
    "\n",
    "#value_counts 메소드가 반환하는 객체 타입 출력\n",
    "print(type(unique_values))"
   ]
  },
  {
   "cell_type": "code",
   "execution_count": 21,
   "id": "0bb9bb91",
   "metadata": {},
   "outputs": [],
   "source": [
    "#23년도 11/17 추가\n",
    "df = df.apply(pd.to_numeric, errors = 'coerce')"
   ]
  },
  {
   "cell_type": "code",
   "execution_count": 22,
   "id": "ea798862",
   "metadata": {},
   "outputs": [
    {
     "name": "stdout",
     "output_type": "stream",
     "text": [
      "mpg               23.514573\n",
      "cylinder           5.454774\n",
      "displacement     193.425879\n",
      "horsepower       104.469388\n",
      "weight          2970.424623\n",
      "acceleration      15.568090\n",
      "mode year         76.010050\n",
      "origin             1.572864\n",
      "name                    NaN\n",
      "dtype: float64\n",
      "\n",
      "\n",
      "23.514572864321607\n",
      "23.514572864321607\n",
      "\n",
      "\n",
      "mpg         23.514573\n",
      "weight    2970.424623\n",
      "dtype: float64\n"
     ]
    }
   ],
   "source": [
    "# 평균값\n",
    "print(df.mean())\n",
    "print('\\n')\n",
    "print(df['mpg'].mean())\n",
    "print(df.mpg.mean())\n",
    "print('\\n')\n",
    "print(df[['mpg', 'weight']].mean())"
   ]
  },
  {
   "cell_type": "code",
   "execution_count": 23,
   "id": "90912250",
   "metadata": {},
   "outputs": [
    {
     "name": "stdout",
     "output_type": "stream",
     "text": [
      "mpg               23.0\n",
      "cylinder           4.0\n",
      "displacement     148.5\n",
      "horsepower        93.5\n",
      "weight          2803.5\n",
      "acceleration      15.5\n",
      "mode year         76.0\n",
      "origin             1.0\n",
      "name               NaN\n",
      "dtype: float64\n",
      "\n",
      "\n",
      "23.0\n",
      "mpg               46.6\n",
      "cylinder           8.0\n",
      "displacement     455.0\n",
      "horsepower       230.0\n",
      "weight          5140.0\n",
      "acceleration      24.8\n",
      "mode year         82.0\n",
      "origin             3.0\n",
      "name               NaN\n",
      "dtype: float64\n",
      "\n",
      "\n",
      "<bound method Series.max of 0      18.0\n",
      "1      15.0\n",
      "2      18.0\n",
      "3      16.0\n",
      "4      17.0\n",
      "       ... \n",
      "393    27.0\n",
      "394    44.0\n",
      "395    32.0\n",
      "396    28.0\n",
      "397    31.0\n",
      "Name: mpg, Length: 398, dtype: float64>\n",
      "mpg                9.0\n",
      "cylinder           3.0\n",
      "displacement      68.0\n",
      "horsepower        46.0\n",
      "weight          1613.0\n",
      "acceleration       8.0\n",
      "mode year         70.0\n",
      "origin             1.0\n",
      "name               NaN\n",
      "dtype: float64\n",
      "\n",
      "\n",
      "9.0\n"
     ]
    }
   ],
   "source": [
    "#중간값\n",
    "print(df.median())\n",
    "print('\\n')\n",
    "print(df['mpg'].median())\n",
    "\n",
    "#최댓값 \n",
    "print(df.max())\n",
    "print('\\n')\n",
    "print(df['mpg'].max)\n",
    "\n",
    "#최솟값\n",
    "print(df.min())\n",
    "print('\\n')\n",
    "print(df['mpg'].min())"
   ]
  },
  {
   "cell_type": "code",
   "execution_count": 27,
   "id": "ed25699d",
   "metadata": {},
   "outputs": [
    {
     "name": "stdout",
     "output_type": "stream",
     "text": [
      "mpg               7.815984\n",
      "cylinder          1.701004\n",
      "displacement    104.269838\n",
      "horsepower       38.491160\n",
      "weight          846.841774\n",
      "acceleration      2.757689\n",
      "mode year         3.697627\n",
      "origin            0.802055\n",
      "name                   NaN\n",
      "dtype: float64\n",
      "\n",
      "\n",
      "7.815984312565782\n",
      "                   mpg  cylinder  displacement  horsepower    weight  \\\n",
      "mpg           1.000000 -0.775396     -0.804203   -0.778427 -0.831741   \n",
      "cylinder     -0.775396  1.000000      0.950721    0.842983  0.896017   \n",
      "displacement -0.804203  0.950721      1.000000    0.897257  0.932824   \n",
      "horsepower   -0.778427  0.842983      0.897257    1.000000  0.864538   \n",
      "weight       -0.831741  0.896017      0.932824    0.864538  1.000000   \n",
      "acceleration  0.420289 -0.505419     -0.543684   -0.689196 -0.417457   \n",
      "mode year     0.579267 -0.348746     -0.370164   -0.416361 -0.306564   \n",
      "origin        0.563450 -0.562543     -0.609409   -0.455171 -0.581024   \n",
      "name               NaN       NaN           NaN         NaN       NaN   \n",
      "\n",
      "              acceleration  mode year    origin  name  \n",
      "mpg               0.420289   0.579267  0.563450   NaN  \n",
      "cylinder         -0.505419  -0.348746 -0.562543   NaN  \n",
      "displacement     -0.543684  -0.370164 -0.609409   NaN  \n",
      "horsepower       -0.689196  -0.416361 -0.455171   NaN  \n",
      "weight           -0.417457  -0.306564 -0.581024   NaN  \n",
      "acceleration      1.000000   0.288137  0.205873   NaN  \n",
      "mode year         0.288137   1.000000  0.180662   NaN  \n",
      "origin            0.205873   0.180662  1.000000   NaN  \n",
      "name                   NaN        NaN       NaN   NaN  \n",
      "\n",
      "\n",
      "             mpg    weight\n",
      "mpg     1.000000 -0.831741\n",
      "weight -0.831741  1.000000\n"
     ]
    }
   ],
   "source": [
    "# 표준편차 \n",
    "print(df.std())\n",
    "print('\\n')\n",
    "print(df['mpg'].std())\n",
    "\n",
    "# 상관계수\n",
    "print(df.corr())\n",
    "print('\\n')\n",
    "print(df[['mpg', 'weight']].corr()) #상관계수"
   ]
  },
  {
   "cell_type": "code",
   "execution_count": null,
   "id": "55e5a566",
   "metadata": {},
   "outputs": [],
   "source": []
  }
 ],
 "metadata": {
  "kernelspec": {
   "display_name": "base",
   "language": "python",
   "name": "python3"
  },
  "language_info": {
   "codemirror_mode": {
    "name": "ipython",
    "version": 3
   },
   "file_extension": ".py",
   "mimetype": "text/x-python",
   "name": "python",
   "nbconvert_exporter": "python",
   "pygments_lexer": "ipython3",
   "version": "3.13.5"
  }
 },
 "nbformat": 4,
 "nbformat_minor": 5
}

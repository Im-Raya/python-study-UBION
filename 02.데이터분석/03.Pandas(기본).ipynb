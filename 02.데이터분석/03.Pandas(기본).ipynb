{
 "cells": [
  {
   "cell_type": "code",
   "execution_count": 12,
   "id": "dce0f333",
   "metadata": {},
   "outputs": [],
   "source": [
    "import warnings\n",
    "warnings.filterwarnings(\"ignore\")"
   ]
  },
  {
   "cell_type": "markdown",
   "id": "f2db3edd",
   "metadata": {},
   "source": [
    "## 01. Series(시리즈)"
   ]
  },
  {
   "cell_type": "code",
   "execution_count": null,
   "id": "7ce71d3f",
   "metadata": {},
   "outputs": [
    {
     "name": "stdout",
     "output_type": "stream",
     "text": [
      "<class 'pandas.core.series.Series'>\n",
      "\n",
      "\n",
      "a    1\n",
      "b    2\n",
      "c    3\n",
      "dtype: int64\n"
     ]
    }
   ],
   "source": [
    "#딕셔너리를 시리즈로 변환\n",
    "\n",
    "import pandas as pd \n",
    "\n",
    "dict_data = {'a':1, 'b':2, 'c':3} # 딕셔너리\n",
    "sr = pd.Series(dict_data)\n",
    "\n",
    "print(type(sr))\n",
    "print('\\n')\n",
    "print(sr)"
   ]
  },
  {
   "cell_type": "code",
   "execution_count": null,
   "id": "ff82fa67",
   "metadata": {},
   "outputs": [
    {
     "name": "stdout",
     "output_type": "stream",
     "text": [
      "0    2019-01-02\n",
      "1          3.14\n",
      "2           ABC\n",
      "3           100\n",
      "4          True\n",
      "dtype: object\n",
      "\n",
      "\n",
      "RangeIndex(start=0, stop=5, step=1)\n",
      "\n",
      "\n",
      "['2019-01-02' 3.14 'ABC' 100 True]\n"
     ]
    }
   ],
   "source": [
    "#리스트를 시리즈로 변환\n",
    "import pandas as pd \n",
    "\n",
    "list_data = ['2019-01-02', 3.14, 'ABC', 100, True] #리스트 \n",
    "sr = pd.Series(list_data)\n",
    "print(sr)\n",
    "print('\\n')\n",
    "\n",
    "idx = sr.index\n",
    "val = sr.values\n",
    "print(idx)\n",
    "print('\\n')\n",
    "print(val)\n",
    "\n",
    "#1차원 데이터 "
   ]
  },
  {
   "cell_type": "code",
   "execution_count": null,
   "id": "04c841e4",
   "metadata": {},
   "outputs": [
    {
     "name": "stdout",
     "output_type": "stream",
     "text": [
      "이름              영인\n",
      "생년월일    2010-05-01\n",
      "성별               여\n",
      "학생여부          True\n",
      "dtype: object\n",
      "\n",
      "\n",
      "영인\n",
      "영인\n",
      "\n",
      "\n"
     ]
    }
   ],
   "source": [
    "#튜플을 시리즈로 변환\n",
    "tup_data = (\"영인\", \"2010-05-01\", '여', True)\n",
    "sr = pd.Series(tup_data, index=[\"이름\", \"생년월일\", \"성별\", \"학생여부\"]) #인덱스를 지정한 것( 데이터와 1대1 매칭되어야 함)\n",
    "print(sr)\n",
    "print('\\n')\n",
    "\n",
    "#원소를 1개 선택 \n",
    "print(sr[0])\n",
    "print(sr['이름'])\n",
    "print('\\n')"
   ]
  },
  {
   "cell_type": "code",
   "execution_count": 16,
   "id": "5bd828d3",
   "metadata": {},
   "outputs": [
    {
     "name": "stdout",
     "output_type": "stream",
     "text": [
      "생년월일    2010-05-01\n",
      "성별               여\n",
      "dtype: object\n",
      "\n",
      "\n",
      "생년월일    2010-05-01\n",
      "성별               여\n",
      "dtype: object\n",
      "\n",
      "\n",
      "생년월일    2010-05-01\n",
      "dtype: object\n",
      "\n",
      "\n",
      "생년월일    2010-05-01\n",
      "성별               여\n",
      "dtype: object\n"
     ]
    }
   ],
   "source": [
    "# '생년월일', '성별' 추출 \n",
    "\n",
    "# 여러개의 원소를 선택 (인덱스 리스트 활용 : 인덱싱)\n",
    "print(sr[[1,2]] )\n",
    "print('\\n')\n",
    "print(sr[['생년월일', '성별']])\n",
    "print('\\n')\n",
    "\n",
    "\n",
    "\n",
    "# 여러개의 원소를 선택 (인덱스 범위 지정 : 슬라이싱)\n",
    "print(sr[1:2])\n",
    "print('\\n')\n",
    "print(sr['생년월일':'성별'])"
   ]
  },
  {
   "cell_type": "markdown",
   "id": "b769afa5",
   "metadata": {},
   "source": [
    "## 02. DataFrame(데이터프레임)"
   ]
  },
  {
   "cell_type": "markdown",
   "id": "a30e1e4d",
   "metadata": {},
   "source": [
    "* dict to dataframe"
   ]
  },
  {
   "cell_type": "code",
   "execution_count": null,
   "id": "65ef406d",
   "metadata": {},
   "outputs": [
    {
     "name": "stdout",
     "output_type": "stream",
     "text": [
      "<class 'pandas.core.frame.DataFrame'>\n",
      "\n",
      "\n",
      "   c0  c1  c2  c3  c4\n",
      "0   1   4   7  10  13\n",
      "1   2   5   8  11  14\n",
      "2   3   6   9  12  15\n"
     ]
    }
   ],
   "source": [
    "import pandas as pd \n",
    "\n",
    "dict_data = {'c0':[1,2,3], 'c1':[4,5,6], 'c2':[7,8,9], 'c3':[10,11,12], 'c4':[13,14,15]} #딕셔너리는 세로로 나온대\n",
    "\n",
    "df = pd.DataFrame(dict_data)\n",
    "print(type(df))\n",
    "print('\\n')\n",
    "print(df)"
   ]
  },
  {
   "cell_type": "code",
   "execution_count": null,
   "id": "7d3e0fbd",
   "metadata": {},
   "outputs": [
    {
     "name": "stdout",
     "output_type": "stream",
     "text": [
      "    나이 성별   학교\n",
      "준서  15  남  덕영준\n",
      "에은  17  여  수리중\n",
      "\n",
      "\n",
      "Index(['준서', '에은'], dtype='object')\n",
      "\n",
      "\n",
      "Index(['나이', '성별', '학교'], dtype='object')\n"
     ]
    }
   ],
   "source": [
    "import pandas as pd\n",
    "\n",
    "df = pd.DataFrame([[15, '남', '덕영준'], [17,'여', '수리중']], \n",
    "                  index = [ '준서', '에은'],    # 행에 대한 키 값 \n",
    "                  columns = ['나이', '성별', '학교']) # 열에 대한 키 값 \n",
    "\n",
    "print(df)           # 데이터 프레임\n",
    "print('\\n')\n",
    "print(df.index)     # 행 인덱스 (데이터 아님 )\n",
    "print('\\n')\n",
    "print(df.columns)   # 열 이름 (데이터 아님)"
   ]
  },
  {
   "cell_type": "code",
   "execution_count": 27,
   "id": "4c11922f",
   "metadata": {},
   "outputs": [
    {
     "name": "stdout",
     "output_type": "stream",
     "text": [
      "     연령 남녀   소속\n",
      "학생1  15  남  덕영준\n",
      "학생2  17  여  수리중\n",
      "\n",
      "\n",
      "Index(['학생1', '학생2'], dtype='object')\n",
      "\n",
      "\n",
      "Index(['연령', '남녀', '소속'], dtype='object')\n"
     ]
    }
   ],
   "source": [
    "df.index=['학생1', '학생2']\n",
    "df.columns=['연령', '남녀', '소속']\n",
    "\n",
    "\n",
    "print(df)           # 데이터 프레임\n",
    "print('\\n')\n",
    "print(df.index)     # 행 인덱스\n",
    "print('\\n')\n",
    "print(df.columns)   # 열 이름"
   ]
  },
  {
   "cell_type": "markdown",
   "id": "07cd9b7d",
   "metadata": {},
   "source": [
    "* rename"
   ]
  },
  {
   "cell_type": "code",
   "execution_count": 28,
   "id": "76e270dd",
   "metadata": {},
   "outputs": [
    {
     "name": "stdout",
     "output_type": "stream",
     "text": [
      "    나이 성별   학교\n",
      "준서  15  남  덕영준\n",
      "에은  17  여  수리중\n",
      "\n",
      "\n",
      "     연령 남녀   소속\n",
      "학생1  15  남  덕영준\n",
      "에은   17  여  수리중\n"
     ]
    }
   ],
   "source": [
    "import pandas as pd\n",
    "\n",
    "df = pd.DataFrame([[15, '남', '덕영준'], [17,'여', '수리중']], \n",
    "                  index = [ '준서', '에은'], \n",
    "                  columns = ['나이', '성별', '학교'])\n",
    "\n",
    "print(df)           # 데이터 프레임\n",
    "print('\\n')\n",
    "df.rename(columns={'나이': '연령', '성별': '남녀', '학교':'소속'}, inplace= True )\n",
    "df.rename(index= {'준서': '학생1', '예은':'학생2' }, inplace= True )\n",
    "\n",
    "print(df)   "
   ]
  },
  {
   "cell_type": "markdown",
   "id": "c2608b84",
   "metadata": {},
   "source": [
    "* drop (삭제)"
   ]
  },
  {
   "cell_type": "code",
   "execution_count": 1,
   "id": "e3b7aed7",
   "metadata": {},
   "outputs": [
    {
     "name": "stdout",
     "output_type": "stream",
     "text": [
      "    수학  영어   음악   체육\n",
      "서준  90  98   85  100\n",
      "우현  80  89   95   90\n",
      "인아  70  95  100   90\n",
      "\n",
      "\n",
      "    수학  영어   음악   체육\n",
      "서준  90  98   85  100\n",
      "인아  70  95  100   90\n",
      "\n",
      "\n",
      "    수학  영어  음악   체육\n",
      "서준  90  98  85  100\n"
     ]
    }
   ],
   "source": [
    "# remove row \n",
    "import pandas as pd \n",
    "\n",
    "exam_data = { '수학' : [90,80,70], '영어': [98,89,95],\n",
    "              '음악' : [85,95,100], '체육' : [100, 90,90]}\n",
    "\n",
    "df = pd.DataFrame(exam_data, index=['서준','우현', '인아'])\n",
    "print(df) \n",
    "print('\\n') \n",
    "\n",
    "df2 = df.copy()\n",
    "df2.drop('우현', axis = 0, inplace=True) #axis : 행 삭제(0), 열 삭제(1), inplace : 원본데이터 수정(T), 복제(F)\n",
    "print(df2)\n",
    "print('\\n')\n",
    "\n",
    "df3 = df.copy()\n",
    "df3.drop(['우현','인아'], axis=0, inplace=True)\n",
    "print(df3)"
   ]
  },
  {
   "cell_type": "code",
   "execution_count": null,
   "id": "d1dcc308",
   "metadata": {},
   "outputs": [
    {
     "name": "stdout",
     "output_type": "stream",
     "text": [
      "    수학  영어   음악   체육\n",
      "서준  90  98   85  100\n",
      "우현  80  89   95   90\n",
      "인아  70  95  100   90\n",
      "\n",
      "\n",
      "    영어   음악   체육\n",
      "서준  98   85  100\n",
      "우현  89   95   90\n",
      "인아  95  100   90\n",
      "\n",
      "\n",
      "    수학   체육\n",
      "서준  90  100\n",
      "우현  80   90\n",
      "인아  70   90\n"
     ]
    }
   ],
   "source": [
    "# remove column \n",
    "\n",
    "import pandas as pd \n",
    "\n",
    "exam_data = { '수학' : [90,80,70], '영어': [98,89,95],\n",
    "              '음악' : [85,95,100], '체육' : [100, 90,90]}\n",
    "\n",
    "df = pd.DataFrame(exam_data, index=['서준','우현', '인아'])\n",
    "print(df) \n",
    "print('\\n') \n",
    "\n",
    "df4 = df.copy()\n",
    "df4.drop('수학', axis=1, inplace=True)  #axis : 행 삭제(0), 열 삭제(1), inplace : 원본데이터 수정(T), 복제(F)\n",
    "print(df4)\n",
    "print('\\n')\n",
    "\n",
    "df5 = df.copy()\n",
    "df5.drop(['영어', '음악'], axis=1, inplace=True)\n",
    "print(df5)\n"
   ]
  },
  {
   "cell_type": "markdown",
   "id": "0b5caf04",
   "metadata": {},
   "source": [
    "* select(검색)"
   ]
  },
  {
   "cell_type": "code",
   "execution_count": 43,
   "id": "583c3df2",
   "metadata": {},
   "outputs": [
    {
     "name": "stdout",
     "output_type": "stream",
     "text": [
      "    수학  영어  음악   체육\n",
      "서준  90  98  85  100\n",
      "\n",
      "\n",
      "    수학  영어  음악   체육\n",
      "서준  90  98  85  100\n",
      "\n",
      "\n",
      "    수학  영어  음악   체육\n",
      "서준  90  98  85  100\n",
      "우현  80  89  95   90\n",
      "\n",
      "\n",
      "    수학  영어  음악   체육\n",
      "서준  90  98  85  100\n",
      "우현  80  89  95   90\n",
      "\n",
      "\n",
      "    수학  영어  음악   체육\n",
      "서준  90  98  85  100\n",
      "우현  80  89  95   90\n",
      "\n",
      "\n",
      "    수학  영어  음악   체육\n",
      "서준  90  98  85  100\n",
      "\n",
      "\n"
     ]
    }
   ],
   "source": [
    "# select row\n",
    "\n",
    "\n",
    "import pandas as pd \n",
    "\n",
    "exam_data = { '수학' : [90,80,70], '영어': [98,89,95],\n",
    "              '음악' : [85,95,100], '체육' : [100, 90,90]}\n",
    "\n",
    "df = pd.DataFrame(exam_data, index=['서준','우현', '인아'])\n",
    "\n",
    "#행 인덱스를 사용하여 행1개를 선택 \n",
    "label1= df.loc[['서준']]    # loc 인덱서 활용\n",
    "position1 = df.iloc[[0]]    # iloc 인덱서 활용\n",
    "print(label1)\n",
    "print('\\n')\n",
    "print(position1)\n",
    "print('\\n')\n",
    "\n",
    "\n",
    "#행 인덱스를 사용하여 2개 이상의 행 선택 \n",
    "label2= df.loc[['서준', '우현']]\n",
    "position2 = df.iloc[[0,1]]\n",
    "print(label2)\n",
    "print('\\n')\n",
    "print(position2)\n",
    "print('\\n')\n",
    "\n",
    "# 행 인덱스의 범위를 저장하여 행 선택 \n",
    "label3= df.loc['서준' :'우현']\n",
    "position3 = df.iloc[0:1]\n",
    "print(label3)\n",
    "print('\\n')\n",
    "print(position3)\n",
    "print('\\n')"
   ]
  },
  {
   "cell_type": "code",
   "execution_count": 52,
   "id": "543116a0",
   "metadata": {},
   "outputs": [
    {
     "name": "stdout",
     "output_type": "stream",
     "text": [
      "   이름  수학  영어   음악   체육\n",
      "0  서준  90  98   85  100\n",
      "1  우현  80  89   95   90\n",
      "2  인아  70  95  100   90\n",
      "<class 'pandas.core.frame.DataFrame'>\n",
      "\n",
      "\n"
     ]
    }
   ],
   "source": [
    "# select column\n",
    "import pandas as pd \n",
    "\n",
    "exam_data = {'이름': ['서준', '우현', '인아'], \n",
    "             '수학': [ 90,80,70], \n",
    "             '영어': [98,89,95], \n",
    "             '음악': [85,95,100], \n",
    "             '체육': [100,90,90] }\n",
    "\n",
    "df= pd.DataFrame(exam_data)\n",
    "print(df)\n",
    "print(type(df))\n",
    "print('\\n')"
   ]
  },
  {
   "cell_type": "code",
   "execution_count": 56,
   "id": "9fca363b",
   "metadata": {},
   "outputs": [
    {
     "name": "stdout",
     "output_type": "stream",
     "text": [
      "0    90\n",
      "1    80\n",
      "2    70\n",
      "Name: 수학, dtype: int64\n",
      "<class 'pandas.core.series.Series'>\n",
      "\n",
      "\n",
      "0    98\n",
      "1    89\n",
      "2    95\n",
      "Name: 영어, dtype: int64\n",
      "<class 'pandas.core.series.Series'>\n",
      "\n",
      "\n",
      "    음악   체육\n",
      "0   85  100\n",
      "1   95   90\n",
      "2  100   90\n",
      "<class 'pandas.core.frame.DataFrame'>\n",
      "\n",
      "\n",
      "   수학\n",
      "0  90\n",
      "1  80\n",
      "2  70\n",
      "<class 'pandas.core.series.Series'>\n",
      "\n",
      "\n"
     ]
    }
   ],
   "source": [
    "#수학 점수 데이터만 선택. 변수 math1에 저장\n",
    "math1= df['수학']\n",
    "print(math1)\n",
    "print(type(math1))\n",
    "print('\\n')\n",
    "\n",
    "#영어 점수 데이터만 선택, 변수 english에 저장\n",
    "english= df.영어\n",
    "print(english)\n",
    "print(type(english))\n",
    "print('\\n')\n",
    "\n",
    "#음악, 체육 점수 데이터를 선택. 변수 music_gym에 저장\n",
    "music_gym= df[['음악', '체육']]\n",
    "print(music_gym)\n",
    "print(type(music_gym))\n",
    "print('\\n')\n",
    "\n",
    "#수학 점수 데이터만 선택 . 변수 math2에 저장. : 결곽값 데이터 포함\n",
    "math2= df[['수학']] # 데이터가 하나여도, 변수가 하나일 때 곽 괄호를 두개 사용 할 수 있음. 이때는 타입이 데이터 프레임으로 나옴. (하나일 때는 시리즈로 나옴. )\n",
    "print(math2)\n",
    "print(type(math1))\n",
    "print('\\n')"
   ]
  },
  {
   "cell_type": "code",
   "execution_count": 1,
   "id": "f681ae68",
   "metadata": {},
   "outputs": [
    {
     "name": "stdout",
     "output_type": "stream",
     "text": [
      "    수학  영어   음악   체육\n",
      "이름                  \n",
      "서준  90  98   85  100\n",
      "우현  80  89   95   90\n",
      "인아  70  95  100   90\n",
      "\n",
      "\n"
     ]
    }
   ],
   "source": [
    "# select element\n",
    "\n",
    "import pandas as pd \n",
    "\n",
    "exam_data = {'이름': ['서준', '우현', '인아'], \n",
    "             '수학': [ 90,80,70], \n",
    "             '영어': [98,89,95], \n",
    "             '음악': [85,95,100], \n",
    "             '체육': [100,90,90] }\n",
    "\n",
    "df= pd.DataFrame(exam_data)\n",
    "\n",
    "# '이름'열을 새로운 인덱스로 지정 \n",
    "df.set_index('이름', inplace=True)\n",
    "print(df)\n",
    "print('\\n') "
   ]
  },
  {
   "cell_type": "code",
   "execution_count": 68,
   "id": "4e2ce3ff",
   "metadata": {},
   "outputs": [
    {
     "name": "stdout",
     "output_type": "stream",
     "text": [
      "85\n",
      "85\n"
     ]
    },
    {
     "data": {
      "text/plain": [
       "np.int64(85)"
      ]
     },
     "execution_count": 68,
     "metadata": {},
     "output_type": "execute_result"
    }
   ],
   "source": [
    "# 85만 추출해보기\n",
    "\n",
    "a = df.loc['서준']['음악']\n",
    "print(a)\n",
    "\n",
    "a= df.loc['서준', '음악']\n",
    "print(a)\n",
    "\n",
    "b = df.iloc[0, 2]\n",
    "b\n",
    "\n"
   ]
  },
  {
   "cell_type": "code",
   "execution_count": 73,
   "id": "093ff698",
   "metadata": {},
   "outputs": [
    {
     "name": "stdout",
     "output_type": "stream",
     "text": [
      "음악     85\n",
      "체육    100\n",
      "Name: 서준, dtype: int64\n",
      "\n",
      "\n",
      "음악     85\n",
      "체육    100\n",
      "Name: 서준, dtype: int64\n",
      "\n",
      "\n",
      "음악     85\n",
      "체육    100\n",
      "Name: 서준, dtype: int64\n",
      "\n",
      "\n",
      "음악     85\n",
      "체육    100\n",
      "Name: 서준, dtype: int64\n",
      "\n",
      "\n"
     ]
    }
   ],
   "source": [
    "#서준이의 음악, 체육 값\n",
    "c = df.loc['서준', ['음악', '체육']]\n",
    "print(c)\n",
    "print('\\n')\n",
    "\n",
    "d = df.iloc[0, [2,3]]\n",
    "print(d)\n",
    "print('\\n')\n",
    "\n",
    "e = df.loc['서준', '음악':'체육']\n",
    "print(e) \n",
    "print('\\n')\n",
    "\n",
    "f = df.iloc[0,2:]\n",
    "print(f) \n",
    "print('\\n')\n"
   ]
  },
  {
   "cell_type": "code",
   "execution_count": 79,
   "id": "81421736",
   "metadata": {},
   "outputs": [
    {
     "name": "stdout",
     "output_type": "stream",
     "text": [
      "    음악   체육\n",
      "이름         \n",
      "서준  85  100\n",
      "우현  95   90\n",
      "\n",
      "\n",
      "    음악   체육\n",
      "이름         \n",
      "서준  85  100\n",
      "우현  95   90\n",
      "\n",
      "\n",
      "    음악   체육\n",
      "이름         \n",
      "서준  85  100\n",
      "우현  95   90\n",
      "\n",
      "\n",
      "    음악   체육\n",
      "이름         \n",
      "서준  85  100\n",
      "우현  95   90\n",
      "\n",
      "\n"
     ]
    }
   ],
   "source": [
    "c = df.loc[ ['서준', '우현'], ['음악', '체육']]\n",
    "print(c)\n",
    "print('\\n')\n",
    "\n",
    "d = df.iloc[[0,1], [2,3]]\n",
    "print(d)\n",
    "print('\\n')\n",
    "\n",
    "e = df.loc['서준':'우현', '음악':'체육']\n",
    "print(e) \n",
    "print('\\n')\n",
    "\n",
    "f = df.iloc[:2,2:]\n",
    "print(f) \n",
    "print('\\n')"
   ]
  },
  {
   "cell_type": "markdown",
   "id": "b47f3c92",
   "metadata": {},
   "source": [
    "* add(추가)"
   ]
  },
  {
   "cell_type": "code",
   "execution_count": 84,
   "id": "1827801a",
   "metadata": {},
   "outputs": [
    {
     "name": "stdout",
     "output_type": "stream",
     "text": [
      "   이름  수학  영어   음악   체육  국어\n",
      "0  서준  90  98   85  100  80\n",
      "1  우현  80  89   95   90  80\n",
      "2  인아  70  95  100   90  80\n"
     ]
    }
   ],
   "source": [
    "# 열 추가\n",
    "import pandas as pd \n",
    "\n",
    "exam_data = {'이름': ['서준', '우현', '인아'], \n",
    "             '수학': [ 90,80,70], \n",
    "             '영어': [98,89,95], \n",
    "             '음악': [85,95,100], \n",
    "             '체육': [100,90,90] }\n",
    "\n",
    "df= pd.DataFrame(exam_data)\n",
    "\n",
    "df['국어'] = '80'\n",
    "print(df)\n"
   ]
  },
  {
   "cell_type": "code",
   "execution_count": 86,
   "id": "0eec6613",
   "metadata": {},
   "outputs": [
    {
     "name": "stdout",
     "output_type": "stream",
     "text": [
      "   이름  수학  영어   음악   체육\n",
      "0  서준  90  98   85  100\n",
      "1  우현  80  89   95   90\n",
      "2  인아  70  95  100   90\n",
      "3   0   0   0    0    0\n",
      "\n",
      "\n",
      "   이름  수학   영어   음악   체육\n",
      "0  서준  90   98   85  100\n",
      "1  우현  80   89   95   90\n",
      "2  인아  70   95  100   90\n",
      "3   0   0    0    0    0\n",
      "4  동규  90  100   70   90\n",
      "\n",
      "\n",
      "    이름  수학   영어   음악   체육\n",
      "0   서준  90   98   85  100\n",
      "1   우현  80   89   95   90\n",
      "2   인아  70   95  100   90\n",
      "3    0   0    0    0    0\n",
      "4   동규  90  100   70   90\n",
      "행5   0   0    0    0    0\n"
     ]
    }
   ],
   "source": [
    "# 행 추가\n",
    "import pandas as pd \n",
    "\n",
    "exam_data = {'이름': ['서준', '우현', '인아'], \n",
    "             '수학': [ 90,80,70], \n",
    "             '영어': [98,89,95], \n",
    "             '음악': [85,95,100], \n",
    "             '체육': [100,90,90] }\n",
    "\n",
    "df= pd.DataFrame(exam_data)\n",
    "\n",
    "#새로운 행을 추가 - 같은 원소값을 입력 \n",
    "df.loc[3] = 0\n",
    "print(df)\n",
    "print('\\n')\n",
    "\n",
    "#새로운 행을 추가 - 원소 값 여러개의 배열 입력 \n",
    "df.loc[4] = ['동규', 90,100,70,90]\n",
    "print(df)\n",
    "print('\\n')\n",
    "\n",
    "#새로운 행을 추가 - 기존 행을 복사\n",
    "df.loc['행5'] = df.loc[3]\n",
    "print(df)\n"
   ]
  },
  {
   "cell_type": "markdown",
   "id": "379e3ae0",
   "metadata": {},
   "source": [
    "* modify 수정"
   ]
  },
  {
   "cell_type": "code",
   "execution_count": 24,
   "id": "61879027",
   "metadata": {},
   "outputs": [
    {
     "name": "stdout",
     "output_type": "stream",
     "text": [
      "    수학  영어   음악   체육\n",
      "이름                  \n",
      "서준  90  98   85  100\n",
      "우현  80  89   95   90\n",
      "인아  70  95  100   90\n",
      "\n",
      "\n",
      "    수학  영어   음악  체육\n",
      "이름                 \n",
      "서준  90  98   85  80\n",
      "우현  80  89   95  90\n",
      "인아  70  95  100  90\n",
      "\n",
      "\n",
      "    수학  영어   음악  체육\n",
      "이름                 \n",
      "서준  90  98   85  90\n",
      "우현  80  89   95  90\n",
      "인아  70  95  100  90\n",
      "\n",
      "\n",
      "    수학  영어   음악  체육\n",
      "이름                 \n",
      "서준  90  98   50  50\n",
      "우현  80  89   95  90\n",
      "인아  70  95  100  90\n",
      "\n",
      "\n",
      "    수학  영어   음악  체육\n",
      "이름                 \n",
      "서준  90  98  100  50\n",
      "우현  80  89   95  90\n",
      "인아  70  95  100  90\n",
      "\n",
      "\n"
     ]
    }
   ],
   "source": [
    "import warnings\n",
    "warnings.filterwarnings(\"ignore\")\n",
    "import pandas as pd \n",
    "\n",
    "exam_data = {'이름': ['서준', '우현', '인아'], \n",
    "             '수학': [ 90,80,70], \n",
    "             '영어': [98,89,95], \n",
    "             '음악': [85,95,100], \n",
    "             '체육': [100,90,90] }\n",
    "\n",
    "df= pd.DataFrame(exam_data)\n",
    "\n",
    "df.set_index('이름', inplace=True) \n",
    "# inplace = T ; 변경된 내용을 원본 데이터로 저장. \n",
    "# F ; 변경된 내용을 별도 저장 ( 원본 데이터 유지 )\n",
    "\n",
    "print(df)\n",
    "print('\\n')\n",
    "\n",
    "df.iloc[0][3] = 80 \n",
    "print(df)\n",
    "print('\\n')\n",
    "\n",
    "df.loc['서준']['체육'] = 90 \n",
    "print(df)\n",
    "print('\\n')\n",
    "\n",
    "df.loc['서준', ['음악', '체육']] = 50 \n",
    "print(df)\n",
    "print('\\n')\n",
    "\n",
    "df.loc['서준', ['음악', '체육']] = 100, 50 \n",
    "print(df)\n",
    "print('\\n')\n"
   ]
  },
  {
   "cell_type": "markdown",
   "id": "538cb8bc",
   "metadata": {},
   "source": [
    "* transpose : 행열 위치 바꾸기 "
   ]
  },
  {
   "cell_type": "code",
   "execution_count": 1,
   "id": "bad24419",
   "metadata": {},
   "outputs": [
    {
     "name": "stdout",
     "output_type": "stream",
     "text": [
      "   이름  수학  영어   음악   체육\n",
      "0  서준  90  98   85  100\n",
      "1  우현  80  89   95   90\n",
      "2  인아  70  95  100   90\n",
      "\n",
      "\n",
      "      0   1    2\n",
      "이름   서준  우현   인아\n",
      "수학   90  80   70\n",
      "영어   98  89   95\n",
      "음악   85  95  100\n",
      "체육  100  90   90\n",
      "\n",
      "\n",
      "   이름  수학  영어   음악   체육\n",
      "0  서준  90  98   85  100\n",
      "1  우현  80  89   95   90\n",
      "2  인아  70  95  100   90\n"
     ]
    }
   ],
   "source": [
    "import pandas as pd \n",
    "\n",
    "exam_data = {'이름': ['서준', '우현', '인아'], \n",
    "             '수학': [ 90,80,70], \n",
    "             '영어': [98,89,95], \n",
    "             '음악': [85,95,100], \n",
    "             '체육': [100,90,90] }\n",
    "\n",
    "df= pd.DataFrame(exam_data)\n",
    "print(df)\n",
    "print('\\n')\n",
    "\n",
    "#데이터프레임 df를 전치하기 (메소드 활용) \n",
    "df= df.transpose()\n",
    "print(df)\n",
    "print('\\n')\n",
    "\n",
    "#데이터프레임 df를 다시 전치하기 (클래스 속성 활용)\n",
    "df = df.T\n",
    "print(df)"
   ]
  },
  {
   "cell_type": "markdown",
   "id": "3e14a72e",
   "metadata": {},
   "source": [
    "* set_index"
   ]
  },
  {
   "cell_type": "code",
   "execution_count": 16,
   "id": "0e0a7928",
   "metadata": {},
   "outputs": [
    {
     "name": "stdout",
     "output_type": "stream",
     "text": [
      "   이름  수학  영어   음악   체육\n",
      "0  서준  90  98   85  100\n",
      "1  우현  80  89   95   90\n",
      "2  인아  70  95  100   90\n",
      "\n",
      "\n",
      "    수학  영어   음악   체육\n",
      "이름                  \n",
      "서준  90  98   85  100\n",
      "우현  80  89   95   90\n",
      "인아  70  95  100   90\n",
      "\n",
      "\n",
      "   이름  수학  영어   음악   체육\n",
      "0  서준  90  98   85  100\n",
      "1  우현  80  89   95   90\n",
      "2  인아  70  95  100   90\n"
     ]
    }
   ],
   "source": [
    "import pandas as pd \n",
    "\n",
    "exam_data = {'이름': ['서준', '우현', '인아'], \n",
    "             '수학': [ 90,80,70], \n",
    "             '영어': [98,89,95], \n",
    "             '음악': [85,95,100], \n",
    "             '체육': [100,90,90] }\n",
    "\n",
    "df= pd.DataFrame(exam_data)\n",
    "print(df)\n",
    "print('\\n')\n",
    "\n",
    "ndf = df.set_index(['이름']) # 원본 데이터 변경이 안되고 return 값으로 처리해야 함.\n",
    "print(ndf)\n",
    "print('\\n')\n",
    "print(df)"
   ]
  },
  {
   "cell_type": "code",
   "execution_count": 21,
   "id": "89cd26d1",
   "metadata": {},
   "outputs": [
    {
     "name": "stdout",
     "output_type": "stream",
     "text": [
      "    수학  영어   음악   체육\n",
      "이름                  \n",
      "서준  90  98   85  100\n",
      "우현  80  89   95   90\n",
      "인아  70  95  100   90\n",
      "\n",
      "\n",
      "     수학  영어   체육\n",
      "음악              \n",
      "85   90  98  100\n",
      "95   80  89   90\n",
      "100  70  95   90\n",
      "\n",
      "\n",
      "        영어   체육\n",
      "수학 음악          \n",
      "90 85   98  100\n",
      "80 95   89   90\n",
      "70 100  95   90\n",
      "\n",
      "\n"
     ]
    }
   ],
   "source": [
    "ndf = df.set_index(['이름'])\n",
    "print(ndf)\n",
    "print('\\n')\n",
    "\n",
    "ndf2 = ndf.set_index('음악')\n",
    "print(ndf2)\n",
    "print('\\n')\n",
    "\n",
    "# 멀티 인덱스\n",
    "ndf3 = ndf.set_index(['수학', '음악'])\n",
    "print(ndf3)\n",
    "print('\\n')\n",
    "\n"
   ]
  },
  {
   "cell_type": "markdown",
   "id": "459b53dc",
   "metadata": {},
   "source": [
    "* reindex"
   ]
  },
  {
   "cell_type": "code",
   "execution_count": 28,
   "id": "50412e20",
   "metadata": {},
   "outputs": [
    {
     "name": "stdout",
     "output_type": "stream",
     "text": [
      "    c0  c1  c2  c3  c4\n",
      "r0   1   4   7  10  13\n",
      "r1   2   5   8  11  14\n",
      "r2   3   6   9  12  15\n",
      "\n",
      "\n"
     ]
    }
   ],
   "source": [
    "import pandas as pd \n",
    "\n",
    "dict_data = {'c0':[1,2,3],'c1':[4,5,6], 'c2':[7,8,9], 'c3':[10,11,12], 'c4':[13,14,15]  }\n",
    "\n",
    "#딕셔너리를 데이터프레임으로 변환. 인덱스를 [r0,r1,r2]로 지정\n",
    "\n",
    "df = pd.DataFrame(dict_data,  index=['r0','r1','r2'])\n",
    "print(df)\n",
    "print('\\n')"
   ]
  },
  {
   "cell_type": "code",
   "execution_count": 29,
   "id": "20e432b2",
   "metadata": {},
   "outputs": [
    {
     "name": "stdout",
     "output_type": "stream",
     "text": [
      "     c0   c1   c2    c3    c4\n",
      "r0  1.0  4.0  7.0  10.0  13.0\n",
      "r1  2.0  5.0  8.0  11.0  14.0\n",
      "r2  3.0  6.0  9.0  12.0  15.0\n",
      "r3  NaN  NaN  NaN   NaN   NaN\n",
      "r4  NaN  NaN  NaN   NaN   NaN\n",
      "\n",
      "\n",
      "    c0  c1  c2  c3  c4\n",
      "r0   1   4   7  10  13\n",
      "r1   2   5   8  11  14\n",
      "r2   3   6   9  12  15\n",
      "r3   0   0   0   0   0\n",
      "r4   0   0   0   0   0\n",
      "\n",
      "\n"
     ]
    }
   ],
   "source": [
    "# 인덱스를 [r0,r1,r2,r3,r4]로 재 지정\n",
    "\n",
    "new_index= ['r0','r1', 'r2', 'r3' ,'r4']\n",
    "ndf = df.reindex(new_index)\n",
    "print(ndf)\n",
    "print('\\n')\n",
    "\n",
    "# 아웃 풋을 0으로 짖ㅇ. \n",
    "new_index= ['r0','r1', 'r2', 'r3' ,'r4']\n",
    "ndf = df.reindex(new_index, fill_value=0 )\n",
    "print(ndf)\n",
    "print('\\n')"
   ]
  },
  {
   "cell_type": "code",
   "execution_count": 30,
   "id": "7c49cbb8",
   "metadata": {},
   "outputs": [
    {
     "data": {
      "text/html": [
       "<div>\n",
       "<style scoped>\n",
       "    .dataframe tbody tr th:only-of-type {\n",
       "        vertical-align: middle;\n",
       "    }\n",
       "\n",
       "    .dataframe tbody tr th {\n",
       "        vertical-align: top;\n",
       "    }\n",
       "\n",
       "    .dataframe thead th {\n",
       "        text-align: right;\n",
       "    }\n",
       "</style>\n",
       "<table border=\"1\" class=\"dataframe\">\n",
       "  <thead>\n",
       "    <tr style=\"text-align: right;\">\n",
       "      <th></th>\n",
       "      <th>c0</th>\n",
       "      <th>c1</th>\n",
       "      <th>c2</th>\n",
       "      <th>c3</th>\n",
       "      <th>c4</th>\n",
       "    </tr>\n",
       "  </thead>\n",
       "  <tbody>\n",
       "    <tr>\n",
       "      <th>r0</th>\n",
       "      <td>1</td>\n",
       "      <td>4</td>\n",
       "      <td>7</td>\n",
       "      <td>10</td>\n",
       "      <td>13</td>\n",
       "    </tr>\n",
       "    <tr>\n",
       "      <th>r1</th>\n",
       "      <td>2</td>\n",
       "      <td>5</td>\n",
       "      <td>8</td>\n",
       "      <td>11</td>\n",
       "      <td>14</td>\n",
       "    </tr>\n",
       "    <tr>\n",
       "      <th>r2</th>\n",
       "      <td>3</td>\n",
       "      <td>6</td>\n",
       "      <td>9</td>\n",
       "      <td>12</td>\n",
       "      <td>15</td>\n",
       "    </tr>\n",
       "  </tbody>\n",
       "</table>\n",
       "</div>"
      ],
      "text/plain": [
       "    c0  c1  c2  c3  c4\n",
       "r0   1   4   7  10  13\n",
       "r1   2   5   8  11  14\n",
       "r2   3   6   9  12  15"
      ]
     },
     "execution_count": 30,
     "metadata": {},
     "output_type": "execute_result"
    }
   ],
   "source": [
    "df"
   ]
  },
  {
   "cell_type": "code",
   "execution_count": 31,
   "id": "3078ae41",
   "metadata": {},
   "outputs": [
    {
     "name": "stdout",
     "output_type": "stream",
     "text": [
      "  index  c0  c1  c2  c3  c4\n",
      "0    r0   1   4   7  10  13\n",
      "1    r1   2   5   8  11  14\n",
      "2    r2   3   6   9  12  15\n"
     ]
    }
   ],
   "source": [
    "# 행 인덱스를 정수형으로 초기화\n",
    "\n",
    "ndf = df.reset_index()\n",
    "print(ndf)"
   ]
  },
  {
   "cell_type": "markdown",
   "id": "f14a6917",
   "metadata": {},
   "source": [
    "* sort"
   ]
  },
  {
   "cell_type": "code",
   "execution_count": 32,
   "id": "13cdb8ed",
   "metadata": {},
   "outputs": [
    {
     "name": "stdout",
     "output_type": "stream",
     "text": [
      "    c0  c1  c2  c3  c4\n",
      "r0   1   4   7  10  13\n",
      "r1   2   5   8  11  14\n",
      "r2   3   6   9  12  15\n",
      "\n",
      "\n"
     ]
    }
   ],
   "source": [
    "import pandas as pd \n",
    "\n",
    "dict_data = {'c0':[1,2,3],'c1':[4,5,6], 'c2':[7,8,9], 'c3':[10,11,12], 'c4':[13,14,15]  }\n",
    "\n",
    "#딕셔너리를 데이터프레임으로 변환. 인덱스를 [r0,r1,r2]로 지정\n",
    "\n",
    "df = pd.DataFrame(dict_data,  index=['r0','r1','r2'])\n",
    "print(df)\n",
    "print('\\n')"
   ]
  },
  {
   "cell_type": "code",
   "execution_count": 34,
   "id": "a61af495",
   "metadata": {},
   "outputs": [
    {
     "name": "stdout",
     "output_type": "stream",
     "text": [
      "    c0  c1  c2  c3  c4\n",
      "r0   1   4   7  10  13\n",
      "r1   2   5   8  11  14\n",
      "r2   3   6   9  12  15\n"
     ]
    }
   ],
   "source": [
    "# 기본으로 오름차순 (ascending= True )\n",
    "ndf = df.sort_index()\n",
    "print(ndf)"
   ]
  },
  {
   "cell_type": "code",
   "execution_count": 35,
   "id": "1afef4e9",
   "metadata": {},
   "outputs": [
    {
     "name": "stdout",
     "output_type": "stream",
     "text": [
      "    c0  c1  c2  c3  c4\n",
      "r2   3   6   9  12  15\n",
      "r1   2   5   8  11  14\n",
      "r0   1   4   7  10  13\n"
     ]
    }
   ],
   "source": [
    "#내림차순으로 행 인덱스 정렬 \n",
    "\n",
    "ndf = df.sort_index(ascending= False)\n",
    "print(ndf)"
   ]
  },
  {
   "cell_type": "code",
   "execution_count": 36,
   "id": "6f36c4ae",
   "metadata": {},
   "outputs": [
    {
     "name": "stdout",
     "output_type": "stream",
     "text": [
      "    c0  c1  c2  c3  c4\n",
      "r2   3   6   9  12  15\n",
      "r1   2   5   8  11  14\n",
      "r0   1   4   7  10  13\n"
     ]
    }
   ],
   "source": [
    "# c1 열을 기준으로 내림차순 정렬 \n",
    "\n",
    "ndf = df.sort_values(by = 'c1', ascending= False)\n",
    "print(ndf)"
   ]
  },
  {
   "cell_type": "markdown",
   "id": "d7102715",
   "metadata": {},
   "source": [
    "* series 연산"
   ]
  },
  {
   "cell_type": "code",
   "execution_count": 37,
   "id": "5e1657f8",
   "metadata": {},
   "outputs": [
    {
     "name": "stdout",
     "output_type": "stream",
     "text": [
      "국어    100\n",
      "영어     80\n",
      "수학     90\n",
      "dtype: int64\n",
      "\n",
      "\n",
      "국어    0.50\n",
      "영어    0.40\n",
      "수학    0.45\n",
      "dtype: float64\n",
      "\n",
      "\n",
      "<class 'pandas.core.series.Series'>\n"
     ]
    }
   ],
   "source": [
    "import pandas as pd \n",
    "\n",
    "student1 = pd.Series({'국어':100, '영어':80, '수학':90})\n",
    "print(student1)\n",
    "print('\\n')\n",
    "\n",
    "percentage = student1/200\n",
    "\n",
    "print(percentage)\n",
    "print('\\n')\n",
    "print(type(percentage))"
   ]
  },
  {
   "cell_type": "code",
   "execution_count": 58,
   "id": "fbf43939",
   "metadata": {},
   "outputs": [
    {
     "name": "stdout",
     "output_type": "stream",
     "text": [
      "<class 'pandas.core.series.Series'>\n",
      "              국어        수학      영어\n",
      "덧셈    190.000000   170.000   160.0\n",
      "뺄셈     10.000000    10.000     0.0\n",
      "곱셈   9000.000000  7200.000  6400.0\n",
      "나눗셈     1.111111     1.125     1.0\n"
     ]
    }
   ],
   "source": [
    "import pandas as pd \n",
    "\n",
    "student1 = pd.Series({'국어':100, '영어':80, '수학':90})\n",
    "student2 = pd.Series({'수학': 80, '국어':90, '영어':80})\n",
    "\n",
    "addition = student1 + student2\n",
    "subtraction = student1 - student2  \n",
    "multiplication = student1 * student2  \n",
    "division = student1 / student2 # float으로 결과 값이 나옴. \n",
    "print(type(division)) \n",
    "\n",
    "#사칙연산 결과를 데이터프레임으로 합치기(시리즈 -> 데이터프레임)\n",
    "\n",
    "\n",
    "result = pd.DataFrame([addition, subtraction, multiplication, division], \n",
    "                    index=['덧셈', '뺄셈', '곱셈', '나눗셈'])\n",
    "print(result)"
   ]
  },
  {
   "cell_type": "code",
   "execution_count": 59,
   "id": "c0c08233",
   "metadata": {},
   "outputs": [
    {
     "name": "stdout",
     "output_type": "stream",
     "text": [
      "국어     NaN\n",
      "영어    80.0\n",
      "수학    90.0\n",
      "dtype: float64\n",
      "\n",
      "\n",
      "수학    80\n",
      "국어    90\n",
      "dtype: int64\n",
      "\n",
      "\n"
     ]
    }
   ],
   "source": [
    "import pandas as pd \n",
    "import numpy as np\n",
    "\n",
    "student1 = pd.Series({'국어':np.nan, '영어':80, '수학':90})\n",
    "student2 = pd.Series({'수학': 80, '국어':90, })\n",
    "\n",
    "print(student1)\n",
    "print('\\n')\n",
    "print(student2)\n",
    "print('\\n')"
   ]
  },
  {
   "cell_type": "code",
   "execution_count": 60,
   "id": "0d507a11",
   "metadata": {},
   "outputs": [
    {
     "name": "stdout",
     "output_type": "stream",
     "text": [
      "       국어        수학    영어\n",
      "덧셈   90.0   170.000  80.0\n",
      "뺄셈    0.0     1.125   inf\n",
      "곱셈    0.0  7200.000   0.0\n",
      "나눗셈   0.0     1.125   inf\n"
     ]
    }
   ],
   "source": [
    "sr_add = student1.add(student2, fill_value=0) #덧셈\n",
    "sr_sub = student1.sub(student2, fill_value=0) #뺄셈\n",
    "sr_mul = student1.mul(student2, fill_value=0) #곱셈\n",
    "sr_div = student1.div(student2, fill_value=0) #나눗셈\n",
    "\n",
    "result = pd.DataFrame([sr_add ,sr_div, sr_mul, sr_div], \n",
    "                    index=['덧셈', '뺄셈', '곱셈', '나눗셈'])\n",
    "print(result)"
   ]
  },
  {
   "cell_type": "markdown",
   "id": "c3a283e2",
   "metadata": {},
   "source": [
    "* DataFrame 연산"
   ]
  },
  {
   "cell_type": "code",
   "execution_count": 87,
   "id": "aae5a65f",
   "metadata": {},
   "outputs": [],
   "source": [
    "# !pip install seaborn"
   ]
  },
  {
   "cell_type": "code",
   "execution_count": 72,
   "id": "a5b7efc8",
   "metadata": {},
   "outputs": [
    {
     "name": "stdout",
     "output_type": "stream",
     "text": [
      "<class 'pandas.core.frame.DataFrame'>\n",
      "   survived  pclass     sex   age  sibsp  parch     fare embarked  class  \\\n",
      "0         0       3    male  22.0      1      0   7.2500        S  Third   \n",
      "1         1       1  female  38.0      1      0  71.2833        C  First   \n",
      "2         1       3  female  26.0      0      0   7.9250        S  Third   \n",
      "3         1       1  female  35.0      1      0  53.1000        S  First   \n",
      "4         0       3    male  35.0      0      0   8.0500        S  Third   \n",
      "\n",
      "     who  adult_male deck  embark_town alive  alone  \n",
      "0    man        True  NaN  Southampton    no  False  \n",
      "1  woman       False    C    Cherbourg   yes  False  \n",
      "2  woman       False  NaN  Southampton   yes   True  \n",
      "3  woman       False    C  Southampton   yes  False  \n",
      "4    man        True  NaN  Southampton    no   True  \n",
      "--------------------------------------------------------------------------------\n",
      "     survived  pclass     sex   age  sibsp  parch   fare embarked   class  \\\n",
      "886         0       2    male  27.0      0      0  13.00        S  Second   \n",
      "887         1       1  female  19.0      0      0  30.00        S   First   \n",
      "888         0       3  female   NaN      1      2  23.45        S   Third   \n",
      "889         1       1    male  26.0      0      0  30.00        C   First   \n",
      "890         0       3    male  32.0      0      0   7.75        Q   Third   \n",
      "\n",
      "       who  adult_male deck  embark_town alive  alone  \n",
      "886    man        True  NaN  Southampton    no   True  \n",
      "887  woman       False    B  Southampton   yes   True  \n",
      "888  woman       False  NaN  Southampton    no  False  \n",
      "889    man        True    C    Cherbourg   yes   True  \n",
      "890    man        True  NaN   Queenstown    no   True  \n"
     ]
    }
   ],
   "source": [
    "import matplotlib.pyplot as plt \n",
    "import seaborn as sns \n",
    "\n",
    "titanic = sns.load_dataset('titanic')\n",
    "print(type(titanic))\n",
    "print(titanic.head()) # 기본 5개\n",
    "print('-' * 80)\n",
    "print(titanic.tail())\n",
    "# fig = plt.figure( figsize=(15,5))\n"
   ]
  },
  {
   "cell_type": "code",
   "execution_count": 81,
   "id": "9657f5f8",
   "metadata": {},
   "outputs": [
    {
     "data": {
      "text/html": [
       "<div>\n",
       "<style scoped>\n",
       "    .dataframe tbody tr th:only-of-type {\n",
       "        vertical-align: middle;\n",
       "    }\n",
       "\n",
       "    .dataframe tbody tr th {\n",
       "        vertical-align: top;\n",
       "    }\n",
       "\n",
       "    .dataframe thead th {\n",
       "        text-align: right;\n",
       "    }\n",
       "</style>\n",
       "<table border=\"1\" class=\"dataframe\">\n",
       "  <thead>\n",
       "    <tr style=\"text-align: right;\">\n",
       "      <th></th>\n",
       "      <th>age</th>\n",
       "      <th>fare</th>\n",
       "    </tr>\n",
       "  </thead>\n",
       "  <tbody>\n",
       "    <tr>\n",
       "      <th>0</th>\n",
       "      <td>22.0</td>\n",
       "      <td>7.2500</td>\n",
       "    </tr>\n",
       "    <tr>\n",
       "      <th>1</th>\n",
       "      <td>38.0</td>\n",
       "      <td>71.2833</td>\n",
       "    </tr>\n",
       "    <tr>\n",
       "      <th>2</th>\n",
       "      <td>26.0</td>\n",
       "      <td>7.9250</td>\n",
       "    </tr>\n",
       "    <tr>\n",
       "      <th>3</th>\n",
       "      <td>35.0</td>\n",
       "      <td>53.1000</td>\n",
       "    </tr>\n",
       "    <tr>\n",
       "      <th>4</th>\n",
       "      <td>35.0</td>\n",
       "      <td>8.0500</td>\n",
       "    </tr>\n",
       "  </tbody>\n",
       "</table>\n",
       "</div>"
      ],
      "text/plain": [
       "    age     fare\n",
       "0  22.0   7.2500\n",
       "1  38.0  71.2833\n",
       "2  26.0   7.9250\n",
       "3  35.0  53.1000\n",
       "4  35.0   8.0500"
      ]
     },
     "execution_count": 81,
     "metadata": {},
     "output_type": "execute_result"
    }
   ],
   "source": [
    "# age, fare 열만 뽑기  \n",
    "df = titanic.loc[:, ['age','fare']] #모든 행, []특정 열 \n",
    "df.head()"
   ]
  },
  {
   "cell_type": "code",
   "execution_count": 85,
   "id": "27f17875",
   "metadata": {},
   "outputs": [
    {
     "data": {
      "text/html": [
       "<div>\n",
       "<style scoped>\n",
       "    .dataframe tbody tr th:only-of-type {\n",
       "        vertical-align: middle;\n",
       "    }\n",
       "\n",
       "    .dataframe tbody tr th {\n",
       "        vertical-align: top;\n",
       "    }\n",
       "\n",
       "    .dataframe thead th {\n",
       "        text-align: right;\n",
       "    }\n",
       "</style>\n",
       "<table border=\"1\" class=\"dataframe\">\n",
       "  <thead>\n",
       "    <tr style=\"text-align: right;\">\n",
       "      <th></th>\n",
       "      <th>age</th>\n",
       "      <th>fare</th>\n",
       "    </tr>\n",
       "  </thead>\n",
       "  <tbody>\n",
       "    <tr>\n",
       "      <th>0</th>\n",
       "      <td>32.0</td>\n",
       "      <td>17.2500</td>\n",
       "    </tr>\n",
       "    <tr>\n",
       "      <th>1</th>\n",
       "      <td>48.0</td>\n",
       "      <td>81.2833</td>\n",
       "    </tr>\n",
       "    <tr>\n",
       "      <th>2</th>\n",
       "      <td>36.0</td>\n",
       "      <td>17.9250</td>\n",
       "    </tr>\n",
       "    <tr>\n",
       "      <th>3</th>\n",
       "      <td>45.0</td>\n",
       "      <td>63.1000</td>\n",
       "    </tr>\n",
       "    <tr>\n",
       "      <th>4</th>\n",
       "      <td>45.0</td>\n",
       "      <td>18.0500</td>\n",
       "    </tr>\n",
       "  </tbody>\n",
       "</table>\n",
       "</div>"
      ],
      "text/plain": [
       "    age     fare\n",
       "0  32.0  17.2500\n",
       "1  48.0  81.2833\n",
       "2  36.0  17.9250\n",
       "3  45.0  63.1000\n",
       "4  45.0  18.0500"
      ]
     },
     "execution_count": 85,
     "metadata": {},
     "output_type": "execute_result"
    }
   ],
   "source": [
    "#모든 요소에 10을 더할거래. \n",
    "addition = df + 10 \n",
    "addition.head()"
   ]
  },
  {
   "cell_type": "code",
   "execution_count": 86,
   "id": "ff686a05",
   "metadata": {},
   "outputs": [
    {
     "data": {
      "text/html": [
       "<div>\n",
       "<style scoped>\n",
       "    .dataframe tbody tr th:only-of-type {\n",
       "        vertical-align: middle;\n",
       "    }\n",
       "\n",
       "    .dataframe tbody tr th {\n",
       "        vertical-align: top;\n",
       "    }\n",
       "\n",
       "    .dataframe thead th {\n",
       "        text-align: right;\n",
       "    }\n",
       "</style>\n",
       "<table border=\"1\" class=\"dataframe\">\n",
       "  <thead>\n",
       "    <tr style=\"text-align: right;\">\n",
       "      <th></th>\n",
       "      <th>age</th>\n",
       "      <th>fare</th>\n",
       "    </tr>\n",
       "  </thead>\n",
       "  <tbody>\n",
       "    <tr>\n",
       "      <th>0</th>\n",
       "      <td>10.0</td>\n",
       "      <td>10.0</td>\n",
       "    </tr>\n",
       "    <tr>\n",
       "      <th>1</th>\n",
       "      <td>10.0</td>\n",
       "      <td>10.0</td>\n",
       "    </tr>\n",
       "    <tr>\n",
       "      <th>2</th>\n",
       "      <td>10.0</td>\n",
       "      <td>10.0</td>\n",
       "    </tr>\n",
       "    <tr>\n",
       "      <th>3</th>\n",
       "      <td>10.0</td>\n",
       "      <td>10.0</td>\n",
       "    </tr>\n",
       "    <tr>\n",
       "      <th>4</th>\n",
       "      <td>10.0</td>\n",
       "      <td>10.0</td>\n",
       "    </tr>\n",
       "  </tbody>\n",
       "</table>\n",
       "</div>"
      ],
      "text/plain": [
       "    age  fare\n",
       "0  10.0  10.0\n",
       "1  10.0  10.0\n",
       "2  10.0  10.0\n",
       "3  10.0  10.0\n",
       "4  10.0  10.0"
      ]
     },
     "execution_count": 86,
     "metadata": {},
     "output_type": "execute_result"
    }
   ],
   "source": [
    "subtraction = addition - df \n",
    "subtraction.head()"
   ]
  },
  {
   "cell_type": "code",
   "execution_count": null,
   "id": "49cb3e92",
   "metadata": {},
   "outputs": [],
   "source": []
  }
 ],
 "metadata": {
  "kernelspec": {
   "display_name": "base",
   "language": "python",
   "name": "python3"
  },
  "language_info": {
   "codemirror_mode": {
    "name": "ipython",
    "version": 3
   },
   "file_extension": ".py",
   "mimetype": "text/x-python",
   "name": "python",
   "nbconvert_exporter": "python",
   "pygments_lexer": "ipython3",
   "version": "3.13.5"
  }
 },
 "nbformat": 4,
 "nbformat_minor": 5
}

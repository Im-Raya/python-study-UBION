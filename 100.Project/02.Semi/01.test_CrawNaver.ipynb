{
 "cells": [
  {
   "cell_type": "code",
   "execution_count": 3,
   "id": "5336bb6c",
   "metadata": {},
   "outputs": [
    {
     "name": "stdout",
     "output_type": "stream",
     "text": [
      "2025.08.22 | 종가:2,645 | 전일비:상승15 | 시가:2,650 | 고가:2,665 | 저가:2,630 | 거래량:148,929\n",
      "2025.08.21 | 종가:2,630 | 전일비:상승40 | 시가:2,595 | 고가:2,645 | 저가:2,585 | 거래량:272,778\n",
      "2025.08.20 | 종가:2,590 | 전일비:하락15 | 시가:2,590 | 고가:2,600 | 저가:2,535 | 거래량:594,090\n",
      "2025.08.19 | 종가:2,605 | 전일비:하락5 | 시가:2,610 | 고가:2,625 | 저가:2,570 | 거래량:274,048\n",
      "2025.08.18 | 종가:2,610 | 전일비:하락45 | 시가:2,655 | 고가:2,660 | 저가:2,610 | 거래량:283,324\n",
      "2025.08.14 | 종가:2,655 | 전일비:상승25 | 시가:2,635 | 고가:2,665 | 저가:2,625 | 거래량:305,915\n",
      "2025.08.13 | 종가:2,630 | 전일비:보합0 | 시가:2,660 | 고가:2,660 | 저가:2,605 | 거래량:371,359\n",
      "2025.08.12 | 종가:2,630 | 전일비:하락5 | 시가:2,635 | 고가:2,680 | 저가:2,620 | 거래량:487,413\n",
      "2025.08.11 | 종가:2,635 | 전일비:하락20 | 시가:2,675 | 고가:2,685 | 저가:2,632 | 거래량:352,946\n",
      "2025.08.08 | 종가:2,655 | 전일비:상승20 | 시가:2,635 | 고가:2,660 | 저가:2,635 | 거래량:243,198\n"
     ]
    }
   ],
   "source": [
    "from selenium import webdriver\n",
    "from selenium.webdriver.chrome.service import Service\n",
    "from selenium.webdriver.common.by import By\n",
    "\n",
    "service = Service()\n",
    "options = webdriver.ChromeOptions()\n",
    "driver = webdriver.Chrome(service=service, options=options)\n",
    "\n",
    "url = \"https://finance.naver.com/item/sise_day.nhn?code=001250\"\n",
    "driver.get(url)\n",
    "\n",
    "main = driver.find_element(By.CLASS_NAME, \"type2\")\n",
    "trs = main.find_elements(By.TAG_NAME, \"tr\")\n",
    "\n",
    "for tr in trs:\n",
    "    tds = tr.find_elements(By.TAG_NAME, \"td\")\n",
    "    try:\n",
    "        date = tds[0].text.strip()\n",
    "        close = tds[1].text.strip()\n",
    "        diff = tds[2].text.strip().replace(\"\\n\", \"\")\n",
    "        start = tds[3].text.strip()\n",
    "        high = tds[4].text.strip()\n",
    "        low = tds[5].text.strip()\n",
    "        volume = tds[6].text.strip()\n",
    "        print(f\"{date} | 종가:{close} | 전일비:{diff} | 시가:{start} | 고가:{high} | 저가:{low} | 거래량:{volume}\")\n",
    "    except:\n",
    "        pass\n",
    "\n",
    "driver.quit()"
   ]
  },
  {
   "cell_type": "code",
   "execution_count": null,
   "id": "09018e98",
   "metadata": {},
   "outputs": [
    {
     "name": "stdout",
     "output_type": "stream",
     "text": [
      "2025.08.22\t249,750\t상승\t4,750\t245,500\t250,750\t245,500\t1,592,115\n",
      "2025.08.21\t245,000\t하락\t10,500\t246,500\t251,000\t245,000\t6,301,130\n",
      "2025.08.20\t255,500\t하락\t7,500\t254,500\t257,000\t251,000\t3,571,545\n",
      "2025.08.19\t263,000\t하락\t4,500\t268,500\t270,000\t261,500\t1,709,646\n",
      "2025.08.18\t267,500\t하락\t9,000\t272,000\t272,000\t267,000\t1,993,220\n",
      "2025.08.14\t276,500\t하락\t1,500\t277,500\t277,500\t270,500\t2,101,050\n",
      "2025.08.13\t278,000\t상승\t9,000\t278,000\t279,000\t274,000\t3,472,694\n",
      "2025.08.12\t269,000\t상승\t2,000\t268,000\t276,000\t267,500\t3,008,648\n",
      "2025.08.11\t267,000\t상승\t10,500\t260,500\t267,500\t260,000\t2,415,473\n",
      "2025.08.08\t256,500\t하락\t5,500\t262,000\t266,000\t255,500\t2,676,174\n"
     ]
    }
   ],
   "source": [
    "import requests\n",
    "from bs4 import BeautifulSoup\n",
    "url = f\"http://finance.naver.com/item/sise_day.nhn?code=000660\"\n",
    "res = requests.get(url, headers={'User-agent': 'Mozilla/5.0'})\n",
    "res.raise_for_status()\n",
    "\n",
    "soup = BeautifulSoup(res.text, \"html.parser\")\n",
    "table = soup.find(\"table\")\n",
    "trs = table.find_all(\"tr\")\n",
    "\n",
    "\n",
    "# len(trs)\n",
    "for tr in trs:\n",
    "    tds = tr.find_all(\"td\")\n",
    "    row = []\n",
    "    for td in tds:\n",
    "        text = td.text.strip()\n",
    "        \n",
    "        if text:\n",
    "            parts = text.split()\n",
    "            row.extend(parts)\n",
    "            \n",
    "    # print(row)\n",
    "    # print(\"=\" * 50)\n",
    "    if row:\n",
    "        print(\"\\t\".join(row))"
   ]
  },
  {
   "cell_type": "code",
   "execution_count": null,
   "id": "56a49d6e",
   "metadata": {},
   "outputs": [],
   "source": []
  }
 ],
 "metadata": {
  "kernelspec": {
   "display_name": "base",
   "language": "python",
   "name": "python3"
  },
  "language_info": {
   "codemirror_mode": {
    "name": "ipython",
    "version": 3
   },
   "file_extension": ".py",
   "mimetype": "text/x-python",
   "name": "python",
   "nbconvert_exporter": "python",
   "pygments_lexer": "ipython3",
   "version": "3.13.5"
  }
 },
 "nbformat": 4,
 "nbformat_minor": 5
}

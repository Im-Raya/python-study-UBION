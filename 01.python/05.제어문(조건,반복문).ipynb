{
 "cells": [
  {
   "cell_type": "markdown",
   "id": "7002a3c5-4886-4ec8-9a10-5a106a12a8d4",
   "metadata": {},
   "source": [
    "### input문"
   ]
  },
  {
   "cell_type": "code",
   "execution_count": 1,
   "id": "833ca85e-31a4-4530-b7c8-8181db530942",
   "metadata": {},
   "outputs": [
    {
     "name": "stdout",
     "output_type": "stream",
     "text": [
      " 4\n"
     ]
    },
    {
     "data": {
      "text/plain": [
       "'4'"
      ]
     },
     "execution_count": 1,
     "metadata": {},
     "output_type": "execute_result"
    }
   ],
   "source": [
    "a = input()\n",
    "a \n",
    "# 숫자를 집어넣어도 스트링(문자)로 추출됨. "
   ]
  },
  {
   "cell_type": "code",
   "execution_count": 2,
   "id": "142b61d3-68da-492c-94c1-2be6ee02385b",
   "metadata": {},
   "outputs": [
    {
     "name": "stdout",
     "output_type": "stream",
     "text": [
      "값을 입력하세요: 3\n"
     ]
    },
    {
     "name": "stdout",
     "output_type": "stream",
     "text": [
      "3\n"
     ]
    }
   ],
   "source": [
    "a = input(\"값을 입력하세요:\") \n",
    "print(a)"
   ]
  },
  {
   "cell_type": "code",
   "execution_count": 3,
   "id": "fc9c1357-6697-4b65-b534-0ab8a62727e4",
   "metadata": {},
   "outputs": [
    {
     "name": "stdout",
     "output_type": "stream",
     "text": [
      "처음 숫자를 입력: 4\n",
      "두번째 숫자를 입력: 3\n"
     ]
    },
    {
     "name": "stdout",
     "output_type": "stream",
     "text": [
      "두 수의 합은 :  43 입니다.\n"
     ]
    }
   ],
   "source": [
    "a = input( \"처음 숫자를 입력:\")\n",
    "b = input(\"두번째 숫자를 입력:\")\n",
    "print(\"두 수의 합은 : \", a+b, \"입니다.\") \n",
    "# 문자열의 합으로 나와서 34가 나옴,"
   ]
  },
  {
   "cell_type": "code",
   "execution_count": 4,
   "id": "ab7fd3f8-34d4-49e5-b1d1-c7c3cf50fb30",
   "metadata": {},
   "outputs": [
    {
     "name": "stdout",
     "output_type": "stream",
     "text": [
      "처음 숫자를 입력: 43\n",
      "두번째 숫자를 입력: 3\n"
     ]
    },
    {
     "name": "stdout",
     "output_type": "stream",
     "text": [
      "두 수의 합은 :  46.0 입니다.\n"
     ]
    }
   ],
   "source": [
    "a = int(input( \"처음 숫자를 입력:\"))\n",
    "b = float(input(\"두번째 숫자를 입력:\"))\n",
    "print(\"두 수의 합은 : \", a+b, \"입니다.\") \n",
    "# int 함수 사용으로 숫자로 변겅. => 정수형 변환 (소수점 X) \n",
    "# float 함수 사용으로 숫자로 변겅. => 실수형 변환 (소수점 O) "
   ]
  },
  {
   "cell_type": "code",
   "execution_count": 5,
   "id": "39f8407d-46f9-47b5-8615-d8060784c20a",
   "metadata": {},
   "outputs": [
    {
     "name": "stdout",
     "output_type": "stream",
     "text": [
      "<class 'float'>\n"
     ]
    }
   ],
   "source": [
    "print(type(a+b))"
   ]
  },
  {
   "cell_type": "markdown",
   "id": "2eef8217-7347-4d1d-9142-ddf9af12dcc7",
   "metadata": {},
   "source": [
    "if 조건문1:\n",
    "    수행할 문장1\n",
    "    수행할 문장2\n",
    "    ...\n",
    "elif 조건문2:\n",
    "    수행할 문장3\n",
    "    수행할 문장4\n",
    "    ...\n",
    "else:\n",
    "    수행할 문장A\n",
    "    수행할 문장B\n",
    "'''"
   ]
  },
  {
   "cell_type": "code",
   "execution_count": 6,
   "id": "220a281b-5d8d-4e78-aaea-a20182a61355",
   "metadata": {},
   "outputs": [
    {
     "name": "stdout",
     "output_type": "stream",
     "text": [
      "택시를 타고 가라\n"
     ]
    }
   ],
   "source": [
    "# \"만약 3000원 이상의 돈을 가지고 있으면 택시를 타고 그렇지 않으면 걸어가라.\"\n",
    "\n",
    "money = 4000 \n",
    "\n",
    "if money >= 3000 : \n",
    "    print(\"택시를 타고 가라\")\n",
    "else :\n",
    "    print(\"걸어가라\")"
   ]
  },
  {
   "cell_type": "code",
   "execution_count": 7,
   "id": "94de6bf6-4456-4b57-af97-2954010826de",
   "metadata": {},
   "outputs": [
    {
     "name": "stdout",
     "output_type": "stream",
     "text": [
      "걸어가라\n"
     ]
    }
   ],
   "source": [
    "# \"만약 3000원 이상의 돈을 가지고 있으면 택시를 타고 그렇지 않으면 걸어가라.\"\n",
    "\n",
    "money = 2000 \n",
    "\n",
    "if money >= 3000 : \n",
    "    print(\"택시를 타고 가라\")\n",
    "else :\n",
    "    print(\"걸어가라\")"
   ]
  },
  {
   "cell_type": "code",
   "execution_count": 8,
   "id": "b271c979-7daf-4a17-852d-66e12acf34fc",
   "metadata": {},
   "outputs": [
    {
     "name": "stdout",
     "output_type": "stream",
     "text": [
      "걸어가라\n"
     ]
    }
   ],
   "source": [
    "# \"돈이 3000원 이상 있거나 카드가 있다면 택시를 타고 그렇지 않으면 걸어가라.\"\n",
    "\n",
    "money = 2000\n",
    "card = False\n",
    "\n",
    "if money >=3000 or card : \n",
    "    print(\"택시를 타고 가라\")\n",
    "else : \n",
    "    print(\"걸어가라\") "
   ]
  },
  {
   "cell_type": "code",
   "execution_count": 9,
   "id": "a14beab7-8e3c-49a9-9c7c-ba5d012a1688",
   "metadata": {},
   "outputs": [
    {
     "name": "stdout",
     "output_type": "stream",
     "text": [
      "걸어가라\n"
     ]
    }
   ],
   "source": [
    "# \"돈이 3000원 이상 있거나 카드가 있다면 택시를 타고 그렇지 않으면 걸어가라.\"\n",
    "money = 2000\n",
    "card = False\n",
    "\n",
    "if money >=3000 or card == True : \n",
    "    print(\"택시를 타고 가라\")\n",
    "else : \n",
    "    print(\"걸어가라\") "
   ]
  },
  {
   "cell_type": "code",
   "execution_count": 10,
   "id": "99be5012-f365-4a61-96d6-4bbefaeb6778",
   "metadata": {},
   "outputs": [
    {
     "name": "stdout",
     "output_type": "stream",
     "text": [
      " 200\n"
     ]
    },
    {
     "name": "stdout",
     "output_type": "stream",
     "text": [
      "걸어가라\n"
     ]
    }
   ],
   "source": [
    "# \"돈이 3000원 이상 있거나 카드가 있다면 택시를 타고 그렇지 않으면 걸어가라.\"\n",
    "# input 함수 사용 \n",
    "\n",
    "money = int(input())\n",
    "card = False\n",
    "\n",
    "if money >=3000 or card : \n",
    "    print(\"택시를 타고 가라\")\n",
    "else : \n",
    "    print(\"걸어가라\") "
   ]
  },
  {
   "cell_type": "markdown",
   "id": "1f546889-0a5d-4b9c-969d-556052ef48ca",
   "metadata": {},
   "source": [
    "##### in, not in \n",
    "* in : x in 리스트, x in 튜플, in 문자열\n",
    "* not in : x not in 리스트, x not in 튜플, x not in 문자열 "
   ]
  },
  {
   "cell_type": "code",
   "execution_count": 11,
   "id": "86bd2270-67d7-4ccb-b0ba-897a76652296",
   "metadata": {},
   "outputs": [
    {
     "data": {
      "text/plain": [
       "True"
      ]
     },
     "execution_count": 11,
     "metadata": {},
     "output_type": "execute_result"
    }
   ],
   "source": [
    "1 in [1,2,3]"
   ]
  },
  {
   "cell_type": "code",
   "execution_count": 12,
   "id": "c5619c6d-1ce3-45be-bdc3-3c138d42903c",
   "metadata": {},
   "outputs": [
    {
     "data": {
      "text/plain": [
       "False"
      ]
     },
     "execution_count": 12,
     "metadata": {},
     "output_type": "execute_result"
    }
   ],
   "source": [
    "1 not in [1,2,3]"
   ]
  },
  {
   "cell_type": "code",
   "execution_count": 13,
   "id": "57fdbe05-1869-4ab9-b03f-e1fb88f25b86",
   "metadata": {},
   "outputs": [
    {
     "data": {
      "text/plain": [
       "True"
      ]
     },
     "execution_count": 13,
     "metadata": {},
     "output_type": "execute_result"
    }
   ],
   "source": [
    "'j' not in 'python'"
   ]
  },
  {
   "cell_type": "code",
   "execution_count": 14,
   "id": "230de71f-5607-4224-af5e-d1ed52656765",
   "metadata": {},
   "outputs": [
    {
     "name": "stdout",
     "output_type": "stream",
     "text": [
      "택시를 타고 가라\n"
     ]
    }
   ],
   "source": [
    "#만약 주머니에 돈이 있으면 택시를 타고, 없으면 걸어가라.\"\n",
    "\n",
    "pocket = [ 'money' , 'cellphone', 'paper' ] \n",
    "if 'money' in pocket : \n",
    "    print(\"택시를 타고 가라\")\n",
    "else : \n",
    "    print(\"걸어가라\")"
   ]
  },
  {
   "cell_type": "code",
   "execution_count": 15,
   "id": "0908e85f-abbc-4cb2-9100-553a2d280b74",
   "metadata": {},
   "outputs": [
    {
     "name": "stdout",
     "output_type": "stream",
     "text": [
      "택시를 타고 가라\n"
     ]
    }
   ],
   "source": [
    "#만약 주머니에 돈이 있으면 택시를 타고, 없으면 걸어가라.\"\n",
    "\n",
    "pocket = [ 'money' , 'cellphone', 'paper' ] \n",
    "if 'money' not in pocket : \n",
    "    print(\"걸어가라\")\n",
    "else : \n",
    "    print(\"택시를 타고 가라\")"
   ]
  },
  {
   "cell_type": "code",
   "execution_count": 16,
   "id": "4bf4852d-b0ed-49ad-b1b4-9f70910a31c3",
   "metadata": {},
   "outputs": [],
   "source": [
    "#만약 주머니에 돈이 있으면 택시를 타고, 없으면 걸어가라.\"\n",
    "# pass : 아무것도 추출하지 않을 것. \n",
    "\n",
    "pocket = [ 'money' , 'cellphone', 'paper' ] \n",
    "if 'money' in pocket : \n",
    "    pass\n",
    "else : \n",
    "    print(\"걸어가라\")"
   ]
  },
  {
   "cell_type": "code",
   "execution_count": 17,
   "id": "228d5598-8016-4704-9ad0-672a4be41112",
   "metadata": {},
   "outputs": [],
   "source": [
    "#만약 주머니에 돈이 있으면 택시를 타고, 없으면 걸어가라.\"\n",
    "# pass : 아무것도 추출하지 않을 것. \n",
    "\n",
    "pocket = [ 'money' , 'cellphone', 'paper' ] \n",
    "if 'money' in pocket : \n",
    "    pass\n",
    "else : \n",
    "    print(\"걸어가라\")"
   ]
  },
  {
   "cell_type": "markdown",
   "id": "9da9d304-3cb8-433a-b086-3536fe1cee22",
   "metadata": {},
   "source": [
    "##### 다양한 조건 판단문"
   ]
  },
  {
   "cell_type": "code",
   "execution_count": 18,
   "id": "e2dd0796-b1b1-41ac-9bb7-746f1c633be8",
   "metadata": {},
   "outputs": [
    {
     "name": "stdout",
     "output_type": "stream",
     "text": [
      "택시를 타라\n"
     ]
    }
   ],
   "source": [
    "'''\n",
    "주머니에 돈이 있으면 택시를 타고, 주머니에 돈은 없지만 카드가 있으면 택시를 타고, \n",
    "돈도 없고 카드도 없으면 걸어가라.\"\n",
    "'''\n",
    "\n",
    "pocket = [ 'paper', 'handphone'] \n",
    "card = True\n",
    "\n",
    "if 'money' in pocket : \n",
    "    print('택시를 타라')\n",
    "else: #돈이 없음\n",
    "    if card == True : \n",
    "        print('택시를 타라') \n",
    "    else : \n",
    "        print('걸어가라')"
   ]
  },
  {
   "cell_type": "code",
   "execution_count": 19,
   "id": "f6ed5721-d043-42a7-90b6-ef646e1ee69b",
   "metadata": {},
   "outputs": [
    {
     "name": "stdout",
     "output_type": "stream",
     "text": [
      "택시를 타라\n"
     ]
    }
   ],
   "source": [
    "pocket = [ 'paper', 'handphone'] \n",
    "card = True\n",
    "\n",
    "if 'money' in pocket : \n",
    "    print('택시를 타라')\n",
    "elif card == True : \n",
    "    print('택시를 타라') \n",
    "else : \n",
    "    print('걸어가라')\n"
   ]
  },
  {
   "cell_type": "code",
   "execution_count": 20,
   "id": "fccf56a5-eb66-4e4b-b757-da8b416ca23e",
   "metadata": {},
   "outputs": [
    {
     "name": "stdout",
     "output_type": "stream",
     "text": [
      "택시를 타라\n"
     ]
    }
   ],
   "source": [
    "pocket = [ 'paper', 'handphone'] \n",
    "card = True\n",
    "\n",
    "if 'money' in pocket or card == True : \n",
    "    print('택시를 타라')\n",
    "else : \n",
    "    print('걸어가라')"
   ]
  },
  {
   "cell_type": "markdown",
   "id": "365efcd8-f88b-499b-a47d-b5c94fcf2a3d",
   "metadata": {},
   "source": [
    "##### 조건부 표현식"
   ]
  },
  {
   "cell_type": "code",
   "execution_count": 1,
   "id": "c28a5a07-eebf-4a3f-aadb-d827d4c13360",
   "metadata": {},
   "outputs": [
    {
     "data": {
      "text/plain": [
       "'success'"
      ]
     },
     "execution_count": 1,
     "metadata": {},
     "output_type": "execute_result"
    }
   ],
   "source": [
    "score = 80 \n",
    "\n",
    "if score >= 60: \n",
    "    message = \"success\"\n",
    "else : \n",
    "    message = \"failure\"\n",
    "message"
   ]
  },
  {
   "cell_type": "code",
   "execution_count": 2,
   "id": "fab6a74b-7751-439e-b53d-ea64d00e63e9",
   "metadata": {},
   "outputs": [
    {
     "data": {
      "text/plain": [
       "'success'"
      ]
     },
     "execution_count": 2,
     "metadata": {},
     "output_type": "execute_result"
    }
   ],
   "source": [
    "message = \"success\" if score >= 60 else \"failure\"\n",
    "message"
   ]
  },
  {
   "cell_type": "markdown",
   "id": "ba30fd6c-8c6e-4233-9a17-397a1a9a5953",
   "metadata": {},
   "source": [
    "### 02.반복문"
   ]
  },
  {
   "cell_type": "code",
   "execution_count": 23,
   "id": "7153bf93-5ce9-4e99-9a13-a5389a9cfb6a",
   "metadata": {},
   "outputs": [
    {
     "data": {
      "text/plain": [
       "range(0, 10)"
      ]
     },
     "execution_count": 23,
     "metadata": {},
     "output_type": "execute_result"
    }
   ],
   "source": [
    "a = range(10)\n",
    "a "
   ]
  },
  {
   "cell_type": "code",
   "execution_count": 24,
   "id": "b6f4d380-e6b5-4ab9-9acd-65aa749439c6",
   "metadata": {},
   "outputs": [
    {
     "data": {
      "text/plain": [
       "range(1, 5)"
      ]
     },
     "execution_count": 24,
     "metadata": {},
     "output_type": "execute_result"
    }
   ],
   "source": [
    "a = range(1,5)\n",
    "a"
   ]
  },
  {
   "cell_type": "code",
   "execution_count": 25,
   "id": "0021044a-7418-4589-a8cd-079b97a4da2d",
   "metadata": {},
   "outputs": [
    {
     "data": {
      "text/plain": [
       "range(1, 11)"
      ]
     },
     "execution_count": 25,
     "metadata": {},
     "output_type": "execute_result"
    }
   ],
   "source": [
    "a = range(1,11)\n",
    "a"
   ]
  },
  {
   "cell_type": "code",
   "execution_count": 26,
   "id": "f82d9c1a-d40a-4e14-8ac1-79a8e27df9ad",
   "metadata": {},
   "outputs": [
    {
     "data": {
      "text/plain": [
       "range(1, 11, 2)"
      ]
     },
     "execution_count": 26,
     "metadata": {},
     "output_type": "execute_result"
    }
   ],
   "source": [
    "a = range( 1, 11, 2) #홀수 데이터 ( 시작값, 끝값, 간격 ) \n",
    "a"
   ]
  },
  {
   "cell_type": "code",
   "execution_count": 27,
   "id": "5a7c1f1e-f01f-45c5-a5aa-f6e2672c4cc2",
   "metadata": {},
   "outputs": [
    {
     "data": {
      "text/plain": [
       "range(0, 11, 2)"
      ]
     },
     "execution_count": 27,
     "metadata": {},
     "output_type": "execute_result"
    }
   ],
   "source": [
    "a = range( 0, 11 ,2  ) #짝수 데이터 ( 시작값, 끝 값, 간격 ) \n",
    "a "
   ]
  },
  {
   "cell_type": "code",
   "execution_count": 28,
   "id": "fdc7b27c-8dde-4dd4-9b7d-d80b4ba718d8",
   "metadata": {},
   "outputs": [
    {
     "data": {
      "text/plain": [
       "1"
      ]
     },
     "execution_count": 28,
     "metadata": {},
     "output_type": "execute_result"
    }
   ],
   "source": [
    "3 %2 #결과가 1이면 홀수, 0이면 짝수 "
   ]
  },
  {
   "cell_type": "markdown",
   "id": "2ba96e95-273b-4465-a89d-ef33fa8d687e",
   "metadata": {},
   "source": [
    "##### for문"
   ]
  },
  {
   "cell_type": "code",
   "execution_count": 29,
   "id": "08114d43-1d51-4984-8167-d28560f46f5a",
   "metadata": {},
   "outputs": [
    {
     "data": {
      "text/plain": [
       "'\\nfor 변수 in 리스트(또는 튜플, 문자열) : \\n    수행할 문장 1\\n    수행할 문장 2\\n'"
      ]
     },
     "execution_count": 29,
     "metadata": {},
     "output_type": "execute_result"
    }
   ],
   "source": [
    "'''\n",
    "for 변수 in 리스트(또는 튜플, 문자열) : \n",
    "    수행할 문장 1\n",
    "    수행할 문장 2\n",
    "'''"
   ]
  },
  {
   "cell_type": "code",
   "execution_count": 30,
   "id": "7749b01a-2882-45ce-9b75-5e82f182b9ee",
   "metadata": {},
   "outputs": [
    {
     "name": "stdout",
     "output_type": "stream",
     "text": [
      "0 안녕\n",
      "1 안녕\n",
      "2 안녕\n",
      "3 안녕\n",
      "4 안녕\n"
     ]
    }
   ],
   "source": [
    "for i in range(5): \n",
    "    print( i, \"안녕\" )"
   ]
  },
  {
   "cell_type": "code",
   "execution_count": 31,
   "id": "7c1e0bd8-df0e-4cc3-8952-4a9779dccfa4",
   "metadata": {},
   "outputs": [
    {
     "name": "stdout",
     "output_type": "stream",
     "text": [
      "0\n"
     ]
    }
   ],
   "source": [
    "for i in range(3): \n",
    "    print(i)\n",
    "    break"
   ]
  },
  {
   "cell_type": "code",
   "execution_count": 32,
   "id": "18b2cebe-5bec-4a8d-bd73-d3a01e3b4677",
   "metadata": {},
   "outputs": [
    {
     "data": {
      "text/plain": [
       "55"
      ]
     },
     "execution_count": 32,
     "metadata": {},
     "output_type": "execute_result"
    }
   ],
   "source": [
    "# 1부터 10까지의 합 \n",
    "add = 0\n",
    "for i in range(1,11): \n",
    "    add = add + i \n",
    "\n",
    "add"
   ]
  },
  {
   "cell_type": "code",
   "execution_count": 33,
   "id": "d1fe7601-b7a7-46ba-9781-46efbf4963ee",
   "metadata": {},
   "outputs": [
    {
     "data": {
      "text/plain": [
       "110"
      ]
     },
     "execution_count": 33,
     "metadata": {},
     "output_type": "execute_result"
    }
   ],
   "source": [
    "#1부터 20까지의 숫자 중 짝수의 합 \n",
    "ad = 0\n",
    "for i in range(0,21,2) : \n",
    "    ad = ad + i\n",
    "ad"
   ]
  },
  {
   "cell_type": "code",
   "execution_count": 34,
   "id": "b973d2f7-a892-4646-afa4-41141f6b0b9e",
   "metadata": {},
   "outputs": [
    {
     "data": {
      "text/plain": [
       "165"
      ]
     },
     "execution_count": 34,
     "metadata": {},
     "output_type": "execute_result"
    }
   ],
   "source": [
    "#1부터 30까지의 숫자 중 3의 배수의 합\n",
    "adf = 0\n",
    "for i in range(0,31,3) : \n",
    "    adf = adf + i \n",
    "adf"
   ]
  },
  {
   "cell_type": "code",
   "execution_count": 3,
   "id": "11eeeb5c-9d49-4770-9e39-458c1f4e67df",
   "metadata": {},
   "outputs": [
    {
     "name": "stdout",
     "output_type": "stream",
     "text": [
      "315\n"
     ]
    }
   ],
   "source": [
    "# 문제: 1부터 100까지 숫자 중에서 3의 배수이면서 5의 배수인 수의 합\n",
    "total = 0\n",
    "for i in range(1,101) : \n",
    "        if i % 3 == 0 and i %5 ==0: \n",
    "            total += i \n",
    "print(total)"
   ]
  },
  {
   "cell_type": "code",
   "execution_count": 5,
   "id": "648c5a65-f9f9-4504-8a55-3c0a237c0484",
   "metadata": {},
   "outputs": [
    {
     "name": "stdout",
     "output_type": "stream",
     "text": [
      "1 3 5 7 9 "
     ]
    }
   ],
   "source": [
    "for i in range(1,11,2) :\n",
    "    print(i, end=\" \")"
   ]
  },
  {
   "cell_type": "code",
   "execution_count": 37,
   "id": "45430ae7-d92e-428c-a31d-6ac127f798e1",
   "metadata": {},
   "outputs": [
    {
     "name": "stdout",
     "output_type": "stream",
     "text": [
      "3628800\n"
     ]
    }
   ],
   "source": [
    "#1부터 10까지의 곱\n",
    "sub = 1\n",
    "for i in range(1,11) : \n",
    "    sub = sub*i\n",
    "print(sub)"
   ]
  },
  {
   "cell_type": "code",
   "execution_count": 38,
   "id": "d6e3b1a4-2315-4c52-9f79-ceff5741e86e",
   "metadata": {},
   "outputs": [
    {
     "name": "stdout",
     "output_type": "stream",
     "text": [
      "i= 1   sub = 1\n",
      "i= 2   sub = 2\n",
      "i= 3   sub = 6\n",
      "i= 4   sub = 24\n",
      "i= 5   sub = 120\n",
      "i= 6   sub = 720\n",
      "i= 7   sub = 5040\n",
      "i= 8   sub = 40320\n",
      "i= 9   sub = 362880\n",
      "i= 10   sub = 3628800\n"
     ]
    }
   ],
   "source": [
    "#1부터 10까지의 곱\n",
    "sub = 1\n",
    "for i in range(1,11) : \n",
    "    sub = sub * i\n",
    "    print( \"i=\", i, \" \" ,\"sub =\", sub) "
   ]
  },
  {
   "cell_type": "code",
   "execution_count": 39,
   "id": "57970b17-d9d8-4251-890e-47fa7dd4652e",
   "metadata": {},
   "outputs": [
    {
     "name": "stdout",
     "output_type": "stream",
     "text": [
      "one\n",
      "two\n",
      "three\n"
     ]
    }
   ],
   "source": [
    "test_list = ['one','two','three']\n",
    "for i in test_list :\n",
    "    print(i)"
   ]
  },
  {
   "cell_type": "code",
   "execution_count": 40,
   "id": "3503a740-b28e-4883-839e-e777e65d93a3",
   "metadata": {},
   "outputs": [
    {
     "name": "stdout",
     "output_type": "stream",
     "text": [
      "3\n",
      "7\n",
      "11\n"
     ]
    }
   ],
   "source": [
    "# 변수가 두개 들어간 버전임\n",
    "a = [ (1,2), (3,4), (5,6) ]\n",
    "for (first, last) in a: \n",
    "    print(first + last) "
   ]
  },
  {
   "cell_type": "code",
   "execution_count": 1,
   "id": "1f99548f-d3f6-4666-b460-88cebf55a6c7",
   "metadata": {},
   "outputs": [
    {
     "name": "stdout",
     "output_type": "stream",
     "text": [
      "90 = 합격\n",
      "25 = 불합격\n",
      "67 = 합격\n",
      "45 = 불합격\n",
      "80 = 합격\n"
     ]
    }
   ],
   "source": [
    "'''\n",
    "총 5명의 학생이 시험을 보았는데 시험점수가 60점 이상이면 합격이고 \n",
    "그렇지 않으면 불합격이다. \n",
    "합격인지 불합격인지 결과를 보여 주시오. \n",
    "'''\n",
    "# 내 답 \n",
    "marks = [90,25,67,45,80]\n",
    "\n",
    "for i in marks :\n",
    "    if i >= 60:\n",
    "        print(i , \"= 합격\")\n",
    "    else :\n",
    "        print(i, \"= 불합격\")"
   ]
  },
  {
   "cell_type": "code",
   "execution_count": 42,
   "id": "c60bd915-e4e4-4731-adcd-3fa7188a3f4f",
   "metadata": {},
   "outputs": [
    {
     "name": "stdout",
     "output_type": "stream",
     "text": [
      "1번 학생은 합격입니다.\n",
      "2번 학생은 불합격입니다.\n",
      "3번 학생은 합격입니다.\n",
      "4번 학생은 불합격입니다.\n",
      "5번 학생은 합격입니다.\n"
     ]
    }
   ],
   "source": [
    "# 선생님 답 ( + 몇번째 학생은 합격입니다~로 출력하기 위해 변수 더 추가) \n",
    "number = 0\n",
    "marks = [90,25,67,45,80]\n",
    "\n",
    "for mark in marks :\n",
    "    number = number + 1 #0번부터 시작해서 1씩 추가 \n",
    "    if mark >= 60:\n",
    "        print(\"%d번 학생은 합격입니다.\" % number )\n",
    "    else :\n",
    "        print(\"%d번 학생은 불합격입니다.\" % number )"
   ]
  },
  {
   "cell_type": "code",
   "execution_count": 235,
   "id": "cea9044c-5be8-4e36-aeef-66fdd5a9bccc",
   "metadata": {},
   "outputs": [
    {
     "name": "stdout",
     "output_type": "stream",
     "text": [
      "1학생 출석인정\n",
      "2학생 출석부족\n",
      "3학생 출석인정\n",
      "4학생 출석부족\n",
      "5학생 출석인정\n"
     ]
    }
   ],
   "source": [
    "''' GPT 문제 \n",
    "학생들의 출석률이 담긴 리스트가 있습니다. 80% 이상이면 \"출석 인정\", 그렇지 않으면 \"출석 부족\"이라고 출력 '''\n",
    "\n",
    "number = 0\n",
    "attendance = [95, 60, 88, 70, 100]\n",
    "for atd in attendance : \n",
    "    number = number + 1 \n",
    "    if atd >= 80 : \n",
    "        print( \"%d학생 출석인정\" %number) \n",
    "    else : \n",
    "        print( \"%d학생 출석부족\" %number) \n"
   ]
  },
  {
   "cell_type": "code",
   "execution_count": 242,
   "id": "36e3b723-c1ac-4408-b453-63e6951bcd3d",
   "metadata": {},
   "outputs": [
    {
     "name": "stdout",
     "output_type": "stream",
     "text": [
      "1번 학생은 평균 미만입니다.\n",
      "2번 학생은 평균 이상입니다.\n",
      "3번 학생은 평균 이상입니다.\n",
      "4번 학생은 평균 이상입니다.\n",
      "5번 학생은 평균 미만입니다.\n"
     ]
    }
   ],
   "source": [
    "'''GPT문제 2\n",
    " 학생들의 점수가 들어 있는 리스트에서, 평균 점수 이상이면 \"평균 이상\", 아니면 \"평균 미만\" '''\n",
    "\n",
    "number = 0\n",
    "scores = [50, 70, 80, 90, 60]\n",
    "mean = sum(scores)/5 \n",
    "\n",
    "\n",
    "for score in scores :\n",
    "    number = number + 1 \n",
    "    if score >= mean : \n",
    "        print(\"%d번 학생은 평균 이상입니다.\" %number)\n",
    "    else :\n",
    "        print(\"%d번 학생은 평균 미만입니다.\" %number) \n"
   ]
  },
  {
   "cell_type": "code",
   "execution_count": 44,
   "id": "4ca82486-88af-4fe8-9166-9b1487caba95",
   "metadata": {},
   "outputs": [
    {
     "name": "stdout",
     "output_type": "stream",
     "text": [
      "1번 학생은 합격입니다.\n",
      "2번 학생은 불합격입니다.\n",
      "3번 학생은 합격입니다.\n",
      "4번 학생은 불합격입니다.\n",
      "5번 학생은 합격입니다.\n"
     ]
    }
   ],
   "source": [
    "''' enumerate : \n",
    "* 인덱스 number이 자동 생성\n",
    "* 0부터 시작함으로 => print에서 기준값을 +1 해주었음 \n",
    "''' \n",
    "\n",
    "marks = [90,25,67,45,80]\n",
    "\n",
    "for number, mark in enumerate(marks):\n",
    "    if mark >= 60 :\n",
    "        print(\"%d번 학생은 합격입니다.\" % (number+1))\n",
    "    else :\n",
    "        print(\"%d번 학생은 불합격입니다.\" % (number+1) )"
   ]
  },
  {
   "cell_type": "code",
   "execution_count": 2,
   "id": "1b6861f7-88ef-48dd-a0df-e888aeafc2b1",
   "metadata": {},
   "outputs": [
    {
     "name": "stdout",
     "output_type": "stream",
     "text": [
      "1번 학생은 합격입니다.\n",
      "3번 학생은 합격입니다.\n",
      "5번 학생은 합격입니다.\n"
     ]
    }
   ],
   "source": [
    "# continue문 \n",
    "#만약 점수가 60 미만이면 continue 실행 → print 부분 건너뜀\n",
    "#점수가 60 이상이면 continue가 실행되지 않아서 → print() 실행\n",
    "\n",
    "number = 0\n",
    "marks = [90,25,67,45,80]\n",
    "\n",
    "for mark in marks :\n",
    "    number = number + 1 #0번부터 시작해서 1씩 추가 ( 밑에 넣게 되면 0번째부터 시작함)\n",
    "    if mark < 60:\n",
    "        continue\n",
    "        \n",
    "    print(\"%d번 학생은 합격입니다.\" % number )"
   ]
  },
  {
   "cell_type": "code",
   "execution_count": 46,
   "id": "110075df-de64-4cc8-9522-060fdebbda13",
   "metadata": {},
   "outputs": [
    {
     "name": "stdout",
     "output_type": "stream",
     "text": [
      "0 90\n",
      "1번 학생 축하합니다. 합격입니다.\n",
      "1 25\n",
      "2 67\n",
      "3번 학생 축하합니다. 합격입니다.\n",
      "3 45\n",
      "4 80\n",
      "5번 학생 축하합니다. 합격입니다.\n"
     ]
    }
   ],
   "source": [
    "marks = [90,25,67,45,80]\n",
    "for number in range(len(marks)) : \n",
    "    print(number, marks[number])\n",
    "    \n",
    "    if marks[number] < 60:\n",
    "        continue\n",
    "    print( \"%d번 학생 축하합니다. 합격입니다.\" %(number+1) ) "
   ]
  },
  {
   "cell_type": "code",
   "execution_count": 47,
   "id": "f7fa7920-27a4-4238-aab2-55fa4772f0c7",
   "metadata": {},
   "outputs": [
    {
     "name": "stdout",
     "output_type": "stream",
     "text": [
      "[3, 6, 9, 12]\n"
     ]
    }
   ],
   "source": [
    "# 리스트 컴프리헨션\n",
    "# append ; result함수 (초기값 아무것도 없음)의 공간을 확장시키는 역할을 한다. \n",
    "# append 쓰는 이유 = 파이썬은 리스트테 값을 추가 할 수 없음. 유일한 방법이 append쓰는거. \n",
    "# appenf 쓰면, 자동으로 1칸씩 확장됨. 여기서는 result함수를 확장시키고 있는거임. \n",
    "\n",
    "a = [1,2,3,4]\n",
    "result = []\n",
    "# 1,.for 문을 사용해서 a요소값을 읽음\n",
    "for x in a: \n",
    "        result.append(x * 3) #2. for문 안에서 a요소값을 result에 넣음\n",
    "print(result) "
   ]
  },
  {
   "cell_type": "code",
   "execution_count": 48,
   "id": "e9fed644-b856-4fb6-b9fd-9c5c133ba750",
   "metadata": {},
   "outputs": [
    {
     "name": "stdout",
     "output_type": "stream",
     "text": [
      "[3, 6, 9, 12]\n"
     ]
    }
   ],
   "source": [
    "a = [1,2,3,4]\n",
    "result = [x * 3 for x in a] # for x in a로 함수를 한번에 x에 밀어 넣는대... \n",
    "print(result) "
   ]
  },
  {
   "cell_type": "code",
   "execution_count": 49,
   "id": "95a6f381-374f-4f3a-9697-88f68879c4ec",
   "metadata": {},
   "outputs": [
    {
     "name": "stdout",
     "output_type": "stream",
     "text": [
      "[6, 12]\n"
     ]
    }
   ],
   "source": [
    "a = [1,2,3,4]\n",
    "result = [ x * 3 for x in a if x %2 == 0 ]\n",
    "print(result) "
   ]
  },
  {
   "cell_type": "code",
   "execution_count": 50,
   "id": "5b4a948f-27f1-4874-bc37-93dba1a716e3",
   "metadata": {},
   "outputs": [
    {
     "data": {
      "text/plain": [
       "[6, 12]"
      ]
     },
     "execution_count": 50,
     "metadata": {},
     "output_type": "execute_result"
    }
   ],
   "source": [
    "a = [1,2,3,4]\n",
    "result = []\n",
    "\n",
    "for x in a : \n",
    "        if x %2 == 0 :\n",
    "            result.append(x*3) \n",
    "result"
   ]
  },
  {
   "cell_type": "markdown",
   "id": "d279181b-8a45-4666-bd6f-dd91334be5de",
   "metadata": {},
   "source": [
    "##### whlie문"
   ]
  },
  {
   "cell_type": "code",
   "execution_count": 51,
   "id": "e654b274-bab2-425e-9a2e-80f054135dc4",
   "metadata": {},
   "outputs": [
    {
     "data": {
      "text/plain": [
       "'\\nwhile <조건문>:\\n    <수행할 문장1>\\n    <수행할 문장2>\\n    <수행할 문장3>\\n'"
      ]
     },
     "execution_count": 51,
     "metadata": {},
     "output_type": "execute_result"
    }
   ],
   "source": [
    "'''\n",
    "while <조건문>:\n",
    "    <수행할 문장1>\n",
    "    <수행할 문장2>\n",
    "    <수행할 문장3>\n",
    "'''"
   ]
  },
  {
   "cell_type": "code",
   "execution_count": 52,
   "id": "9f7135ae-7a7b-4d87-abaa-facc6d413bf2",
   "metadata": {},
   "outputs": [
    {
     "name": "stdout",
     "output_type": "stream",
     "text": [
      "4\n",
      "5\n",
      "6\n",
      "7\n",
      "8\n",
      "9\n"
     ]
    }
   ],
   "source": [
    "a = 4\n",
    "while a < 10: \n",
    "    print(a)\n",
    "    a = a + 1"
   ]
  },
  {
   "cell_type": "code",
   "execution_count": 53,
   "id": "c6845d34-e256-4f28-9968-cd146753b374",
   "metadata": {},
   "outputs": [
    {
     "data": {
      "text/plain": [
       "55"
      ]
     },
     "execution_count": 53,
     "metadata": {},
     "output_type": "execute_result"
    }
   ],
   "source": [
    "# while문을 이용하여 1~10까지의 합을 구하시오. \n",
    "\n",
    "a = 0 \n",
    "add = 0\n",
    "\n",
    "while a < 10 : \n",
    "    a = a + 1 \n",
    "    add = add + a\n",
    "add"
   ]
  },
  {
   "cell_type": "code",
   "execution_count": 8,
   "id": "ac959a05-115f-49b0-a91f-514c01700591",
   "metadata": {},
   "outputs": [
    {
     "name": "stdout",
     "output_type": "stream",
     "text": [
      "9\n",
      "8\n",
      "7\n",
      "6\n",
      "5\n",
      "4\n",
      "3\n",
      "2\n",
      "1\n"
     ]
    }
   ],
   "source": [
    "a = 10\n",
    "\n",
    "while True : \n",
    "    a = a -1 \n",
    "    if a == 0: \n",
    "        break\n",
    "    print(a)"
   ]
  },
  {
   "cell_type": "code",
   "execution_count": 57,
   "id": "1f9fc8d9-29d9-4585-8bf3-fb25d2ad000f",
   "metadata": {},
   "outputs": [
    {
     "name": "stdout",
     "output_type": "stream",
     "text": [
      "10\n",
      "9\n",
      "8\n",
      "7\n",
      "6\n",
      "5\n",
      "4\n",
      "3\n",
      "2\n",
      "1\n"
     ]
    }
   ],
   "source": [
    "a = 10\n",
    "\n",
    "while True : \n",
    "    print(a)\n",
    "    a = a -1 \n",
    "    if a == 0: \n",
    "        break"
   ]
  },
  {
   "cell_type": "code",
   "execution_count": 69,
   "id": "8aa4f7fb-baa4-427c-9dfc-86b7d46b1aa0",
   "metadata": {},
   "outputs": [
    {
     "name": "stdout",
     "output_type": "stream",
     "text": [
      "나무를 1번 찍었습니다.\n",
      "나무를 2번 찍었습니다.\n",
      "나무를 3번 찍었습니다.\n",
      "나무를 4번 찍었습니다.\n",
      "나무를 5번 찍었습니다.\n",
      "나무를 6번 찍었습니다.\n",
      "나무를 7번 찍었습니다.\n",
      "나무를 8번 찍었습니다.\n",
      "나무를 9번 찍었습니다.\n",
      "나무를 10번 찍었습니다.\n",
      "나무가 넘어갑니다.\n"
     ]
    }
   ],
   "source": [
    "# 예제, ppt 1-2. 63p \n",
    "a = 0\n",
    "\n",
    "while a < 10 : \n",
    "    a = a + 1 \n",
    "    print( \"나무를 %d번 찍었습니다.\" %a ) \n",
    "    if a == 10 : \n",
    "        print( \"나무가 넘어갑니다.\")"
   ]
  },
  {
   "cell_type": "markdown",
   "id": "ebc3ae9b-ecb2-4200-a662-a2ade643c428",
   "metadata": {},
   "source": [
    "* Music playlist"
   ]
  },
  {
   "cell_type": "code",
   "execution_count": 3,
   "id": "c4f187c1-f0e0-451e-abd1-0a2e7738f912",
   "metadata": {},
   "outputs": [
    {
     "name": "stdout",
     "output_type": "stream",
     "text": [
      "\n",
      "1. TAKEDOWN(TWICE) \n",
      "2. Golden\n",
      "3. Soda Pop\n",
      "4. Strategy\n",
      "5. Exit\n",
      "\n",
      "Enter number : \n",
      "\n"
     ]
    },
    {
     "name": "stdout",
     "output_type": "stream",
     "text": [
      " 6\n"
     ]
    },
    {
     "name": "stdout",
     "output_type": "stream",
     "text": [
      "--------------------------------------------------\n",
      "\n",
      "1. TAKEDOWN(TWICE) \n",
      "2. Golden\n",
      "3. Soda Pop\n",
      "4. Strategy\n",
      "5. Exit\n",
      "\n",
      "Enter number : \n",
      "\n"
     ]
    },
    {
     "name": "stdout",
     "output_type": "stream",
     "text": [
      " 6\n"
     ]
    },
    {
     "name": "stdout",
     "output_type": "stream",
     "text": [
      "--------------------------------------------------\n",
      "\n",
      "1. TAKEDOWN(TWICE) \n",
      "2. Golden\n",
      "3. Soda Pop\n",
      "4. Strategy\n",
      "5. Exit\n",
      "\n",
      "Enter number : \n",
      "\n"
     ]
    },
    {
     "name": "stdout",
     "output_type": "stream",
     "text": [
      " 1\n"
     ]
    },
    {
     "name": "stdout",
     "output_type": "stream",
     "text": [
      "TAKEDOWN(TWICE)를 선택하였습니다.\n",
      "--------------------------------------------------\n",
      "\n",
      "1. TAKEDOWN(TWICE) \n",
      "2. Golden\n",
      "3. Soda Pop\n",
      "4. Strategy\n",
      "5. Exit\n",
      "\n",
      "Enter number : \n",
      "\n"
     ]
    },
    {
     "name": "stdout",
     "output_type": "stream",
     "text": [
      " 3\n"
     ]
    },
    {
     "name": "stdout",
     "output_type": "stream",
     "text": [
      "Soda Pop를 선택하였습니다.\n",
      "--------------------------------------------------\n",
      "\n",
      "1. TAKEDOWN(TWICE) \n",
      "2. Golden\n",
      "3. Soda Pop\n",
      "4. Strategy\n",
      "5. Exit\n",
      "\n",
      "Enter number : \n",
      "\n"
     ]
    },
    {
     "name": "stdout",
     "output_type": "stream",
     "text": [
      " 2\n"
     ]
    },
    {
     "name": "stdout",
     "output_type": "stream",
     "text": [
      "Golden를 선택하였습니다.\n",
      "--------------------------------------------------\n",
      "\n",
      "1. TAKEDOWN(TWICE) \n",
      "2. Golden\n",
      "3. Soda Pop\n",
      "4. Strategy\n",
      "5. Exit\n",
      "\n",
      "Enter number : \n",
      "\n"
     ]
    },
    {
     "name": "stdout",
     "output_type": "stream",
     "text": [
      " 5\n"
     ]
    },
    {
     "name": "stdout",
     "output_type": "stream",
     "text": [
      "--------------------------------------------------\n"
     ]
    }
   ],
   "source": [
    "# 각 넘버를 선택하면, 해당 노래가 재생되고자 함. \n",
    "# 1~4번은 해당 화면이 나와야 함. \n",
    "# 5번 재생 종료 시, 종료되어야 함. \n",
    "# 각 번호 선택 시 '@번을 선택하였습니다' 문구가 나와야 함. \n",
    "\n",
    "list = '''\n",
    "1. TAKEDOWN(TWICE) \n",
    "2. Golden\n",
    "3. Soda Pop\n",
    "4. Strategy\n",
    "5. Exit\n",
    "\n",
    "Enter number : \n",
    "'''\n",
    "number = 0 \n",
    "while number != 5 :\n",
    "    print(list) \n",
    "    number = int( input() ) \n",
    "\n",
    "    if number == 1 : \n",
    "        print(\"TAKEDOWN(TWICE)를 선택하였습니다.\")\n",
    "    elif number == 2 : \n",
    "        print( \"Golden를 선택하였습니다.\")\n",
    "    elif number == 3 : \n",
    "        print(\"Soda Pop를 선택하였습니다.\")\n",
    "    elif number == 4 : \n",
    "        print(\"Strategy를 선택하였습니다.\") \n",
    "    print(\"-\" * 50 ) \n",
    "\n",
    "\n",
    "    "
   ]
  },
  {
   "cell_type": "markdown",
   "id": "93487a07-1dbd-4203-8f68-472738384705",
   "metadata": {},
   "source": [
    "* 커피 자판기 프로그램"
   ]
  },
  {
   "cell_type": "code",
   "execution_count": 149,
   "id": "e408c099-920c-4618-99b3-63e8efd06cdc",
   "metadata": {},
   "outputs": [
    {
     "name": "stdout",
     "output_type": "stream",
     "text": [
      "돈을 받았으니 커피를 줍니다.\n",
      "남은 커피의 양은 9개 입니다.\n",
      "------------------------------\n",
      "돈을 받았으니 커피를 줍니다.\n",
      "남은 커피의 양은 8개 입니다.\n",
      "------------------------------\n",
      "돈을 받았으니 커피를 줍니다.\n",
      "남은 커피의 양은 7개 입니다.\n",
      "------------------------------\n",
      "돈을 받았으니 커피를 줍니다.\n",
      "남은 커피의 양은 6개 입니다.\n",
      "------------------------------\n",
      "돈을 받았으니 커피를 줍니다.\n",
      "남은 커피의 양은 5개 입니다.\n",
      "------------------------------\n",
      "돈을 받았으니 커피를 줍니다.\n",
      "남은 커피의 양은 4개 입니다.\n",
      "------------------------------\n",
      "돈을 받았으니 커피를 줍니다.\n",
      "남은 커피의 양은 3개 입니다.\n",
      "------------------------------\n",
      "돈을 받았으니 커피를 줍니다.\n",
      "남은 커피의 양은 2개 입니다.\n",
      "------------------------------\n",
      "돈을 받았으니 커피를 줍니다.\n",
      "남은 커피의 양은 1개 입니다.\n",
      "------------------------------\n",
      "돈을 받았으니 커피를 줍니다.\n",
      "남은 커피의 양은 0개 입니다.\n",
      "------------------------------\n",
      "커피가 다 소진 되었습니다. 판매중지\n"
     ]
    }
   ],
   "source": [
    "# 커피 10잔, 돈\n",
    "coffee = 10\n",
    "money = 300 \n",
    "\n",
    "while money: \n",
    "    print(\"돈을 받았으니 커피를 줍니다.\") \n",
    "    coffee = coffee - 1 \n",
    "    print(\"남은 커피의 양은 %d개 입니다.\" %coffee ) \n",
    "    print(\"-\"*30)\n",
    "    \n",
    "    if coffee == 0 : \n",
    "        print (\"커피가 다 소진 되었습니다. 판매중지\")\n",
    "        break"
   ]
  },
  {
   "cell_type": "code",
   "execution_count": 228,
   "id": "231513af-7d1a-40d8-bbdf-c88c42364793",
   "metadata": {},
   "outputs": [
    {
     "name": "stdout",
     "output_type": "stream",
     "text": [
      " 30\n"
     ]
    },
    {
     "name": "stdout",
     "output_type": "stream",
     "text": [
      "돈이 부족합니다.\n",
      "남은 커피의 양은 10개 입니다.\n",
      "------------------------------\n"
     ]
    },
    {
     "name": "stdout",
     "output_type": "stream",
     "text": [
      " 300\n"
     ]
    },
    {
     "name": "stdout",
     "output_type": "stream",
     "text": [
      "잔돈 없음. 돈을 받았으니, 커피를 줍니다.\n",
      "남은 커피의 양은 9개 입니다.\n",
      "------------------------------\n"
     ]
    },
    {
     "name": "stdout",
     "output_type": "stream",
     "text": [
      " 300\n"
     ]
    },
    {
     "name": "stdout",
     "output_type": "stream",
     "text": [
      "잔돈 없음. 돈을 받았으니, 커피를 줍니다.\n",
      "남은 커피의 양은 8개 입니다.\n",
      "------------------------------\n"
     ]
    },
    {
     "name": "stdout",
     "output_type": "stream",
     "text": [
      " 300\n"
     ]
    },
    {
     "name": "stdout",
     "output_type": "stream",
     "text": [
      "잔돈 없음. 돈을 받았으니, 커피를 줍니다.\n",
      "남은 커피의 양은 7개 입니다.\n",
      "------------------------------\n"
     ]
    },
    {
     "name": "stdout",
     "output_type": "stream",
     "text": [
      " 300\n"
     ]
    },
    {
     "name": "stdout",
     "output_type": "stream",
     "text": [
      "잔돈 없음. 돈을 받았으니, 커피를 줍니다.\n",
      "남은 커피의 양은 6개 입니다.\n",
      "------------------------------\n"
     ]
    },
    {
     "name": "stdout",
     "output_type": "stream",
     "text": [
      " 300\n"
     ]
    },
    {
     "name": "stdout",
     "output_type": "stream",
     "text": [
      "잔돈 없음. 돈을 받았으니, 커피를 줍니다.\n",
      "남은 커피의 양은 5개 입니다.\n",
      "------------------------------\n"
     ]
    },
    {
     "name": "stdout",
     "output_type": "stream",
     "text": [
      " 300\n"
     ]
    },
    {
     "name": "stdout",
     "output_type": "stream",
     "text": [
      "잔돈 없음. 돈을 받았으니, 커피를 줍니다.\n",
      "남은 커피의 양은 4개 입니다.\n",
      "------------------------------\n"
     ]
    },
    {
     "name": "stdout",
     "output_type": "stream",
     "text": [
      " 300\n"
     ]
    },
    {
     "name": "stdout",
     "output_type": "stream",
     "text": [
      "잔돈 없음. 돈을 받았으니, 커피를 줍니다.\n",
      "남은 커피의 양은 3개 입니다.\n",
      "------------------------------\n"
     ]
    },
    {
     "name": "stdout",
     "output_type": "stream",
     "text": [
      " 300\n"
     ]
    },
    {
     "name": "stdout",
     "output_type": "stream",
     "text": [
      "잔돈 없음. 돈을 받았으니, 커피를 줍니다.\n",
      "남은 커피의 양은 2개 입니다.\n",
      "------------------------------\n"
     ]
    },
    {
     "name": "stdout",
     "output_type": "stream",
     "text": [
      " 300\n"
     ]
    },
    {
     "name": "stdout",
     "output_type": "stream",
     "text": [
      "잔돈 없음. 돈을 받았으니, 커피를 줍니다.\n",
      "남은 커피의 양은 1개 입니다.\n",
      "------------------------------\n"
     ]
    },
    {
     "name": "stdout",
     "output_type": "stream",
     "text": [
      " 300\n"
     ]
    },
    {
     "name": "stdout",
     "output_type": "stream",
     "text": [
      "잔돈 없음. 돈을 받았으니, 커피를 줍니다.\n",
      "남은 커피의 양은 0개 입니다.\n",
      "------------------------------\n"
     ]
    },
    {
     "name": "stdout",
     "output_type": "stream",
     "text": [
      " 300\n"
     ]
    },
    {
     "name": "stdout",
     "output_type": "stream",
     "text": [
      "커피가 다 소진 되었습니다. 판매중지\n"
     ]
    }
   ],
   "source": [
    "# 내가 한거 _ 오류 남..  왤까.. \n",
    "'''\n",
    "0. 커피는 10잔 있음. \n",
    "1. 커피 비용을 input으로 받기. \n",
    "2. 입금이 커피와 동일 가격일때 처리\n",
    "3. 입금이 커피보다 적을 때 가격 처리\n",
    "4. 입금이 커피보다 많을 때 가격 처리 \n",
    "5. 커피가 다 떨어졌을 때 처리\n",
    "''' \n",
    "\n",
    "coffee = 10\n",
    "money = 0\n",
    "\n",
    "money = int(input()) \n",
    "while coffee != 0: \n",
    "        if money > 300 : \n",
    "            print(\"잔돈 있음.\", \" 잔돈 %d원. 커피를 줍니다.\" %(money - 300) )\n",
    "            coffee = coffee - 1 \n",
    "            print(\"남은 커피의 양은 %d개 입니다.\" %coffee ) \n",
    "            print(\"-\"*30)\n",
    "            money = int(input()) \n",
    "        elif money < 300 :\n",
    "            print(\"돈이 부족합니다.\") \n",
    "            print(\"남은 커피의 양은 %d개 입니다.\" %coffee )\n",
    "            print(\"-\"*30)\n",
    "            money = int(input()) \n",
    "        elif money == 300 :\n",
    "            print(\"잔돈 없음.\", \"돈을 받았으니, 커피를 줍니다.\")\n",
    "            coffee = coffee - 1 \n",
    "            print(\"남은 커피의 양은 %d개 입니다.\" %coffee ) \n",
    "            print(\"-\"*30)\n",
    "            money = int(input()) \n",
    "        \n",
    "            if coffee == 0: \n",
    "                print(\"커피가 다 소진 되었습니다. 판매중지\")\n",
    "                break\n"
   ]
  },
  {
   "cell_type": "code",
   "execution_count": 199,
   "id": "f6f4c86d-dd1b-4cbc-973b-19e44037e221",
   "metadata": {},
   "outputs": [
    {
     "name": "stdout",
     "output_type": "stream",
     "text": [
      "돈을 넣어주세요:  200\n"
     ]
    },
    {
     "name": "stdout",
     "output_type": "stream",
     "text": [
      "돈을 다시 돌려주고 커피를 주지 않습니다.\n",
      "남은 커피의 양은 10개 입니다.\n"
     ]
    },
    {
     "name": "stdout",
     "output_type": "stream",
     "text": [
      "돈을 넣어주세요:  200\n"
     ]
    },
    {
     "name": "stdout",
     "output_type": "stream",
     "text": [
      "돈을 다시 돌려주고 커피를 주지 않습니다.\n",
      "남은 커피의 양은 10개 입니다.\n"
     ]
    },
    {
     "name": "stdout",
     "output_type": "stream",
     "text": [
      "돈을 넣어주세요:  300\n"
     ]
    },
    {
     "name": "stdout",
     "output_type": "stream",
     "text": [
      "커피를 줍니다.\n",
      "남은 커피의 양은 9개 입니다.\n"
     ]
    },
    {
     "name": "stdout",
     "output_type": "stream",
     "text": [
      "돈을 넣어주세요:  400\n"
     ]
    },
    {
     "name": "stdout",
     "output_type": "stream",
     "text": [
      "거스름돈 100를 주고 커피를 줍니다.\n",
      "남은 커피의 양은 8개 입니다.\n"
     ]
    },
    {
     "name": "stdout",
     "output_type": "stream",
     "text": [
      "돈을 넣어주세요:  400\n"
     ]
    },
    {
     "name": "stdout",
     "output_type": "stream",
     "text": [
      "거스름돈 100를 주고 커피를 줍니다.\n",
      "남은 커피의 양은 7개 입니다.\n"
     ]
    },
    {
     "name": "stdout",
     "output_type": "stream",
     "text": [
      "돈을 넣어주세요:  200\n"
     ]
    },
    {
     "name": "stdout",
     "output_type": "stream",
     "text": [
      "돈을 다시 돌려주고 커피를 주지 않습니다.\n",
      "남은 커피의 양은 7개 입니다.\n"
     ]
    },
    {
     "name": "stdout",
     "output_type": "stream",
     "text": [
      "돈을 넣어주세요:  100\n"
     ]
    },
    {
     "name": "stdout",
     "output_type": "stream",
     "text": [
      "돈을 다시 돌려주고 커피를 주지 않습니다.\n",
      "남은 커피의 양은 7개 입니다.\n"
     ]
    },
    {
     "name": "stdout",
     "output_type": "stream",
     "text": [
      "돈을 넣어주세요:  100\n"
     ]
    },
    {
     "name": "stdout",
     "output_type": "stream",
     "text": [
      "돈을 다시 돌려주고 커피를 주지 않습니다.\n",
      "남은 커피의 양은 7개 입니다.\n"
     ]
    },
    {
     "name": "stdout",
     "output_type": "stream",
     "text": [
      "돈을 넣어주세요:  800\n"
     ]
    },
    {
     "name": "stdout",
     "output_type": "stream",
     "text": [
      "거스름돈 500를 주고 커피를 줍니다.\n",
      "남은 커피의 양은 6개 입니다.\n"
     ]
    },
    {
     "name": "stdout",
     "output_type": "stream",
     "text": [
      "돈을 넣어주세요:  800\n"
     ]
    },
    {
     "name": "stdout",
     "output_type": "stream",
     "text": [
      "거스름돈 500를 주고 커피를 줍니다.\n",
      "남은 커피의 양은 5개 입니다.\n"
     ]
    },
    {
     "name": "stdout",
     "output_type": "stream",
     "text": [
      "돈을 넣어주세요:  800\n"
     ]
    },
    {
     "name": "stdout",
     "output_type": "stream",
     "text": [
      "거스름돈 500를 주고 커피를 줍니다.\n",
      "남은 커피의 양은 4개 입니다.\n"
     ]
    },
    {
     "name": "stdout",
     "output_type": "stream",
     "text": [
      "돈을 넣어주세요:  800\n"
     ]
    },
    {
     "name": "stdout",
     "output_type": "stream",
     "text": [
      "거스름돈 500를 주고 커피를 줍니다.\n",
      "남은 커피의 양은 3개 입니다.\n"
     ]
    },
    {
     "name": "stdout",
     "output_type": "stream",
     "text": [
      "돈을 넣어주세요:  800\n"
     ]
    },
    {
     "name": "stdout",
     "output_type": "stream",
     "text": [
      "거스름돈 500를 주고 커피를 줍니다.\n",
      "남은 커피의 양은 2개 입니다.\n"
     ]
    },
    {
     "name": "stdout",
     "output_type": "stream",
     "text": [
      "돈을 넣어주세요:  8000\n"
     ]
    },
    {
     "name": "stdout",
     "output_type": "stream",
     "text": [
      "거스름돈 7700를 주고 커피를 줍니다.\n",
      "남은 커피의 양은 1개 입니다.\n"
     ]
    },
    {
     "name": "stdout",
     "output_type": "stream",
     "text": [
      "돈을 넣어주세요:  800\n"
     ]
    },
    {
     "name": "stdout",
     "output_type": "stream",
     "text": [
      "거스름돈 500를 주고 커피를 줍니다.\n",
      "남은 커피의 양은 0개 입니다.\n",
      "커피가 다 떨어졌습니다. 판매를 중지합니다.\n"
     ]
    }
   ],
   "source": [
    "'''\n",
    "0. 커피는 10잔 있음. \n",
    "1. 커피 비용을 input으로 받기. \n",
    "2. 입금이 커피와 동일 가격일때 처리\n",
    "3. 입금이 커피보다 적을 때 가격 처리\n",
    "4. 입금이 커피보다 많을 때 가격 처리 \n",
    "5. 커피가 다 떨어졌을 때 처리\n",
    "''' \n",
    "\n",
    "coffee = 10\n",
    "while True: \n",
    "    money = int(input(\"돈을 넣어주세요: \"))\n",
    "    \n",
    "    if money == 300 :\n",
    "        print(\"커피를 줍니다.\")\n",
    "        coffee = coffee -1 \n",
    "    elif money > 300 : \n",
    "        print(\"거스름돈 %d를 주고 커피를 줍니다.\" % (money - 300)) \n",
    "        coffee = coffee -1 \n",
    "    else :\n",
    "        print(\"돈을 다시 돌려주고 커피를 주지 않습니다.\")\n",
    "\n",
    "    print(\"남은 커피의 양은 %d개 입니다.\" % coffee) \n",
    "\n",
    "    if coffee == 0 : \n",
    "        print(\"커피가 다 떨어졌습니다. 판매를 중지합니다.\") \n",
    "        break \n",
    "        "
   ]
  }
 ],
 "metadata": {
  "kernelspec": {
   "display_name": "base",
   "language": "python",
   "name": "python3"
  },
  "language_info": {
   "codemirror_mode": {
    "name": "ipython",
    "version": 3
   },
   "file_extension": ".py",
   "mimetype": "text/x-python",
   "name": "python",
   "nbconvert_exporter": "python",
   "pygments_lexer": "ipython3",
   "version": "3.13.5"
  }
 },
 "nbformat": 4,
 "nbformat_minor": 5
}

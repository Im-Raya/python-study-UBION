{
 "cells": [
  {
   "cell_type": "code",
   "execution_count": 76,
   "id": "82541174-d9ee-4f35-8b3d-2c3c14ffe761",
   "metadata": {
    "scrolled": true
   },
   "outputs": [
    {
     "name": "stdout",
     "output_type": "stream",
     "text": [
      "\n",
      "====영화 목록=====\n",
      "Dark knight\n",
      "Harry Poter\n",
      "Parasite\n",
      "Matrix\n",
      "La La Land \n",
      "================= \n",
      "\n"
     ]
    },
    {
     "name": "stdout",
     "output_type": "stream",
     "text": [
      "영화예매를 선택해 주세요 : Harry P\n"
     ]
    },
    {
     "name": "stdout",
     "output_type": "stream",
     "text": [
      "예매할 수 없는 영화입니다.\n"
     ]
    },
    {
     "name": "stdout",
     "output_type": "stream",
     "text": [
      "영화예매를 선택해 주세요 : Harry P\n"
     ]
    },
    {
     "name": "stdout",
     "output_type": "stream",
     "text": [
      "\n",
      "====영화 목록=====\n",
      "Dark knight\n",
      "Harry Poter\n",
      "Parasite\n",
      "Matrix\n",
      "La La Land \n",
      "================= \n",
      "\n"
     ]
    },
    {
     "name": "stdout",
     "output_type": "stream",
     "text": [
      "영화예매를 선택해 주세요 : Harry P\n"
     ]
    },
    {
     "name": "stdout",
     "output_type": "stream",
     "text": [
      "예매할 수 없는 영화입니다.\n"
     ]
    },
    {
     "name": "stdout",
     "output_type": "stream",
     "text": [
      "영화예매를 선택해 주세요 : Harry P\n"
     ]
    },
    {
     "name": "stdout",
     "output_type": "stream",
     "text": [
      "\n",
      "====영화 목록=====\n",
      "Dark knight\n",
      "Harry Poter\n",
      "Parasite\n",
      "Matrix\n",
      "La La Land \n",
      "================= \n",
      "\n"
     ]
    },
    {
     "ename": "KeyboardInterrupt",
     "evalue": "Interrupted by user",
     "output_type": "error",
     "traceback": [
      "\u001b[31m---------------------------------------------------------------------------\u001b[39m",
      "\u001b[31mKeyboardInterrupt\u001b[39m                         Traceback (most recent call last)",
      "\u001b[36mCell\u001b[39m\u001b[36m \u001b[39m\u001b[32mIn[76]\u001b[39m\u001b[32m, line 16\u001b[39m\n\u001b[32m     14\u001b[39m \u001b[38;5;28;01mwhile\u001b[39;00m \u001b[38;5;28;01mTrue\u001b[39;00m : \n\u001b[32m     15\u001b[39m     \u001b[38;5;28mprint\u001b[39m(movies)\n\u001b[32m---> \u001b[39m\u001b[32m16\u001b[39m     choice = \u001b[38;5;28;43minput\u001b[39;49m\u001b[43m(\u001b[49m\u001b[33;43m\"\u001b[39;49m\u001b[33;43m영화예매를 선택해 주세요 :\u001b[39;49m\u001b[33;43m\"\u001b[39;49m\u001b[43m)\u001b[49m\n\u001b[32m     18\u001b[39m     \u001b[38;5;28;01mif\u001b[39;00m choice \u001b[38;5;129;01min\u001b[39;00m movie :\n\u001b[32m     19\u001b[39m         \u001b[38;5;28;01mbreak\u001b[39;00m\n",
      "\u001b[36mFile \u001b[39m\u001b[32m~\\AppData\\Roaming\\Python\\Python313\\site-packages\\ipykernel\\kernelbase.py:1282\u001b[39m, in \u001b[36mKernel.raw_input\u001b[39m\u001b[34m(self, prompt)\u001b[39m\n\u001b[32m   1280\u001b[39m     msg = \u001b[33m\"\u001b[39m\u001b[33mraw_input was called, but this frontend does not support input requests.\u001b[39m\u001b[33m\"\u001b[39m\n\u001b[32m   1281\u001b[39m     \u001b[38;5;28;01mraise\u001b[39;00m StdinNotImplementedError(msg)\n\u001b[32m-> \u001b[39m\u001b[32m1282\u001b[39m \u001b[38;5;28;01mreturn\u001b[39;00m \u001b[38;5;28;43mself\u001b[39;49m\u001b[43m.\u001b[49m\u001b[43m_input_request\u001b[49m\u001b[43m(\u001b[49m\n\u001b[32m   1283\u001b[39m \u001b[43m    \u001b[49m\u001b[38;5;28;43mstr\u001b[39;49m\u001b[43m(\u001b[49m\u001b[43mprompt\u001b[49m\u001b[43m)\u001b[49m\u001b[43m,\u001b[49m\n\u001b[32m   1284\u001b[39m \u001b[43m    \u001b[49m\u001b[38;5;28;43mself\u001b[39;49m\u001b[43m.\u001b[49m\u001b[43m_parent_ident\u001b[49m\u001b[43m[\u001b[49m\u001b[33;43m\"\u001b[39;49m\u001b[33;43mshell\u001b[39;49m\u001b[33;43m\"\u001b[39;49m\u001b[43m]\u001b[49m\u001b[43m,\u001b[49m\n\u001b[32m   1285\u001b[39m \u001b[43m    \u001b[49m\u001b[38;5;28;43mself\u001b[39;49m\u001b[43m.\u001b[49m\u001b[43mget_parent\u001b[49m\u001b[43m(\u001b[49m\u001b[33;43m\"\u001b[39;49m\u001b[33;43mshell\u001b[39;49m\u001b[33;43m\"\u001b[39;49m\u001b[43m)\u001b[49m\u001b[43m,\u001b[49m\n\u001b[32m   1286\u001b[39m \u001b[43m    \u001b[49m\u001b[43mpassword\u001b[49m\u001b[43m=\u001b[49m\u001b[38;5;28;43;01mFalse\u001b[39;49;00m\u001b[43m,\u001b[49m\n\u001b[32m   1287\u001b[39m \u001b[43m\u001b[49m\u001b[43m)\u001b[49m\n",
      "\u001b[36mFile \u001b[39m\u001b[32m~\\AppData\\Roaming\\Python\\Python313\\site-packages\\ipykernel\\kernelbase.py:1325\u001b[39m, in \u001b[36mKernel._input_request\u001b[39m\u001b[34m(self, prompt, ident, parent, password)\u001b[39m\n\u001b[32m   1322\u001b[39m \u001b[38;5;28;01mexcept\u001b[39;00m \u001b[38;5;167;01mKeyboardInterrupt\u001b[39;00m:\n\u001b[32m   1323\u001b[39m     \u001b[38;5;66;03m# re-raise KeyboardInterrupt, to truncate traceback\u001b[39;00m\n\u001b[32m   1324\u001b[39m     msg = \u001b[33m\"\u001b[39m\u001b[33mInterrupted by user\u001b[39m\u001b[33m\"\u001b[39m\n\u001b[32m-> \u001b[39m\u001b[32m1325\u001b[39m     \u001b[38;5;28;01mraise\u001b[39;00m \u001b[38;5;167;01mKeyboardInterrupt\u001b[39;00m(msg) \u001b[38;5;28;01mfrom\u001b[39;00m\u001b[38;5;250m \u001b[39m\u001b[38;5;28;01mNone\u001b[39;00m\n\u001b[32m   1326\u001b[39m \u001b[38;5;28;01mexcept\u001b[39;00m \u001b[38;5;167;01mException\u001b[39;00m:\n\u001b[32m   1327\u001b[39m     \u001b[38;5;28mself\u001b[39m.log.warning(\u001b[33m\"\u001b[39m\u001b[33mInvalid Message:\u001b[39m\u001b[33m\"\u001b[39m, exc_info=\u001b[38;5;28;01mTrue\u001b[39;00m)\n",
      "\u001b[31mKeyboardInterrupt\u001b[39m: Interrupted by user"
     ]
    }
   ],
   "source": [
    "# 내 답 \n",
    "movies = '''\n",
    "====영화 목록=====\n",
    "Dark knight\n",
    "Harry Poter\n",
    "Parasite\n",
    "Matrix\n",
    "La La Land \n",
    "================= \n",
    "'''\n",
    "\n",
    "movie = ['Dark knight', 'Harry Poter', 'Parasite', 'Matrix', 'La La Land' ]\n",
    "\n",
    "while True : \n",
    "    print(movies)\n",
    "    choice = input(\"영화예매를 선택해 주세요 :\")\n",
    "\n",
    "    if choice in movie :\n",
    "        break\n",
    "    else : \n",
    "        print(\"예매할 수 없는 영화입니다.\"), \n",
    "        choice = input(\"영화예매를 선택해 주세요 :\")\n",
    "        \n",
    "print(\"%s를 선택하셨습니다.\"% choice)"
   ]
  },
  {
   "cell_type": "code",
   "execution_count": 85,
   "id": "ef18341c-fbb2-4b80-8aa9-e5ff28c75cef",
   "metadata": {
    "scrolled": true
   },
   "outputs": [
    {
     "name": "stdout",
     "output_type": "stream",
     "text": [
      "============영화목록===============\n",
      "Dark knight\n",
      "Harry Poter\n",
      "Parasite\n",
      "Matrix\n",
      "La La Land\n",
      "===================================\n"
     ]
    },
    {
     "ename": "KeyboardInterrupt",
     "evalue": "Interrupted by user",
     "output_type": "error",
     "traceback": [
      "\u001b[31m---------------------------------------------------------------------------\u001b[39m",
      "\u001b[31mKeyboardInterrupt\u001b[39m                         Traceback (most recent call last)",
      "\u001b[36mCell\u001b[39m\u001b[36m \u001b[39m\u001b[32mIn[85]\u001b[39m\u001b[32m, line 9\u001b[39m\n\u001b[32m      6\u001b[39m     \u001b[38;5;28mprint\u001b[39m(i)\n\u001b[32m      7\u001b[39m \u001b[38;5;28mprint\u001b[39m(\u001b[33m\"\u001b[39m\u001b[33m===================================\u001b[39m\u001b[33m\"\u001b[39m)\n\u001b[32m----> \u001b[39m\u001b[32m9\u001b[39m choice = \u001b[38;5;28;43minput\u001b[39;49m\u001b[43m(\u001b[49m\u001b[33;43m\"\u001b[39;49m\u001b[33;43m영화예매를 선택해 주세요 :\u001b[39;49m\u001b[33;43m\"\u001b[39;49m\u001b[43m)\u001b[49m\n\u001b[32m     11\u001b[39m \u001b[38;5;28;01mwhile\u001b[39;00m choice \u001b[38;5;129;01mnot\u001b[39;00m \u001b[38;5;129;01min\u001b[39;00m movies : \n\u001b[32m     12\u001b[39m     \u001b[38;5;28mprint\u001b[39m(\u001b[33m\"\u001b[39m\u001b[33m예매할 수 없는 영화입니다.\u001b[39m\u001b[33m\"\u001b[39m)\n",
      "\u001b[36mFile \u001b[39m\u001b[32m~\\AppData\\Roaming\\Python\\Python313\\site-packages\\ipykernel\\kernelbase.py:1282\u001b[39m, in \u001b[36mKernel.raw_input\u001b[39m\u001b[34m(self, prompt)\u001b[39m\n\u001b[32m   1280\u001b[39m     msg = \u001b[33m\"\u001b[39m\u001b[33mraw_input was called, but this frontend does not support input requests.\u001b[39m\u001b[33m\"\u001b[39m\n\u001b[32m   1281\u001b[39m     \u001b[38;5;28;01mraise\u001b[39;00m StdinNotImplementedError(msg)\n\u001b[32m-> \u001b[39m\u001b[32m1282\u001b[39m \u001b[38;5;28;01mreturn\u001b[39;00m \u001b[38;5;28;43mself\u001b[39;49m\u001b[43m.\u001b[49m\u001b[43m_input_request\u001b[49m\u001b[43m(\u001b[49m\n\u001b[32m   1283\u001b[39m \u001b[43m    \u001b[49m\u001b[38;5;28;43mstr\u001b[39;49m\u001b[43m(\u001b[49m\u001b[43mprompt\u001b[49m\u001b[43m)\u001b[49m\u001b[43m,\u001b[49m\n\u001b[32m   1284\u001b[39m \u001b[43m    \u001b[49m\u001b[38;5;28;43mself\u001b[39;49m\u001b[43m.\u001b[49m\u001b[43m_parent_ident\u001b[49m\u001b[43m[\u001b[49m\u001b[33;43m\"\u001b[39;49m\u001b[33;43mshell\u001b[39;49m\u001b[33;43m\"\u001b[39;49m\u001b[43m]\u001b[49m\u001b[43m,\u001b[49m\n\u001b[32m   1285\u001b[39m \u001b[43m    \u001b[49m\u001b[38;5;28;43mself\u001b[39;49m\u001b[43m.\u001b[49m\u001b[43mget_parent\u001b[49m\u001b[43m(\u001b[49m\u001b[33;43m\"\u001b[39;49m\u001b[33;43mshell\u001b[39;49m\u001b[33;43m\"\u001b[39;49m\u001b[43m)\u001b[49m\u001b[43m,\u001b[49m\n\u001b[32m   1286\u001b[39m \u001b[43m    \u001b[49m\u001b[43mpassword\u001b[49m\u001b[43m=\u001b[49m\u001b[38;5;28;43;01mFalse\u001b[39;49;00m\u001b[43m,\u001b[49m\n\u001b[32m   1287\u001b[39m \u001b[43m\u001b[49m\u001b[43m)\u001b[49m\n",
      "\u001b[36mFile \u001b[39m\u001b[32m~\\AppData\\Roaming\\Python\\Python313\\site-packages\\ipykernel\\kernelbase.py:1325\u001b[39m, in \u001b[36mKernel._input_request\u001b[39m\u001b[34m(self, prompt, ident, parent, password)\u001b[39m\n\u001b[32m   1322\u001b[39m \u001b[38;5;28;01mexcept\u001b[39;00m \u001b[38;5;167;01mKeyboardInterrupt\u001b[39;00m:\n\u001b[32m   1323\u001b[39m     \u001b[38;5;66;03m# re-raise KeyboardInterrupt, to truncate traceback\u001b[39;00m\n\u001b[32m   1324\u001b[39m     msg = \u001b[33m\"\u001b[39m\u001b[33mInterrupted by user\u001b[39m\u001b[33m\"\u001b[39m\n\u001b[32m-> \u001b[39m\u001b[32m1325\u001b[39m     \u001b[38;5;28;01mraise\u001b[39;00m \u001b[38;5;167;01mKeyboardInterrupt\u001b[39;00m(msg) \u001b[38;5;28;01mfrom\u001b[39;00m\u001b[38;5;250m \u001b[39m\u001b[38;5;28;01mNone\u001b[39;00m\n\u001b[32m   1326\u001b[39m \u001b[38;5;28;01mexcept\u001b[39;00m \u001b[38;5;167;01mException\u001b[39;00m:\n\u001b[32m   1327\u001b[39m     \u001b[38;5;28mself\u001b[39m.log.warning(\u001b[33m\"\u001b[39m\u001b[33mInvalid Message:\u001b[39m\u001b[33m\"\u001b[39m, exc_info=\u001b[38;5;28;01mTrue\u001b[39;00m)\n",
      "\u001b[31mKeyboardInterrupt\u001b[39m: Interrupted by user"
     ]
    }
   ],
   "source": [
    "#교수님 답 #1 \n",
    "movies = ['Dark knight', 'Harry Poter', 'Parasite', 'Matrix', 'La La Land' ]\n",
    "\n",
    "print(\"============영화목록===============\")\n",
    "for i in movies : \n",
    "    print(i)\n",
    "print(\"===================================\")\n",
    "\n",
    "choice = input(\"영화예매를 선택해 주세요 :\")\n",
    "\n",
    "while choice not in movies : \n",
    "    print(\"예매할 수 없는 영화입니다.\")\n",
    "    choice = input(\"영화예매를 선택해 주세요 :\")\n",
    "\n",
    "print(\"%s를 선택하셨습니다.\"% choice)"
   ]
  },
  {
   "cell_type": "markdown",
   "id": "b11a8ed5-f223-4803-a00b-c1f37eaab456",
   "metadata": {},
   "source": [
    "### 1&2. 예매할 영화 선택하고 관람 인원 수 입력받기"
   ]
  },
  {
   "cell_type": "code",
   "execution_count": null,
   "id": "2d96dbbc-4572-415e-bdf0-29afb134ce39",
   "metadata": {},
   "outputs": [],
   "source": []
  },
  {
   "cell_type": "code",
   "execution_count": 63,
   "id": "ba25456a-fbba-4060-96ac-56a7d51152ce",
   "metadata": {},
   "outputs": [
    {
     "name": "stdout",
     "output_type": "stream",
     "text": [
      "============영화목록===============\n",
      "Dark knight\n",
      "Harry Poter\n",
      "Parasite\n",
      "Matrix\n",
      "La La Land\n",
      "===================================\n"
     ]
    },
    {
     "name": "stdout",
     "output_type": "stream",
     "text": [
      "영화예매를 선택해 주세요 : Dark knight\n"
     ]
    },
    {
     "name": "stdout",
     "output_type": "stream",
     "text": [
      "Dark knight를 선택하셨습니다.\n"
     ]
    },
    {
     "name": "stdout",
     "output_type": "stream",
     "text": [
      "관람인원수를 입력해 주세요 3\n"
     ]
    },
    {
     "name": "stdout",
     "output_type": "stream",
     "text": [
      "관람할 인원 수는 3명입니다.\n"
     ]
    }
   ],
   "source": [
    "#교수님 답 #2\n",
    "movies = ['Dark knight', 'Harry Poter', 'Parasite', 'Matrix', 'La La Land' ]\n",
    "\n",
    "print(\"============영화목록===============\")\n",
    "for i in movies : \n",
    "    print(i)\n",
    "print(\"===================================\")\n",
    "\n",
    "while True: \n",
    "    choice = input(\"영화예매를 선택해 주세요 :\")\n",
    "    if choice in movies :\n",
    "        break \n",
    "    print(\"예매할 수 없는 영화입니다\") \n",
    "    \n",
    "print(\"%s를 선택하셨습니다.\"% choice)\n",
    "\n",
    "people = int(input(\"관람인원수를 입력해 주세요\"))\n",
    "print(\"관람할 인원 수는 %d명입니다.\" % people ) "
   ]
  },
  {
   "cell_type": "markdown",
   "id": "bca78c41-0071-439d-bf96-79b83c00e8bd",
   "metadata": {},
   "source": [
    "### 2. 인원 수 입력 받기"
   ]
  },
  {
   "cell_type": "code",
   "execution_count": 112,
   "id": "c52c04fb-d163-4635-a60b-b72a62b50645",
   "metadata": {},
   "outputs": [
    {
     "name": "stdout",
     "output_type": "stream",
     "text": [
      "관람 인원 수를 입력해주세요.:  0\n"
     ]
    },
    {
     "name": "stdout",
     "output_type": "stream",
     "text": [
      "관람 인원 수는 양수만 가능합니다.\n"
     ]
    },
    {
     "name": "stdout",
     "output_type": "stream",
     "text": [
      "관람 인원 수를 입력해주세요.:  5\n"
     ]
    },
    {
     "name": "stdout",
     "output_type": "stream",
     "text": [
      "관람할 인원 수는 5 명입니다.\n"
     ]
    }
   ],
   "source": [
    "check = False\n",
    "while not check:\n",
    "    try:\n",
    "        people = int(input(\"관람 인원 수를 입력해주세요.: \"))\n",
    "\n",
    "        if people < 1:\n",
    "            print(\"관람 인원 수는 양수만 가능합니다.\")\n",
    "        else:\n",
    "            check= True\n",
    "    except valueError:\n",
    "        print(\"error\")\n",
    "\n",
    "print(\"관람할 인원 수는 %d 명입니다.\" % people)"
   ]
  },
  {
   "cell_type": "markdown",
   "id": "7f7d71be-8573-4c5d-9cc8-1959b2677507",
   "metadata": {},
   "source": [
    "### 3. 할인권 여부 확인하기"
   ]
  },
  {
   "cell_type": "code",
   "execution_count": 127,
   "id": "39dc2ac4-7e1b-42a0-8685-919117149072",
   "metadata": {},
   "outputs": [
    {
     "name": "stdout",
     "output_type": "stream",
     "text": [
      "할인권을 사용하시려면 y, 금액 확인으로 넘어가시려면 n을 입력해 주세요 : y\n",
      "쿠폰 번호를 입력해 주세요. : INDEPENDENCE\n"
     ]
    },
    {
     "name": "stdout",
     "output_type": "stream",
     "text": [
      "5000원 할인됩니다.\n"
     ]
    }
   ],
   "source": [
    "coupon_dic = { 'RANGE' : 2000, 'VALENTINE' : 3000, 'CHRISTMAS' : 4000, 'INDEPENDENCE' : 5000 } \n",
    "yn = input(\"할인권을 사용하시려면 y, 금액 확인으로 넘어가시려면 n을 입력해 주세요 :\" ) \n",
    "\n",
    "while True : \n",
    "    if  yn == 'y':\n",
    "        number = input(\"쿠폰 번호를 입력해 주세요. :\") \n",
    "        if number not in coupon_dic.keys() :\n",
    "            print(\"존재하지 않는 할인권입니다.\") \n",
    "        else : \n",
    "            print(\"%d원 할인됩니다.\" %coupon_dic.get(number))\n",
    "            break \n",
    "\n",
    "    elif yn == 'n' : \n",
    "        print(\"할인권을 사용하지 않았습니다.\")\n",
    "        break\n",
    "         \n",
    "    else :\n",
    "        print(\"잘못된 입력입니다.\")\n",
    "        yn = input(\"다시 입력해 주세요. :\") \n",
    "        \n",
    "   \n",
    "    "
   ]
  },
  {
   "cell_type": "code",
   "execution_count": 62,
   "id": "edc1f64b-fbb5-4b19-a48f-2e558e95660d",
   "metadata": {},
   "outputs": [
    {
     "name": "stdout",
     "output_type": "stream",
     "text": [
      "할인권을 사용하시려면 y, 금액 확인으로 넘어가시려면 n을 입력해 주세요 : ㅜ\n"
     ]
    },
    {
     "name": "stdout",
     "output_type": "stream",
     "text": [
      "잘못된 입력입니다.\n"
     ]
    },
    {
     "name": "stdout",
     "output_type": "stream",
     "text": [
      "다시 입력해 주세요. : n\n"
     ]
    },
    {
     "name": "stdout",
     "output_type": "stream",
     "text": [
      "할인권을 사용하지 않았습니다.\n"
     ]
    }
   ],
   "source": [
    "coupon_dic = { 'RANGE' : 2000, 'VALENTINE' : 3000, 'CHRISTMAS' : 4000, 'INDEPENDENCE' : 5000 } \n",
    "yn = input(\"할인권을 사용하시려면 y, 금액 확인으로 넘어가시려면 n을 입력해 주세요 :\" ) \n",
    "\n",
    "while True : \n",
    "    if  yn == 'y':\n",
    "        number = input(\"쿠폰 번호를 입력해 주세요. :\") \n",
    "        if number not in coupon_dic.keys() :\n",
    "            print(\"존재하지 않는 할인권입니다.\") \n",
    "        else : \n",
    "            print(\"%d원 할인됩니다.\" %coupon_dic.get(number))\n",
    "            break \n",
    "    elif yn != 'y' and yn != 'n':\n",
    "        print(\"잘못된 입력입니다.\")\n",
    "        yn = input(\"다시 입력해 주세요. :\") \n",
    "        \n",
    "    elif yn == 'n' : \n",
    "        print(\"할인권을 사용하지 않았습니다.\")\n",
    "        break"
   ]
  },
  {
   "cell_type": "markdown",
   "id": "ee8a0ad2-305b-418c-811e-d947501e1e2f",
   "metadata": {},
   "source": [
    "### 4. 예매 티켓 가격 출력하기"
   ]
  },
  {
   "cell_type": "code",
   "execution_count": 103,
   "id": "8cd47e83-6203-44aa-adae-87d9940887c7",
   "metadata": {},
   "outputs": [
    {
     "name": "stdout",
     "output_type": "stream",
     "text": [
      " \n",
      "[ 예매 상세 내역 ] \n",
      "============================ \n",
      "영화 제목 : La La Land\n",
      "관람 인원 : 5명\n",
      "합산 금액 : 60000원\n",
      "할인 금액 : 4000원\n",
      "\n",
      "---------------------------- \n",
      "실 결제액 : 56000원\n"
     ]
    }
   ],
   "source": [
    "# 임의 변수값 설정\n",
    "choice = \"La La Land\"\n",
    "people = 5\n",
    "sale = 4000\n",
    "\n",
    "print(''' \n",
    "[ 예매 상세 내역 ] \n",
    "============================ ''') \n",
    "print('영화 제목 :', choice)\n",
    "print(\"관람 인원 : %d명\" %people)\n",
    "print(\"합산 금액 : %d원\" %(12000 * people))\n",
    "print(\"할인 금액 : %d원\" %sale)\n",
    "print('''\n",
    "---------------------------- ''') \n",
    "print(\"실 결제액 : %d원\" %((12000 * people)-sale) ) "
   ]
  },
  {
   "cell_type": "markdown",
   "id": "1f6a91a1-53a2-4856-805b-7daadc62341a",
   "metadata": {},
   "source": [
    "# 5. 총합 "
   ]
  },
  {
   "cell_type": "code",
   "execution_count": 89,
   "id": "8b0afb93-162d-4e98-b824-455c764f012a",
   "metadata": {
    "scrolled": true
   },
   "outputs": [
    {
     "name": "stdout",
     "output_type": "stream",
     "text": [
      "============영화목록===============\n",
      "Dark knight\n",
      "Harry Poter\n",
      "Parasite\n",
      "Matrix\n",
      "La La Land\n",
      "===================================\n"
     ]
    },
    {
     "name": "stdout",
     "output_type": "stream",
     "text": [
      "영화예매를 선택해 주세요 : Dark knight\n"
     ]
    },
    {
     "name": "stdout",
     "output_type": "stream",
     "text": [
      "Dark knight를 선택하셨습니다.\n"
     ]
    },
    {
     "name": "stdout",
     "output_type": "stream",
     "text": [
      "관람인원수를 입력해 주세요 3\n"
     ]
    },
    {
     "name": "stdout",
     "output_type": "stream",
     "text": [
      "관람할 인원 수는 3명입니다.\n"
     ]
    },
    {
     "name": "stdout",
     "output_type": "stream",
     "text": [
      "할인권을 사용하시려면 y, 금액 확인으로 넘어가시려면 n을 입력해 주세요 : ㅛ\n"
     ]
    },
    {
     "name": "stdout",
     "output_type": "stream",
     "text": [
      "잘못된 입력입니다.\n"
     ]
    },
    {
     "name": "stdout",
     "output_type": "stream",
     "text": [
      "다시 입력해 주세요. : y\n",
      "쿠폰 번호를 입력해 주세요. : VALENTINE\n"
     ]
    },
    {
     "name": "stdout",
     "output_type": "stream",
     "text": [
      "3000원 할인됩니다.\n"
     ]
    }
   ],
   "source": [
    "#교수님 답 #2\n",
    "movies = ['Dark knight', 'Harry Poter', 'Parasite', 'Matrix', 'La La Land' ]\n",
    "\n",
    "print(\"============영화목록===============\")\n",
    "for i in movies : \n",
    "    print(i)\n",
    "print(\"===================================\")\n",
    "\n",
    "while True: \n",
    "    choice = input(\"영화예매를 선택해 주세요 :\")\n",
    "    if choice in movies :\n",
    "        break \n",
    "    print(\"예매할 수 없는 영화입니다\") \n",
    "    \n",
    "print(\"%s를 선택하셨습니다.\"% choice)\n",
    "\n",
    "people = int(input(\"관람인원수를 입력해 주세요\"))\n",
    "print(\"관람할 인원 수는 %d명입니다.\" % people ) \n",
    "\n",
    "coupon_dic = { 'RANGE' : 2000, 'VALENTINE' : 3000, 'CHRISTMAS' : 4000, 'INDEPENDENCE' : 5000 } \n",
    "yn = input(\"할인권을 사용하시려면 y, 금액 확인으로 넘어가시려면 n을 입력해 주세요 :\" ) \n",
    "\n",
    "while True : \n",
    "    if  yn == 'y':\n",
    "        number = input(\"쿠폰 번호를 입력해 주세요. :\") \n",
    "        if number not in coupon_dic.keys() :\n",
    "            print(\"존재하지 않는 할인권입니다.\") \n",
    "        else : \n",
    "            print(\"%d원 할인됩니다.\" %coupon_dic.get(number))\n",
    "            break \n",
    "    elif yn != 'y' and yn != 'n':\n",
    "        print(\"잘못된 입력입니다.\")\n",
    "        yn = input(\"다시 입력해 주세요. :\") \n",
    "        \n",
    "    elif yn == 'n' : \n",
    "        print(\"할인권을 사용하지 않았습니다.\")\n",
    "        break"
   ]
  },
  {
   "cell_type": "code",
   "execution_count": 120,
   "id": "ba788a82-572d-45d4-968c-b1e19115f998",
   "metadata": {},
   "outputs": [
    {
     "name": "stdout",
     "output_type": "stream",
     "text": [
      "============영화목록===============\n",
      "Dark knight\n",
      "Harry Poter\n",
      "Parasite\n",
      "Matrix\n",
      "La La Land\n",
      "===================================\n"
     ]
    },
    {
     "name": "stdout",
     "output_type": "stream",
     "text": [
      "영화예매를 선택해 주세요 : Harry Poter\n"
     ]
    },
    {
     "name": "stdout",
     "output_type": "stream",
     "text": [
      "Harry Poter를 선택하셨습니다.\n"
     ]
    },
    {
     "name": "stdout",
     "output_type": "stream",
     "text": [
      "관람 인원 수를 입력해주세요.:  30\n"
     ]
    },
    {
     "name": "stdout",
     "output_type": "stream",
     "text": [
      "관람할 인원 수는 30 명입니다.\n"
     ]
    },
    {
     "name": "stdout",
     "output_type": "stream",
     "text": [
      "할인권을 사용하시려면 y, 금액 확인으로 넘어가시려면 n을 입력해 주세요 : n\n"
     ]
    },
    {
     "name": "stdout",
     "output_type": "stream",
     "text": [
      "할인권을 사용하지 않았습니다.\n",
      " \n",
      "[ 예매 상세 내역 ] \n",
      "============================ \n",
      "영화 제목 : Harry Poter\n",
      "관람 인원 : 30명\n",
      "합산 금액 : 360000원\n",
      "할인 금액 : 0원\n",
      "---------------------------- \n",
      "실 결제액 : 360000원\n",
      "============================\n"
     ]
    }
   ],
   "source": [
    "# 내 답 \n",
    "\n",
    "#1. 영화 선탣하기\n",
    "movies = ['Dark knight', 'Harry Poter', 'Parasite', 'Matrix', 'La La Land' ]\n",
    "\n",
    "print(\"============영화목록===============\")\n",
    "for i in movies : \n",
    "    print(i)\n",
    "print(\"===================================\")\n",
    "\n",
    "while True: \n",
    "    choice = input(\"영화예매를 선택해 주세요 :\")\n",
    "    if choice in movies :\n",
    "        break \n",
    "    print(\"예매할 수 없는 영화입니다\") \n",
    "    \n",
    "print(\"%s를 선택하셨습니다.\"% choice)\n",
    "\n",
    "#인원수 선택하기\n",
    "check = False\n",
    "while not check:\n",
    "    try:\n",
    "        people = int(input(\"관람 인원 수를 입력해주세요.: \"))\n",
    "\n",
    "        if people < 1:\n",
    "            print(\"관람 인원 수는 양수만 가능합니다.\")\n",
    "        else:\n",
    "            check= True\n",
    "    except valueError:\n",
    "        print(\"error\")\n",
    "\n",
    "print(\"관람할 인원 수는 %d 명입니다.\" % people)\n",
    "\n",
    "#쿠폰 할인받기\n",
    "coupon_dic = { 'RANGE' : 2000, 'VALENTINE' : 3000, 'CHRISTMAS' : 4000, 'INDEPENDENCE' : 5000 } \n",
    "yn = input(\"할인권을 사용하시려면 y, 금액 확인으로 넘어가시려면 n을 입력해 주세요 :\" ) \n",
    "\n",
    "while True : \n",
    "    if  yn == 'y':\n",
    "        number = input(\"쿠폰 번호를 입력해 주세요. :\") \n",
    "        if number not in coupon_dic.keys() :\n",
    "            print(\"존재하지 않는 할인권입니다.\") \n",
    "        else : \n",
    "            print(\"%d원 할인됩니다.\" %coupon_dic.get(number))\n",
    "            break \n",
    "    elif yn != 'y' and yn != 'n':\n",
    "        print(\"잘못된 입력입니다.\")\n",
    "        yn = input(\"다시 입력해 주세요. :\") \n",
    "        \n",
    "    elif yn == 'n' : \n",
    "        print(\"할인권을 사용하지 않았습니다.\")\n",
    "        break\n",
    "\n",
    "#예매 내역 만들기\n",
    "print(''' \n",
    "[ 예매 상세 내역 ] \n",
    "============================ ''') \n",
    "print('영화 제목 : %s' % choice)\n",
    "print(\"관람 인원 : %d명\" %people)\n",
    "print(\"합산 금액 : %d원\" %(12000 * people))\n",
    "if yn == 'n' : \n",
    "    sale = 0\n",
    "else :\n",
    "    sale = coupon_dic.get(number)\n",
    "\n",
    "print(\"할인 금액 : %d원\" %sale)\n",
    "print('''---------------------------- ''') \n",
    "print(\"실 결제액 : %d원\" %((12000 * people)-sale))\n",
    "print(\"============================\")"
   ]
  },
  {
   "cell_type": "code",
   "execution_count": null,
   "id": "fe080bf8-12ae-489d-8e19-88a2452a9c9e",
   "metadata": {},
   "outputs": [],
   "source": []
  }
 ],
 "metadata": {
  "kernelspec": {
   "display_name": "Python 3 (ipykernel)",
   "language": "python",
   "name": "python3"
  },
  "language_info": {
   "codemirror_mode": {
    "name": "ipython",
    "version": 3
   },
   "file_extension": ".py",
   "mimetype": "text/x-python",
   "name": "python",
   "nbconvert_exporter": "python",
   "pygments_lexer": "ipython3",
   "version": "3.13.5"
  }
 },
 "nbformat": 4,
 "nbformat_minor": 5
}

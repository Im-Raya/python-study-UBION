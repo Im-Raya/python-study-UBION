{
 "cells": [
  {
   "cell_type": "code",
   "execution_count": null,
   "id": "72393022",
   "metadata": {},
   "outputs": [
    {
     "name": "stdout",
     "output_type": "stream",
     "text": [
      "오답입니다.\n",
      "오답입니다.\n"
     ]
    }
   ],
   "source": []
  },
  {
   "cell_type": "code",
   "execution_count": 4,
   "id": "ae03f4c0",
   "metadata": {},
   "outputs": [
    {
     "name": "stdout",
     "output_type": "stream",
     "text": [
      "오답입니다.\n",
      "오답입니다.\n",
      "오답입니다.\n",
      "오답입니다.\n",
      "오답입니다.\n",
      "오답입니다.\n",
      "오답입니다.\n",
      "6, 정답!\n"
     ]
    }
   ],
   "source": [
    "import random\n",
    "\n",
    "select = random.randint(1,10)\n",
    "\n",
    "while True :\n",
    "    try: \n",
    "        number =int(input(\"1~10 사이 숫자를 맞혀보세요: \"))\n",
    "        if number == select:\n",
    "            print(f\"{number}, 정답!\")\n",
    "            break\n",
    "        else:\n",
    "            print(\"오답입니다.\")\n",
    "    except ValueError: \n",
    "        print(\"숫자를 입력하세요.\")"
   ]
  },
  {
   "cell_type": "code",
   "execution_count": null,
   "id": "e3776e21",
   "metadata": {},
   "outputs": [],
   "source": []
  },
  {
   "cell_type": "code",
   "execution_count": null,
   "id": "c2f693e9",
   "metadata": {},
   "outputs": [],
   "source": []
  },
  {
   "cell_type": "code",
   "execution_count": null,
   "id": "39591fff",
   "metadata": {},
   "outputs": [],
   "source": []
  }
 ],
 "metadata": {
  "kernelspec": {
   "display_name": "base",
   "language": "python",
   "name": "python3"
  },
  "language_info": {
   "codemirror_mode": {
    "name": "ipython",
    "version": 3
   },
   "file_extension": ".py",
   "mimetype": "text/x-python",
   "name": "python",
   "nbconvert_exporter": "python",
   "pygments_lexer": "ipython3",
   "version": "3.13.5"
  }
 },
 "nbformat": 4,
 "nbformat_minor": 5
}

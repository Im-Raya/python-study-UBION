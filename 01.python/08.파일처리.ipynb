{
 "cells": [
  {
   "cell_type": "code",
   "execution_count": 9,
   "id": "46a4f9a1-5cfa-4feb-8fb7-5b7d70965a4d",
   "metadata": {},
   "outputs": [],
   "source": [
    "f = open(\"새파일.txt\",'w')\n",
    "f.close()"
   ]
  },
  {
   "cell_type": "code",
   "execution_count": 13,
   "id": "8b27fff4-221c-4710-b175-d1fc1e0d7b37",
   "metadata": {},
   "outputs": [],
   "source": [
    "# 상대경로\n",
    "f = open(\"./test/새파일1.txt\", 'w')\n",
    "f.close()"
   ]
  },
  {
   "cell_type": "code",
   "execution_count": null,
   "id": "d709fe5a-99c9-4ba1-adee-ee35b458b11a",
   "metadata": {},
   "outputs": [],
   "source": [
    "# 절대경로"
   ]
  },
  {
   "cell_type": "code",
   "execution_count": 14,
   "id": "10a7a160-4adc-4fe8-b80e-49fdbdeaedec",
   "metadata": {},
   "outputs": [],
   "source": [
    "# f = open(\"C:\\\\Project\\\\01.python\\\\test\\\\새파일2.txt\", 'w')\n",
    "# f = open(\"C:/Project/01.python/test/새파일3.txt\", 'w')\n",
    "f = open(r\"C:\\Project\\01.python\\test\\새파일4.txt\", 'w')\n",
    "f.close()"
   ]
  },
  {
   "cell_type": "code",
   "execution_count": 2,
   "id": "6344cbe3-e521-4e82-bde7-0bc9f5cfc505",
   "metadata": {},
   "outputs": [],
   "source": [
    "f = open(\"새파일.txt\",'w', encoding='utf-8')\n",
    "for i in range(1,11):\n",
    "        data = \"%d번째 줄입니다.\\n\" % i\n",
    "        f.write(data) \n",
    "f.close()"
   ]
  },
  {
   "cell_type": "code",
   "execution_count": 3,
   "id": "0644627b-9880-4264-a366-6005f8121a6e",
   "metadata": {},
   "outputs": [
    {
     "name": "stdout",
     "output_type": "stream",
     "text": [
      "1번째 줄입니다.\n",
      "\n"
     ]
    }
   ],
   "source": [
    "#readline 함수\n",
    "f = open(\"새파일.txt\",'r',encoding='utf-8')\n",
    "line = f.readline()\n",
    "print(line)\n",
    "f.close()"
   ]
  },
  {
   "cell_type": "code",
   "execution_count": 4,
   "id": "af057f48-b022-4f3a-919e-24dd102a55bb",
   "metadata": {},
   "outputs": [
    {
     "name": "stdout",
     "output_type": "stream",
     "text": [
      "1번째 줄입니다.\n",
      "\n",
      "2번째 줄입니다.\n",
      "\n",
      "3번째 줄입니다.\n",
      "\n",
      "4번째 줄입니다.\n",
      "\n",
      "5번째 줄입니다.\n",
      "\n",
      "6번째 줄입니다.\n",
      "\n",
      "7번째 줄입니다.\n",
      "\n",
      "8번째 줄입니다.\n",
      "\n",
      "9번째 줄입니다.\n",
      "\n",
      "10번째 줄입니다.\n",
      "\n"
     ]
    }
   ],
   "source": [
    "#readlines 함수\n",
    "f = open(\"새파일.txt\",'r',encoding='utf-8')\n",
    "lines = f.readlines()\n",
    "for line in lines:\n",
    "    print(line)\n",
    "f.close()\n",
    "# 파일 내에 \\n이 자체적으로 들어가 있음 "
   ]
  },
  {
   "cell_type": "code",
   "execution_count": 5,
   "id": "c68a4d8c-44b6-4302-aaa7-589c2a034e5f",
   "metadata": {},
   "outputs": [
    {
     "name": "stdout",
     "output_type": "stream",
     "text": [
      "1번째 줄입니다.\n",
      "2번째 줄입니다.\n",
      "3번째 줄입니다.\n",
      "4번째 줄입니다.\n",
      "5번째 줄입니다.\n",
      "6번째 줄입니다.\n",
      "7번째 줄입니다.\n",
      "8번째 줄입니다.\n",
      "9번째 줄입니다.\n",
      "10번째 줄입니다.\n"
     ]
    }
   ],
   "source": [
    "#readlines 함수\n",
    "f = open(\"새파일.txt\",'r',encoding='utf-8')\n",
    "lines = f.readlines()\n",
    "for line in lines:\n",
    "    print(line.strip())\n",
    "f.close()\n",
    "# 파일 내에 \\n이 자체적으로 들어가 있음 \n",
    "# .strip 사용 "
   ]
  },
  {
   "cell_type": "code",
   "execution_count": 6,
   "id": "2febf6c9-f9f0-449e-87a8-e3dfea1c226c",
   "metadata": {},
   "outputs": [
    {
     "name": "stdout",
     "output_type": "stream",
     "text": [
      "1번째 줄입니다.\n",
      "2번째 줄입니다.\n",
      "3번째 줄입니다.\n",
      "4번째 줄입니다.\n",
      "5번째 줄입니다.\n",
      "6번째 줄입니다.\n",
      "7번째 줄입니다.\n",
      "8번째 줄입니다.\n",
      "9번째 줄입니다.\n",
      "10번째 줄입니다.\n"
     ]
    }
   ],
   "source": [
    "# 파일 객체를 for문과 함께 사용\n",
    "f = open(\"새파일.txt\",'r',encoding='utf-8')\n",
    "for line in f:\n",
    "    print(line.strip())\n",
    "f.close()"
   ]
  },
  {
   "cell_type": "code",
   "execution_count": 7,
   "id": "cf8f72e1-3c9a-4fdb-9091-672829dafcbc",
   "metadata": {},
   "outputs": [],
   "source": [
    "# 내용 추가\n",
    "f = open(\"새파일.txt\",'a',encoding='utf-8')\n",
    "for i in range(11, 20):\n",
    "    data = \"%d번째 줄입니다. \\n\"%i\n",
    "    f.write(data)\n",
    "f.close()"
   ]
  },
  {
   "cell_type": "code",
   "execution_count": 8,
   "id": "3a90e1f7-9ef1-4323-9511-33e851236560",
   "metadata": {},
   "outputs": [],
   "source": [
    "#with문과 함께 사용 \n",
    "with open(\"foo.txt\",\"w\",encoding='utf-8') as f:\n",
    "    f.write(\"you need python\")"
   ]
  }
 ],
 "metadata": {
  "kernelspec": {
   "display_name": "base",
   "language": "python",
   "name": "python3"
  },
  "language_info": {
   "codemirror_mode": {
    "name": "ipython",
    "version": 3
   },
   "file_extension": ".py",
   "mimetype": "text/x-python",
   "name": "python",
   "nbconvert_exporter": "python",
   "pygments_lexer": "ipython3",
   "version": "3.13.5"
  }
 },
 "nbformat": 4,
 "nbformat_minor": 5
}

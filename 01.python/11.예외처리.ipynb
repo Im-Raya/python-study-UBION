{
 "cells": [
  {
   "cell_type": "code",
   "execution_count": null,
   "id": "f0650b9f",
   "metadata": {},
   "outputs": [],
   "source": [
    "# error : 존재하지 않는 파일을 읽을 경우\n",
    "# FileNotFoundError: [Errno 2] No such file or directory: '나없는파일'\n",
    "f = open(\"나없는파일\", 'r')"
   ]
  },
  {
   "cell_type": "code",
   "execution_count": null,
   "id": "9a99b7e7",
   "metadata": {},
   "outputs": [],
   "source": [
    "#error : 0으로 나눌 경우 \n",
    "# ZeroDivisionError: division by zero\n",
    "4/0"
   ]
  },
  {
   "cell_type": "code",
   "execution_count": null,
   "id": "5393eb87",
   "metadata": {},
   "outputs": [],
   "source": [
    "# error : 공간이 할당되어 있지 않는 영역을 indexing할 경우 \n",
    "# IndexError: list index out of range\n",
    "\n",
    "a = [1,2,3]\n",
    "a[3]"
   ]
  },
  {
   "cell_type": "markdown",
   "id": "20f4e216",
   "metadata": {},
   "source": [
    "### 오류 예외 처리 기법 "
   ]
  },
  {
   "cell_type": "markdown",
   "id": "ea3a6fdd",
   "metadata": {},
   "source": [
    "* try except문"
   ]
  },
  {
   "cell_type": "code",
   "execution_count": 41,
   "id": "be1b1ea9",
   "metadata": {},
   "outputs": [
    {
     "name": "stdout",
     "output_type": "stream",
     "text": [
      "에러가 발생했습니다. \n"
     ]
    }
   ],
   "source": [
    "try: \n",
    "        print(10 / 0)\n",
    "except: \n",
    "    print(\"에러가 발생했습니다. \")"
   ]
  },
  {
   "cell_type": "code",
   "execution_count": 42,
   "id": "c0609fdf",
   "metadata": {},
   "outputs": [
    {
     "name": "stdout",
     "output_type": "stream",
     "text": [
      "에러가 발생했습니다. \n"
     ]
    }
   ],
   "source": [
    "# 특정 에외 처리 \n",
    "try: \n",
    "    print(10 / 0)\n",
    "except ZeroDivisionError :\n",
    "    print(\"에러가 발생했습니다. \")"
   ]
  },
  {
   "cell_type": "code",
   "execution_count": 43,
   "id": "de7bb5b9",
   "metadata": {},
   "outputs": [
    {
     "name": "stdout",
     "output_type": "stream",
     "text": [
      "3.3333333333333335\n"
     ]
    }
   ],
   "source": [
    "# 특정 에외 처리\n",
    "try: \n",
    "    x = int(input(\"숫자를 입력하세요: \"))\n",
    "    print(10 / x)\n",
    "except ZeroDivisionError: # 0으로 나누기 시도 \n",
    "    print(\"0으로 나눌 수 없습니다.\")\n",
    "except ValueError: # 숫자가 아닌 값 입력\n",
    "    print(\"숫자가 아닙니다.\")"
   ]
  },
  {
   "cell_type": "code",
   "execution_count": 44,
   "id": "ca285216",
   "metadata": {},
   "outputs": [
    {
     "name": "stdout",
     "output_type": "stream",
     "text": [
      "0.30303030303030304\n"
     ]
    }
   ],
   "source": [
    "# 에러 종류와 메시지 확인\n",
    "try :\n",
    "    x = int(input(\"숫자를 입력하세요: \"))\n",
    "    print(10/x)\n",
    "except Exception as e :\n",
    "    print(f\"에러 종류: {type(e).__name__}\")\n",
    "    print(f\"에러 내용: {e}\")"
   ]
  },
  {
   "cell_type": "code",
   "execution_count": 45,
   "id": "63cf81ba",
   "metadata": {},
   "outputs": [
    {
     "name": "stdout",
     "output_type": "stream",
     "text": [
      "인덱싱 할 수 없습니다.\n"
     ]
    }
   ],
   "source": [
    "try:\n",
    "    a = [1,2]\n",
    "    print(a[3])\n",
    "except IndexError:\n",
    "    print(\"인덱싱 할 수 없습니다.\")"
   ]
  },
  {
   "cell_type": "code",
   "execution_count": 46,
   "id": "5eb012d8",
   "metadata": {},
   "outputs": [
    {
     "name": "stdout",
     "output_type": "stream",
     "text": [
      "list index out of range\n"
     ]
    }
   ],
   "source": [
    "try:\n",
    "    a = [1,2]\n",
    "    print(a[3])\n",
    "    4/0\n",
    "except (ZeroDivisionError, IndexError) as e : \n",
    "    print(e)"
   ]
  },
  {
   "cell_type": "markdown",
   "id": "bcd5990d",
   "metadata": {},
   "source": [
    "* try-finally 문"
   ]
  },
  {
   "cell_type": "code",
   "execution_count": 47,
   "id": "fa5e0f6b",
   "metadata": {},
   "outputs": [
    {
     "name": "stdout",
     "output_type": "stream",
     "text": [
      "list index out of range\n",
      "종료\n"
     ]
    }
   ],
   "source": [
    "try:\n",
    "    a = [1,2]\n",
    "    print(a[3])\n",
    "    4/0\n",
    "except (ZeroDivisionError, IndexError) as e : \n",
    "    print(e)\n",
    "finally: #무조건 실행\n",
    "    print(\"종료\")"
   ]
  },
  {
   "cell_type": "markdown",
   "id": "6f0959e2",
   "metadata": {},
   "source": [
    "* 여러 개의 오류 처리하기"
   ]
  },
  {
   "cell_type": "markdown",
   "id": "67813558",
   "metadata": {},
   "source": [
    "* try-else 문 "
   ]
  },
  {
   "cell_type": "code",
   "execution_count": 48,
   "id": "73f628e9",
   "metadata": {},
   "outputs": [
    {
     "name": "stdout",
     "output_type": "stream",
     "text": [
      "환영합니다.\n"
     ]
    }
   ],
   "source": [
    "try: \n",
    "    age=int(input('나이를 입력하세요'))\n",
    "except: \n",
    "    print('임력이 정확하지 않습니다')\n",
    "else: #성공했을 경우\n",
    "    if age <= 18: \n",
    "        print('미성년자는 출입금지입니다.')\n",
    "    else: \n",
    "        print('환영합니다.')"
   ]
  },
  {
   "cell_type": "markdown",
   "id": "6d16b037",
   "metadata": {},
   "source": [
    "### 오류 회피"
   ]
  },
  {
   "cell_type": "code",
   "execution_count": 49,
   "id": "c245f76d",
   "metadata": {},
   "outputs": [
    {
     "ename": "FileNotFoundError",
     "evalue": "[Errno 2] No such file or directory: '나없는파일'",
     "output_type": "error",
     "traceback": [
      "\u001b[31m---------------------------------------------------------------------------\u001b[39m",
      "\u001b[31mFileNotFoundError\u001b[39m                         Traceback (most recent call last)",
      "\u001b[36mCell\u001b[39m\u001b[36m \u001b[39m\u001b[32mIn[49]\u001b[39m\u001b[32m, line 2\u001b[39m\n\u001b[32m      1\u001b[39m \u001b[38;5;28;01mtry\u001b[39;00m: \n\u001b[32m----> \u001b[39m\u001b[32m2\u001b[39m     f = \u001b[38;5;28;43mopen\u001b[39;49m\u001b[43m(\u001b[49m\u001b[33;43m\"\u001b[39;49m\u001b[33;43m나없는파일\u001b[39;49m\u001b[33;43m\"\u001b[39;49m\u001b[43m,\u001b[49m\u001b[43m \u001b[49m\u001b[33;43m'\u001b[39;49m\u001b[33;43mr\u001b[39;49m\u001b[33;43m'\u001b[39;49m\u001b[43m)\u001b[49m\n\u001b[32m      3\u001b[39m \u001b[38;5;28;01mexcept\u001b[39;00m \u001b[38;5;167;01mFileExistsError\u001b[39;00m:\n\u001b[32m      4\u001b[39m     \u001b[38;5;28;01mpass\u001b[39;00m\n",
      "\u001b[36mFile \u001b[39m\u001b[32m~\\AppData\\Roaming\\Python\\Python313\\site-packages\\IPython\\core\\interactiveshell.py:343\u001b[39m, in \u001b[36m_modified_open\u001b[39m\u001b[34m(file, *args, **kwargs)\u001b[39m\n\u001b[32m    336\u001b[39m \u001b[38;5;28;01mif\u001b[39;00m file \u001b[38;5;129;01min\u001b[39;00m {\u001b[32m0\u001b[39m, \u001b[32m1\u001b[39m, \u001b[32m2\u001b[39m}:\n\u001b[32m    337\u001b[39m     \u001b[38;5;28;01mraise\u001b[39;00m \u001b[38;5;167;01mValueError\u001b[39;00m(\n\u001b[32m    338\u001b[39m         \u001b[33mf\u001b[39m\u001b[33m\"\u001b[39m\u001b[33mIPython won\u001b[39m\u001b[33m'\u001b[39m\u001b[33mt let you open fd=\u001b[39m\u001b[38;5;132;01m{\u001b[39;00mfile\u001b[38;5;132;01m}\u001b[39;00m\u001b[33m by default \u001b[39m\u001b[33m\"\u001b[39m\n\u001b[32m    339\u001b[39m         \u001b[33m\"\u001b[39m\u001b[33mas it is likely to crash IPython. If you know what you are doing, \u001b[39m\u001b[33m\"\u001b[39m\n\u001b[32m    340\u001b[39m         \u001b[33m\"\u001b[39m\u001b[33myou can use builtins\u001b[39m\u001b[33m'\u001b[39m\u001b[33m open.\u001b[39m\u001b[33m\"\u001b[39m\n\u001b[32m    341\u001b[39m     )\n\u001b[32m--> \u001b[39m\u001b[32m343\u001b[39m \u001b[38;5;28;01mreturn\u001b[39;00m \u001b[43mio_open\u001b[49m\u001b[43m(\u001b[49m\u001b[43mfile\u001b[49m\u001b[43m,\u001b[49m\u001b[43m \u001b[49m\u001b[43m*\u001b[49m\u001b[43margs\u001b[49m\u001b[43m,\u001b[49m\u001b[43m \u001b[49m\u001b[43m*\u001b[49m\u001b[43m*\u001b[49m\u001b[43mkwargs\u001b[49m\u001b[43m)\u001b[49m\n",
      "\u001b[31mFileNotFoundError\u001b[39m: [Errno 2] No such file or directory: '나없는파일'"
     ]
    }
   ],
   "source": [
    "try: \n",
    "    f = open(\"나없는파일\", 'r')\n",
    "except FileExistsError:\n",
    "    pass"
   ]
  },
  {
   "cell_type": "markdown",
   "id": "849e26af",
   "metadata": {},
   "source": [
    "### 오류 일부러 발생"
   ]
  },
  {
   "cell_type": "code",
   "execution_count": 50,
   "id": "e706b228",
   "metadata": {},
   "outputs": [],
   "source": [
    "class Bird:\n",
    "    def fly(self):\n",
    "        raise NotImplementedError #강제로 시스템오류를 발생시키는 것, "
   ]
  },
  {
   "cell_type": "code",
   "execution_count": 51,
   "id": "6ebbe5a0",
   "metadata": {},
   "outputs": [
    {
     "ename": "NotImplementedError",
     "evalue": "",
     "output_type": "error",
     "traceback": [
      "\u001b[31m---------------------------------------------------------------------------\u001b[39m",
      "\u001b[31mNotImplementedError\u001b[39m                       Traceback (most recent call last)",
      "\u001b[36mCell\u001b[39m\u001b[36m \u001b[39m\u001b[32mIn[51]\u001b[39m\u001b[32m, line 5\u001b[39m\n\u001b[32m      2\u001b[39m     \u001b[38;5;28;01mpass\u001b[39;00m\n\u001b[32m      4\u001b[39m eagle = Eagle()\n\u001b[32m----> \u001b[39m\u001b[32m5\u001b[39m \u001b[43meagle\u001b[49m\u001b[43m.\u001b[49m\u001b[43mfly\u001b[49m\u001b[43m(\u001b[49m\u001b[43m)\u001b[49m\n",
      "\u001b[36mCell\u001b[39m\u001b[36m \u001b[39m\u001b[32mIn[50]\u001b[39m\u001b[32m, line 3\u001b[39m, in \u001b[36mBird.fly\u001b[39m\u001b[34m(self)\u001b[39m\n\u001b[32m      2\u001b[39m \u001b[38;5;28;01mdef\u001b[39;00m\u001b[38;5;250m \u001b[39m\u001b[34mfly\u001b[39m(\u001b[38;5;28mself\u001b[39m):\n\u001b[32m----> \u001b[39m\u001b[32m3\u001b[39m     \u001b[38;5;28;01mraise\u001b[39;00m \u001b[38;5;167;01mNotImplementedError\u001b[39;00m\n",
      "\u001b[31mNotImplementedError\u001b[39m: "
     ]
    }
   ],
   "source": [
    "class Eagle(Bird):\n",
    "    pass\n",
    "\n",
    "eagle = Eagle()\n",
    "eagle.fly()"
   ]
  },
  {
   "cell_type": "code",
   "execution_count": 52,
   "id": "e1bbe6a1",
   "metadata": {},
   "outputs": [
    {
     "name": "stdout",
     "output_type": "stream",
     "text": [
      "very fast\n"
     ]
    }
   ],
   "source": [
    "class Eagle(Bird):\n",
    "    def fly(self):\n",
    "        print(\"very fast\")\n",
    "        \n",
    "eagle = Eagle()\n",
    "eagle.fly()"
   ]
  },
  {
   "cell_type": "markdown",
   "id": "058caa94",
   "metadata": {},
   "source": [
    "예외 만들기"
   ]
  },
  {
   "cell_type": "code",
   "execution_count": 55,
   "id": "47e60e75",
   "metadata": {},
   "outputs": [
    {
     "name": "stdout",
     "output_type": "stream",
     "text": [
      "천사\n",
      "None\n"
     ]
    },
    {
     "ename": "MyError",
     "evalue": "",
     "output_type": "error",
     "traceback": [
      "\u001b[31m---------------------------------------------------------------------------\u001b[39m",
      "\u001b[31mMyError\u001b[39m                                   Traceback (most recent call last)",
      "\u001b[36mCell\u001b[39m\u001b[36m \u001b[39m\u001b[32mIn[55]\u001b[39m\u001b[32m, line 10\u001b[39m\n\u001b[32m      7\u001b[39m     \u001b[38;5;28mprint\u001b[39m(nick)\n\u001b[32m      9\u001b[39m \u001b[38;5;28mprint\u001b[39m(say_nick(\u001b[33m\"\u001b[39m\u001b[33m천사\u001b[39m\u001b[33m\"\u001b[39m))\n\u001b[32m---> \u001b[39m\u001b[32m10\u001b[39m \u001b[38;5;28mprint\u001b[39m(\u001b[43msay_nick\u001b[49m\u001b[43m(\u001b[49m\u001b[33;43m\"\u001b[39;49m\u001b[33;43m바보\u001b[39;49m\u001b[33;43m\"\u001b[39;49m\u001b[43m)\u001b[49m)\n",
      "\u001b[36mCell\u001b[39m\u001b[36m \u001b[39m\u001b[32mIn[55]\u001b[39m\u001b[32m, line 6\u001b[39m, in \u001b[36msay_nick\u001b[39m\u001b[34m(nick)\u001b[39m\n\u001b[32m      4\u001b[39m \u001b[38;5;28;01mdef\u001b[39;00m\u001b[38;5;250m \u001b[39m\u001b[34msay_nick\u001b[39m(nick):\n\u001b[32m      5\u001b[39m     \u001b[38;5;28;01mif\u001b[39;00m nick == \u001b[33m'\u001b[39m\u001b[33m바보\u001b[39m\u001b[33m'\u001b[39m:\n\u001b[32m----> \u001b[39m\u001b[32m6\u001b[39m         \u001b[38;5;28;01mraise\u001b[39;00m MyError()\n\u001b[32m      7\u001b[39m     \u001b[38;5;28mprint\u001b[39m(nick)\n",
      "\u001b[31mMyError\u001b[39m: "
     ]
    }
   ],
   "source": [
    "class MyError(Exception):\n",
    "    pass\n",
    "\n",
    "def say_nick(nick):\n",
    "    if nick == '바보':\n",
    "        raise MyError()\n",
    "    print(nick)\n",
    "    \n",
    "print(say_nick(\"천사\"))\n",
    "print(say_nick(\"바보\"))"
   ]
  },
  {
   "cell_type": "code",
   "execution_count": 56,
   "id": "f01542a2",
   "metadata": {},
   "outputs": [
    {
     "name": "stdout",
     "output_type": "stream",
     "text": [
      "천사\n",
      "허용되지 않는 별명입니다.\n"
     ]
    }
   ],
   "source": [
    "try:\n",
    "    say_nick(\"천사\")\n",
    "    say_nick(\"바보\")\n",
    "except MyError:\n",
    "    print(\"허용되지 않는 별명입니다.\")"
   ]
  },
  {
   "cell_type": "code",
   "execution_count": null,
   "id": "2ace37b0",
   "metadata": {},
   "outputs": [],
   "source": [
    "class MyError(Exception):\n",
    "    def __str__(self):\n",
    "        return \"허용되지 않는 별명입니다.\""
   ]
  },
  {
   "cell_type": "code",
   "execution_count": 61,
   "id": "5e1ff482",
   "metadata": {},
   "outputs": [
    {
     "name": "stdout",
     "output_type": "stream",
     "text": [
      "천사\n",
      "허용되지 않는 별명입니다.\n"
     ]
    }
   ],
   "source": [
    "try:\n",
    "    say_nick(\"천사\")\n",
    "    say_nick(\"바보\")\n",
    "except MyError as e : \n",
    "    print(e)"
   ]
  },
  {
   "cell_type": "code",
   "execution_count": null,
   "id": "636e5f1f",
   "metadata": {},
   "outputs": [],
   "source": []
  },
  {
   "cell_type": "code",
   "execution_count": null,
   "id": "f805274f",
   "metadata": {},
   "outputs": [],
   "source": []
  }
 ],
 "metadata": {
  "kernelspec": {
   "display_name": "base",
   "language": "python",
   "name": "python3"
  },
  "language_info": {
   "codemirror_mode": {
    "name": "ipython",
    "version": 3
   },
   "file_extension": ".py",
   "mimetype": "text/x-python",
   "name": "python",
   "nbconvert_exporter": "python",
   "pygments_lexer": "ipython3",
   "version": "3.13.5"
  }
 },
 "nbformat": 4,
 "nbformat_minor": 5
}

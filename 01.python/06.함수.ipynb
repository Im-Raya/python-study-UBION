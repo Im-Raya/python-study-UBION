{
 "cells": [
  {
   "cell_type": "code",
   "execution_count": 4,
   "id": "4db09c9f-0d17-461f-b53c-ba9f4cc3b38e",
   "metadata": {},
   "outputs": [
    {
     "name": "stdout",
     "output_type": "stream",
     "text": [
      "Hi\n"
     ]
    }
   ],
   "source": [
    "# type1 : 입력값/결괏값이 없는 함수\n",
    "def say() : \n",
    "    print('Hi')\n",
    "# 이것만 치면 실행 안됨. 얘는 그냥 say()의 정의. \n",
    "\n",
    "say()"
   ]
  },
  {
   "cell_type": "code",
   "execution_count": 6,
   "id": "d7a3d717-a52c-438d-b27e-0328a7cdee79",
   "metadata": {},
   "outputs": [
    {
     "name": "stdout",
     "output_type": "stream",
     "text": [
      "7\n"
     ]
    }
   ],
   "source": [
    "# type2 : 입력값만 있는 함수\n",
    "def add(a,b) : \n",
    "    result = a+b\n",
    "    print(result) \n",
    "# 입력값은 a,b \n",
    "add(3,4) "
   ]
  },
  {
   "cell_type": "code",
   "execution_count": 17,
   "id": "5192d7ab-eb54-489e-907c-cbb76c58bedc",
   "metadata": {
    "scrolled": true
   },
   "outputs": [
    {
     "name": "stdout",
     "output_type": "stream",
     "text": [
      "7\n"
     ]
    }
   ],
   "source": [
    "a = add(3,4)"
   ]
  },
  {
   "cell_type": "code",
   "execution_count": 13,
   "id": "2fb117b4-ad9b-4574-aa74-1ff99a1b1361",
   "metadata": {},
   "outputs": [
    {
     "name": "stdout",
     "output_type": "stream",
     "text": [
      "None\n"
     ]
    }
   ],
   "source": [
    "print(a)\n",
    "# return이 없는 값이기 때문에, 나오지 않음. "
   ]
  },
  {
   "cell_type": "code",
   "execution_count": 18,
   "id": "2b86b15c-f90c-4cc4-b932-cdd272169622",
   "metadata": {},
   "outputs": [
    {
     "name": "stdout",
     "output_type": "stream",
     "text": [
      "Hi\n"
     ]
    }
   ],
   "source": [
    "# type3 : 결괏값만 있는 함수\n",
    "def say():\n",
    "    return 'Hi'\n",
    "\n",
    "print(say()) # say() = hi와 동일. "
   ]
  },
  {
   "cell_type": "code",
   "execution_count": 14,
   "id": "3400b009-a67c-4309-a991-4615b1170ad1",
   "metadata": {},
   "outputs": [
    {
     "data": {
      "text/plain": [
       "'Hi'"
      ]
     },
     "execution_count": 14,
     "metadata": {},
     "output_type": "execute_result"
    }
   ],
   "source": [
    "a = say()\n",
    "a"
   ]
  },
  {
   "cell_type": "code",
   "execution_count": 15,
   "id": "5b7552e8-4213-47bb-a3c9-08d4eef29a23",
   "metadata": {},
   "outputs": [
    {
     "name": "stdout",
     "output_type": "stream",
     "text": [
      "Hi\n"
     ]
    }
   ],
   "source": [
    "print(a)"
   ]
  },
  {
   "cell_type": "code",
   "execution_count": 19,
   "id": "cbe2bdd5-a21e-4847-bd7a-802acb76f931",
   "metadata": {},
   "outputs": [
    {
     "data": {
      "text/plain": [
       "8"
      ]
     },
     "execution_count": 19,
     "metadata": {},
     "output_type": "execute_result"
    }
   ],
   "source": [
    "# type4 : 입력값과 결괏값이 있는 함수\n",
    "def add(a,b) : \n",
    "    result = a+b\n",
    "    return result\n",
    "\n",
    "c = add(3,5)\n",
    "c"
   ]
  },
  {
   "cell_type": "code",
   "execution_count": 20,
   "id": "40b93c20-8466-4af9-8402-e1f35139a245",
   "metadata": {},
   "outputs": [
    {
     "name": "stdout",
     "output_type": "stream",
     "text": [
      "8\n"
     ]
    }
   ],
   "source": [
    "print(c)"
   ]
  },
  {
   "cell_type": "code",
   "execution_count": 22,
   "id": "086f02fe-185b-4ab4-a76a-531fc7929b22",
   "metadata": {},
   "outputs": [
    {
     "name": "stdout",
     "output_type": "stream",
     "text": [
      "10\n"
     ]
    }
   ],
   "source": [
    "# 매개변수 지정하여 호출\n",
    "def add(a,b) : \n",
    "    return a+b\n",
    "    \n",
    "result = add(b=7, a=3)\n",
    "print(result) "
   ]
  },
  {
   "cell_type": "code",
   "execution_count": 29,
   "id": "127084d1-062f-4eb0-9e9c-26e93e40df6f",
   "metadata": {},
   "outputs": [
    {
     "name": "stdout",
     "output_type": "stream",
     "text": [
      "(1, 2, 3)\n",
      "6\n"
     ]
    }
   ],
   "source": [
    "# 입력값이 몇개가 될 지 모를 때. =\n",
    "def add_many(*args) :\n",
    "    print(args)\n",
    "    result = 0\n",
    "    for i in args:\n",
    "        result = result + i \n",
    "    return result \n",
    "\n",
    "result =  add_many(1,2,3) \n",
    "print(result) \n",
    "#return값이 없는데 넣어서 none이 나옴"
   ]
  },
  {
   "cell_type": "code",
   "execution_count": 30,
   "id": "754570d7-a770-485d-a43a-14918bc69c30",
   "metadata": {},
   "outputs": [
    {
     "name": "stdout",
     "output_type": "stream",
     "text": [
      "(1, 2, 3, 4, 5, 6, 7, 8, 9, 10)\n",
      "55\n"
     ]
    }
   ],
   "source": [
    "result = add_many(1,2,3,4,5,6,7,8,9,10)\n",
    "print(result) "
   ]
  },
  {
   "cell_type": "code",
   "execution_count": 90,
   "id": "0c4c700e-5101-4c8c-8ce6-98ca6fe07949",
   "metadata": {},
   "outputs": [],
   "source": [
    "def add_mul(choice, *args) : \n",
    "    \n",
    "    if choice == \"add\" : \n",
    "        result = 0 \n",
    "        for i in args: \n",
    "            result = result + i \n",
    "    elif choice == \"mul\" :\n",
    "        result = 1\n",
    "        for i in args: \n",
    "            result = result * i  \n",
    "            \n",
    "    return result "
   ]
  },
  {
   "cell_type": "code",
   "execution_count": 91,
   "id": "6febc118-af69-4a71-8508-21f2f49468b9",
   "metadata": {},
   "outputs": [
    {
     "name": "stdout",
     "output_type": "stream",
     "text": [
      "15\n"
     ]
    }
   ],
   "source": [
    "result = add_mul('add', 1,2,3,4,5)\n",
    "print(result) "
   ]
  },
  {
   "cell_type": "code",
   "execution_count": 92,
   "id": "c11a5019-76b5-477e-a0e3-a207ed3c4a0f",
   "metadata": {},
   "outputs": [
    {
     "name": "stdout",
     "output_type": "stream",
     "text": [
      "120\n"
     ]
    }
   ],
   "source": [
    "result = add_mul('mul', 1,2,3,4,5)\n",
    "print(result) "
   ]
  },
  {
   "cell_type": "code",
   "execution_count": 124,
   "id": "4916c5f2-f7a5-48f1-8173-e63c3ebeb70b",
   "metadata": {},
   "outputs": [],
   "source": [
    "''' GPT 문제 \n",
    "calc_numbers라는 함수를 작성하세요.\n",
    "첫 번째 매개변수 choice는 'max', 'min', 'avg' 중 하나입니다.\n",
    "나머지 매개변수(*args)로 여러 숫자가 들어옵니다.\n",
    "choice가 'max'면 가장 큰 값을, 'min'이면 가장 작은 값을, 'avg'면 평균값을 반환하세요.\n",
    "'''\n",
    "\n",
    "def calc_numbers( choice , *args ) : \n",
    "        if choice == \"max\" :  \n",
    "            result= max(args)\n",
    "            \n",
    "        elif choice == \"min\" :\n",
    "            result= min(args)\n",
    "            \n",
    "        elif choice == \"avg\" : \n",
    "            result = sum(args)/len(args) \n",
    "            \n",
    "        return result"
   ]
  },
  {
   "cell_type": "code",
   "execution_count": 123,
   "id": "3994b849-f84d-4ab0-82f3-895a76f84248",
   "metadata": {},
   "outputs": [
    {
     "name": "stdout",
     "output_type": "stream",
     "text": [
      "9\n",
      "1\n",
      "4.5\n"
     ]
    }
   ],
   "source": [
    "result = calc_numbers('max', 5,1,9,3)\n",
    "print(result)\n",
    "result = calc_numbers('min', 5,1,9,3)\n",
    "print(result) \n",
    "result = calc_numbers('avg', 5,1,9,3) \n",
    "print(result) "
   ]
  },
  {
   "cell_type": "code",
   "execution_count": 101,
   "id": "23f0f216-a143-4209-9187-d7bbaca1cb21",
   "metadata": {},
   "outputs": [
    {
     "name": "stdout",
     "output_type": "stream",
     "text": [
      "{'a': 1}\n",
      "{'name': 'foo', 'age': 3}\n"
     ]
    }
   ],
   "source": [
    "#키워드 파라미터의 경우 별 두개! \n",
    "def print_kwargs(**kwargs) :\n",
    "    print(kwargs)\n",
    "\n",
    "print_kwargs(a=1)\n",
    "print_kwargs(name = 'foo', age=3) "
   ]
  },
  {
   "cell_type": "code",
   "execution_count": 97,
   "id": "59741d5e-d557-4177-97d6-b6e463462f56",
   "metadata": {},
   "outputs": [
    {
     "data": {
      "text/plain": [
       "(7, 12)"
      ]
     },
     "execution_count": 97,
     "metadata": {},
     "output_type": "execute_result"
    }
   ],
   "source": [
    "#함수의 결괏값은 언제나 하나. \n",
    "def add_and_mul(a,b) : \n",
    "    return a+b, a*b \n",
    "\n",
    "result = add_and_mul(3,4)\n",
    "result"
   ]
  },
  {
   "cell_type": "code",
   "execution_count": 109,
   "id": "f714850e",
   "metadata": {},
   "outputs": [
    {
     "data": {
      "text/plain": [
       "7"
      ]
     },
     "execution_count": 109,
     "metadata": {},
     "output_type": "execute_result"
    }
   ],
   "source": [
    "#함수의 결괏값은 언제나 하나. \n",
    "def add_and_mul(a,b) : \n",
    "    return a+b\n",
    "    return a*b \n",
    "\n",
    "result = add_and_mul(3,4)\n",
    "result"
   ]
  },
  {
   "cell_type": "code",
   "execution_count": 126,
   "id": "1d323822-b3b2-4cc8-93a7-b6579dc370c7",
   "metadata": {},
   "outputs": [
    {
     "name": "stdout",
     "output_type": "stream",
     "text": [
      "나의 별명은 야호 입니다.\n"
     ]
    }
   ],
   "source": [
    "# return의 추가 기능\n",
    "def say_nick(nick) : \n",
    "    if nick == \"바보\":\n",
    "        return #함수를 빠져나가고 싶을 때 사용 \n",
    "    print(\"나의 별명은 %s 입니다.\" % nick) \n",
    "\n",
    "say_nick('야호')"
   ]
  },
  {
   "cell_type": "code",
   "execution_count": 134,
   "id": "e4c93244-7e16-450e-8633-63f1179663ba",
   "metadata": {},
   "outputs": [],
   "source": [
    "say_nick('바보') #return때문에 함술르 빠져 나옴"
   ]
  },
  {
   "cell_type": "code",
   "execution_count": 135,
   "id": "2b8bdba9-d0d6-4b32-a9bc-52c4a315ee4d",
   "metadata": {},
   "outputs": [
    {
     "name": "stdout",
     "output_type": "stream",
     "text": [
      "나의 별명은 집 입니다.\n"
     ]
    }
   ],
   "source": [
    "say_nick('집')"
   ]
  },
  {
   "cell_type": "code",
   "execution_count": 140,
   "id": "61cfa819-9b2b-4fca-8fc2-f3e92145cba1",
   "metadata": {},
   "outputs": [],
   "source": [
    "# 매개변수에 초갓값 미리 설정\n",
    "def say_myself(name, old, man= True): \n",
    "    print(\"나의 이름은 %s입니다.\" %name) \n",
    "    print(\"나이는 %d살 입니다.\" %old) \n",
    "\n",
    "    if man : \n",
    "        print(\"남자 입니다.\") \n",
    "    else : \n",
    "        print(\"여자입니다. \") "
   ]
  },
  {
   "cell_type": "code",
   "execution_count": 141,
   "id": "06fced7f-c3da-4466-8806-4cf41bd3420d",
   "metadata": {},
   "outputs": [
    {
     "name": "stdout",
     "output_type": "stream",
     "text": [
      "나의 이름은 임수진입니다.\n",
      "나이는 25살 입니다.\n",
      "여자입니다. \n"
     ]
    }
   ],
   "source": [
    "say_myself('임수진',25, False)"
   ]
  },
  {
   "cell_type": "code",
   "execution_count": 142,
   "id": "1870da4d-ccb1-48df-a091-2965600c11d4",
   "metadata": {},
   "outputs": [
    {
     "name": "stdout",
     "output_type": "stream",
     "text": [
      "나의 이름은 임정한입니다.\n",
      "나이는 23살 입니다.\n",
      "남자 입니다.\n"
     ]
    }
   ],
   "source": [
    "say_myself('임정한',23)"
   ]
  },
  {
   "cell_type": "code",
   "execution_count": 146,
   "id": "aa736baa",
   "metadata": {},
   "outputs": [
    {
     "ename": "SyntaxError",
     "evalue": "parameter without a default follows parameter with a default (1643681982.py, line 3)",
     "output_type": "error",
     "traceback": [
      "  \u001b[36mCell\u001b[39m\u001b[36m \u001b[39m\u001b[32mIn[146]\u001b[39m\u001b[32m, line 3\u001b[39m\n\u001b[31m    \u001b[39m\u001b[31mdef say_myself(name, man= True, old ):\u001b[39m\n                                    ^\n\u001b[31mSyntaxError\u001b[39m\u001b[31m:\u001b[39m parameter without a default follows parameter with a default\n"
     ]
    }
   ],
   "source": [
    "# 초깃값은 중간에 설정하면 안됨\n",
    "\n",
    "def say_myself(name, man= True, old ): \n",
    "    print(\"나의 이름은 %s입니다.\" %name) \n",
    "    print(\"나이는 %d살 입니다.\" %old) \n",
    "\n",
    "    if man : \n",
    "        print(\"남자 입니다.\") \n",
    "    else : \n",
    "        print(\"여자입니다. \") \n",
    "\n",
    "say_myself('임정한',23)"
   ]
  },
  {
   "cell_type": "code",
   "execution_count": 156,
   "id": "1f51f413-53de-482d-9019-6fd9aa3a6376",
   "metadata": {},
   "outputs": [
    {
     "name": "stdout",
     "output_type": "stream",
     "text": [
      "1\n"
     ]
    }
   ],
   "source": [
    "#함수 안에서 선언한 변수의 효력 범위 => 내부에서만 사용\n",
    "#error ㅣ a=1의 공간과 함수 vartest안에서 선언된 a는 다른 메모리 영역에 있어서 공유되지 않음. \n",
    "\n",
    "a =  1 \n",
    "def vartest(a) : \n",
    "    a = a + 1 \n",
    "\n",
    "vartest(a) \n",
    "print(a)"
   ]
  },
  {
   "cell_type": "code",
   "execution_count": 171,
   "id": "2c78ddbf",
   "metadata": {},
   "outputs": [
    {
     "name": "stdout",
     "output_type": "stream",
     "text": [
      "1\n"
     ]
    }
   ],
   "source": [
    "#함수 안에서 선언한 변수의 효력 범위 => 내부에서만 사용\n",
    "#error ㅣ a=1의 공간과 함수 vartest안에서 선언된 a는 다른 메모리 영역에 있어서 공유되지 않음. \n",
    "\n",
    "a= 1\n",
    "def vartest(a) : \n",
    "    a = a + 1 \n",
    "\n",
    "vartest(a) \n",
    "print(a)"
   ]
  },
  {
   "cell_type": "code",
   "execution_count": 174,
   "id": "13b41061",
   "metadata": {},
   "outputs": [
    {
     "name": "stdout",
     "output_type": "stream",
     "text": [
      "2\n"
     ]
    }
   ],
   "source": [
    "#위 error에 대한 해결 방법 1 : return 사용 \n",
    "\n",
    "a =  1 \n",
    "def vartest(a) : \n",
    "    a = a + 1 \n",
    "    return a # a를 밖으로 꺼내겠다\n",
    "\n",
    "a = vartest(a) \n",
    "print(a)"
   ]
  },
  {
   "cell_type": "code",
   "execution_count": 162,
   "id": "20f5e73f",
   "metadata": {},
   "outputs": [
    {
     "name": "stdout",
     "output_type": "stream",
     "text": [
      "2\n"
     ]
    }
   ],
   "source": [
    "#위 error에 대한 해결 방법 2 : global 사용 \n",
    "\n",
    "a =  1 \n",
    "def vartest() : \n",
    "    global a \n",
    "    a = a + 1 \n",
    "\n",
    "vartest() \n",
    "print(a)"
   ]
  },
  {
   "cell_type": "code",
   "execution_count": 179,
   "id": "5d2f3651-db3c-434e-896e-1602eec345e3",
   "metadata": {},
   "outputs": [
    {
     "name": "stdout",
     "output_type": "stream",
     "text": [
      "7\n"
     ]
    }
   ],
   "source": [
    "# lambda\n",
    "add = lambda a, b : a+b \n",
    "result = add(3,4) \n",
    "print(result) "
   ]
  },
  {
   "cell_type": "code",
   "execution_count": 182,
   "id": "c8ca10d1-b33b-4436-9f8b-fc7341491e61",
   "metadata": {},
   "outputs": [
    {
     "name": "stdout",
     "output_type": "stream",
     "text": [
      "7\n"
     ]
    }
   ],
   "source": [
    "def add(a,b): \n",
    "    return a + b \n",
    "\n",
    "result = add(3,4) \n",
    "print(result)"
   ]
  },
  {
   "cell_type": "code",
   "execution_count": null,
   "id": "f584cf84-0600-409a-8a58-73a2cc8251ce",
   "metadata": {},
   "outputs": [],
   "source": []
  }
 ],
 "metadata": {
  "kernelspec": {
   "display_name": "Python 3 (ipykernel)",
   "language": "python",
   "name": "python3"
  },
  "language_info": {
   "codemirror_mode": {
    "name": "ipython",
    "version": 3
   },
   "file_extension": ".py",
   "mimetype": "text/x-python",
   "name": "python",
   "nbconvert_exporter": "python",
   "pygments_lexer": "ipython3",
   "version": "3.13.5"
  }
 },
 "nbformat": 4,
 "nbformat_minor": 5
}

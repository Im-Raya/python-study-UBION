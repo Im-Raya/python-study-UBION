{
 "cells": [
  {
   "cell_type": "markdown",
   "id": "8a9c83b2-9ef9-402d-be3f-00cd9e9d6c33",
   "metadata": {},
   "source": [
    "### 01.리스트"
   ]
  },
  {
   "cell_type": "markdown",
   "id": "cf02586d-d861-480b-a43e-08f71891f789",
   "metadata": {},
   "source": [
    "#### 인덱싱"
   ]
  },
  {
   "cell_type": "code",
   "execution_count": 4,
   "id": "e02f3f5d-bc1d-4b1a-8ada-90940df68882",
   "metadata": {},
   "outputs": [
    {
     "data": {
      "text/plain": [
       "[1, 2, 3]"
      ]
     },
     "execution_count": 4,
     "metadata": {},
     "output_type": "execute_result"
    }
   ],
   "source": [
    "a= [1,2,3]\n",
    "a"
   ]
  },
  {
   "cell_type": "code",
   "execution_count": 5,
   "id": "6b123278-1e6d-40fb-adcc-60a23709c253",
   "metadata": {},
   "outputs": [
    {
     "data": {
      "text/plain": [
       "1"
      ]
     },
     "execution_count": 5,
     "metadata": {},
     "output_type": "execute_result"
    }
   ],
   "source": [
    "a[0]"
   ]
  },
  {
   "cell_type": "code",
   "execution_count": 6,
   "id": "31581890-340f-44df-bec2-71b0c487a4ad",
   "metadata": {},
   "outputs": [
    {
     "data": {
      "text/plain": [
       "4"
      ]
     },
     "execution_count": 6,
     "metadata": {},
     "output_type": "execute_result"
    }
   ],
   "source": [
    "a[0] + a[2]"
   ]
  },
  {
   "cell_type": "code",
   "execution_count": 7,
   "id": "34bb3b7b-bd6b-44fd-94aa-7e6754838702",
   "metadata": {},
   "outputs": [
    {
     "data": {
      "text/plain": [
       "3"
      ]
     },
     "execution_count": 7,
     "metadata": {},
     "output_type": "execute_result"
    }
   ],
   "source": [
    "a[-1]"
   ]
  },
  {
   "cell_type": "code",
   "execution_count": 9,
   "id": "d29c94df-867a-4e33-9886-8f409833b101",
   "metadata": {},
   "outputs": [
    {
     "data": {
      "text/plain": [
       "['a', 'b', 'c']"
      ]
     },
     "execution_count": 9,
     "metadata": {},
     "output_type": "execute_result"
    }
   ],
   "source": [
    "a = [1,2,3, ['a', 'b','c']]\n",
    "a[3]"
   ]
  },
  {
   "cell_type": "markdown",
   "id": "2b3a0f95-5744-46da-bd79-2252b0e0f842",
   "metadata": {},
   "source": [
    "##### 슬라이싱"
   ]
  },
  {
   "cell_type": "code",
   "execution_count": 14,
   "id": "581b2654-e376-488f-a869-f32a405f10c6",
   "metadata": {},
   "outputs": [
    {
     "data": {
      "text/plain": [
       "([1, 2], [1, 2])"
      ]
     },
     "execution_count": 14,
     "metadata": {},
     "output_type": "execute_result"
    }
   ],
   "source": [
    "# 두 표시 방법은 동일하다.\n",
    "a[0:2], a[:2]"
   ]
  },
  {
   "cell_type": "markdown",
   "id": "3d3bc3d9-c40d-4803-9594-6e30d9c8ff65",
   "metadata": {},
   "source": [
    "##### 연산하기"
   ]
  },
  {
   "cell_type": "code",
   "execution_count": 15,
   "id": "96ec5b4a-6540-4e68-b274-580e966d0419",
   "metadata": {},
   "outputs": [
    {
     "data": {
      "text/plain": [
       "[1, 2, 3, 4, 5, 6]"
      ]
     },
     "execution_count": 15,
     "metadata": {},
     "output_type": "execute_result"
    }
   ],
   "source": [
    "a = [1,2,3]\n",
    "b = [4,5,6]\n",
    "a + b"
   ]
  },
  {
   "cell_type": "code",
   "execution_count": 16,
   "id": "d2b79500-513c-49f2-b40a-7723bfa4eae7",
   "metadata": {},
   "outputs": [
    {
     "data": {
      "text/plain": [
       "[1, 2, 3, 1, 2, 3, 1, 2, 3]"
      ]
     },
     "execution_count": 16,
     "metadata": {},
     "output_type": "execute_result"
    }
   ],
   "source": [
    "a *3 "
   ]
  },
  {
   "cell_type": "code",
   "execution_count": 18,
   "id": "6adad3b1-8cf8-4e83-adb7-391e70f333ee",
   "metadata": {},
   "outputs": [
    {
     "data": {
      "text/plain": [
       "3"
      ]
     },
     "execution_count": 18,
     "metadata": {},
     "output_type": "execute_result"
    }
   ],
   "source": [
    "len(a)"
   ]
  },
  {
   "cell_type": "markdown",
   "id": "235cc359-9ff9-4560-90e5-b3135e798d23",
   "metadata": {},
   "source": [
    "##### 수정/삭제"
   ]
  },
  {
   "cell_type": "code",
   "execution_count": 21,
   "id": "ff0d1e80-bed4-4c7c-9a30-361ae33d8e18",
   "metadata": {},
   "outputs": [
    {
     "data": {
      "text/plain": [
       "[1, 2, 4]"
      ]
     },
     "execution_count": 21,
     "metadata": {},
     "output_type": "execute_result"
    }
   ],
   "source": [
    "a = [1,2,3]\n",
    "a[2] = 4\n",
    "a"
   ]
  },
  {
   "cell_type": "code",
   "execution_count": 23,
   "id": "ef1717e3-6f52-4977-8fe9-7e2b1aeb2e57",
   "metadata": {},
   "outputs": [
    {
     "data": {
      "text/plain": [
       "[1, 3]"
      ]
     },
     "execution_count": 23,
     "metadata": {},
     "output_type": "execute_result"
    }
   ],
   "source": [
    "# 요소 삭제 (del)\n",
    "a = [1,2,3]\n",
    "del a[1]\n",
    "a"
   ]
  },
  {
   "cell_type": "markdown",
   "id": "327a3c02-991d-4111-b59d-fe3b06b798cc",
   "metadata": {},
   "source": [
    "##### 함수들"
   ]
  },
  {
   "cell_type": "code",
   "execution_count": 25,
   "id": "1a0da146-77f2-41d3-a5c6-dcb8145254d5",
   "metadata": {},
   "outputs": [
    {
     "data": {
      "text/plain": [
       "[1, 2, 3, 4]"
      ]
     },
     "execution_count": 25,
     "metadata": {},
     "output_type": "execute_result"
    }
   ],
   "source": [
    "a = [1,2,3]\n",
    "a.append(4)\n",
    "a"
   ]
  },
  {
   "cell_type": "code",
   "execution_count": 26,
   "id": "14e6dd9c-9025-416b-b5ac-2161ba146a8a",
   "metadata": {},
   "outputs": [
    {
     "data": {
      "text/plain": [
       "[1, 2, 3, 4, [5, 6]]"
      ]
     },
     "execution_count": 26,
     "metadata": {},
     "output_type": "execute_result"
    }
   ],
   "source": [
    "a.append([5,6])\n",
    "a"
   ]
  },
  {
   "cell_type": "code",
   "execution_count": 28,
   "id": "850c96a0-1d80-4e66-8139-369c0ec3fe06",
   "metadata": {},
   "outputs": [
    {
     "data": {
      "text/plain": [
       "[1, 2, 3, 4]"
      ]
     },
     "execution_count": 28,
     "metadata": {},
     "output_type": "execute_result"
    }
   ],
   "source": [
    "# 정렬(sort)\n",
    "a = [1,4,3,2]\n",
    "a.sort()\n",
    "a"
   ]
  },
  {
   "cell_type": "code",
   "execution_count": 30,
   "id": "275e156e-7d38-40a1-b13b-b89f39505142",
   "metadata": {},
   "outputs": [
    {
     "data": {
      "text/plain": [
       "['c', 'b', 'a']"
      ]
     },
     "execution_count": 30,
     "metadata": {},
     "output_type": "execute_result"
    }
   ],
   "source": [
    "# 뒤집기(reverse)\n",
    "a = [ 'a', 'b', 'c' ]\n",
    "a.reverse()\n",
    "a"
   ]
  },
  {
   "cell_type": "code",
   "execution_count": 35,
   "id": "efa287fd-771c-41ed-9a55-8d64e82c4fa4",
   "metadata": {},
   "outputs": [
    {
     "name": "stdout",
     "output_type": "stream",
     "text": [
      "2\n",
      "0\n"
     ]
    }
   ],
   "source": [
    "#인덱스 반환(index) 위치를 알려줌\n",
    "a = [1,2,3]\n",
    "print(a.index(3))\n",
    "print(a.index(1)) "
   ]
  },
  {
   "cell_type": "code",
   "execution_count": 37,
   "id": "4ea0e7a7-43d5-4b8d-b566-489966ea5054",
   "metadata": {},
   "outputs": [
    {
     "data": {
      "text/plain": [
       "[4, 1, 2, 3]"
      ]
     },
     "execution_count": 37,
     "metadata": {},
     "output_type": "execute_result"
    }
   ],
   "source": [
    "# 요소 삽입(insert)\n",
    "a = [1,2,3]\n",
    "a.insert(0,4)\n",
    "a"
   ]
  },
  {
   "cell_type": "code",
   "execution_count": 39,
   "id": "cd8343da-5314-4f6d-accf-c26a4e510cb3",
   "metadata": {},
   "outputs": [
    {
     "data": {
      "text/plain": [
       "[1, 2, 1, 2, 3]"
      ]
     },
     "execution_count": 39,
     "metadata": {},
     "output_type": "execute_result"
    }
   ],
   "source": [
    "# 요소 제거(remove) _ 해당 위치 값을 제거 하는 거임! 데이터3 지우는거 아님 \n",
    "a = [1,2,3,1,2,3]\n",
    "a.remove(3)\n",
    "a"
   ]
  },
  {
   "cell_type": "code",
   "execution_count": 43,
   "id": "296298c5-3dce-49fc-991a-8e3842e733d7",
   "metadata": {},
   "outputs": [
    {
     "data": {
      "text/plain": [
       "3"
      ]
     },
     "execution_count": 43,
     "metadata": {},
     "output_type": "execute_result"
    }
   ],
   "source": [
    "# 요소 끄집어내기(pop) _ 마지막에 넣은 것을 먼저 꺼냄 \n",
    "a = [1,2,3]\n",
    "a.pop()"
   ]
  },
  {
   "cell_type": "code",
   "execution_count": 44,
   "id": "2adadce4-d99a-4744-8f65-7c21ef88a5cd",
   "metadata": {},
   "outputs": [
    {
     "data": {
      "text/plain": [
       "[1, 2]"
      ]
     },
     "execution_count": 44,
     "metadata": {},
     "output_type": "execute_result"
    }
   ],
   "source": [
    "a"
   ]
  },
  {
   "cell_type": "code",
   "execution_count": 46,
   "id": "7369bc23-6929-4c6d-8815-c3e3b18d334d",
   "metadata": {},
   "outputs": [
    {
     "data": {
      "text/plain": [
       "2"
      ]
     },
     "execution_count": 46,
     "metadata": {},
     "output_type": "execute_result"
    }
   ],
   "source": [
    "#요소 x의 개수 세기 (count)\n",
    "a = [1,2,3,1]\n",
    "a.count(1)"
   ]
  },
  {
   "cell_type": "code",
   "execution_count": 49,
   "id": "4d7108fc-f13e-47ad-9383-e75b3424a575",
   "metadata": {},
   "outputs": [
    {
     "data": {
      "text/plain": [
       "[1, 2, 3, 4, 5]"
      ]
     },
     "execution_count": 49,
     "metadata": {},
     "output_type": "execute_result"
    }
   ],
   "source": [
    "#확장(extend)\n",
    "a = [1,2,3]\n",
    "a.extend( [4,5] )\n",
    "a"
   ]
  },
  {
   "cell_type": "markdown",
   "id": "35de3035-9d73-4df7-a772-6354b3d27198",
   "metadata": {},
   "source": [
    "### MISSION"
   ]
  },
  {
   "cell_type": "markdown",
   "id": "3467daae-98db-4cde-abef-70173c177ebe",
   "metadata": {},
   "source": [
    "* 이진우씨의 과목뵬 점수는 각각 다음과 같다. 평균 점수를 구하자."
   ]
  },
  {
   "cell_type": "code",
   "execution_count": 52,
   "id": "562eff80-f3dc-4f45-a6bb-7943b9458bba",
   "metadata": {},
   "outputs": [
    {
     "data": {
      "text/plain": [
       "92.0"
      ]
     },
     "execution_count": 52,
     "metadata": {},
     "output_type": "execute_result"
    }
   ],
   "source": [
    "a = 90\n",
    "b = 88\n",
    "c = 98\n",
    "(a+b+c) / 3"
   ]
  },
  {
   "cell_type": "code",
   "execution_count": 55,
   "id": "b9f4f485-58f2-497c-ab6a-cfc7d7622519",
   "metadata": {},
   "outputs": [
    {
     "data": {
      "text/plain": [
       "92.0"
      ]
     },
     "execution_count": 55,
     "metadata": {},
     "output_type": "execute_result"
    }
   ],
   "source": [
    "a = 90\n",
    "b = 88\n",
    "c = 98\n",
    "sum([a,b,c])/len([a,b,c])"
   ]
  },
  {
   "cell_type": "markdown",
   "id": "74f041d0-972f-4e47-b367-9c0fd45079c3",
   "metadata": {},
   "source": [
    "* 특정숫자 13이 홀수인지 짝수인지 판별해보자. (%) "
   ]
  },
  {
   "cell_type": "code",
   "execution_count": 63,
   "id": "ff448b09-11f2-4c5d-bdc8-c6f03d8a915f",
   "metadata": {},
   "outputs": [
    {
     "data": {
      "text/plain": [
       "(1, 0)"
      ]
     },
     "execution_count": 63,
     "metadata": {},
     "output_type": "execute_result"
    }
   ],
   "source": [
    "#1이라고 나오면 홀 수, 0나오면 짝수 \n",
    "13 % 2, 4 % 2"
   ]
  },
  {
   "cell_type": "markdown",
   "id": "589c3884-de48-47f8-bb88-6b6f00ae1b7d",
   "metadata": {},
   "source": [
    "* 임수진씨의 주민번호는 011120-2068234이다. 주민등록번호를 연월일(YYYYMMDD) 부분과 숫자 뒷부분으로 나누어 출력해 보자.\n",
    "  (술라이싱으로) "
   ]
  },
  {
   "cell_type": "code",
   "execution_count": 75,
   "id": "76fa4776-21ec-4656-84ab-9ae657630b78",
   "metadata": {},
   "outputs": [
    {
     "data": {
      "text/plain": [
       "'011120-2068234'"
      ]
     },
     "execution_count": 75,
     "metadata": {},
     "output_type": "execute_result"
    }
   ],
   "source": [
    "pin = '011120-2068234'\n",
    "pin"
   ]
  },
  {
   "cell_type": "code",
   "execution_count": 74,
   "id": "6d484c2a-8232-473c-83d8-bbb356ce467e",
   "metadata": {},
   "outputs": [
    {
     "data": {
      "text/plain": [
       "('011120', '2068234')"
      ]
     },
     "execution_count": 74,
     "metadata": {},
     "output_type": "execute_result"
    }
   ],
   "source": [
    "pin[:6] , pin[7:]"
   ]
  },
  {
   "cell_type": "markdown",
   "id": "649f2de7-c178-42ef-8340-259db9bda4ee",
   "metadata": {},
   "source": [
    "* 남자인지 여자인지 구분해보자."
   ]
  },
  {
   "cell_type": "code",
   "execution_count": 80,
   "id": "a779e7c9-63c1-4846-8da6-dabec112b703",
   "metadata": {},
   "outputs": [
    {
     "name": "stdout",
     "output_type": "stream",
     "text": [
      "여자입니다.\n"
     ]
    }
   ],
   "source": [
    "pin = '011120-2068234'\n",
    "if pin[7] == '1' :\n",
    "    print(\"남자입니다.\")\n",
    "else :\n",
    "    print(\"여자입니다.\")"
   ]
  },
  {
   "cell_type": "markdown",
   "id": "f5e92471-517a-43ca-96cd-54f1465ff93b",
   "metadata": {},
   "source": [
    "* a:b:c:d 문자열이 있다. 이 문자열을 a#b#c#d로 바꾸어보자 ( 끼워넣는게 아니라 바꾸기 :을 #으로) "
   ]
  },
  {
   "cell_type": "code",
   "execution_count": 96,
   "id": "9ac69dc8-df46-4059-867f-0d8642842154",
   "metadata": {},
   "outputs": [
    {
     "data": {
      "text/plain": [
       "'a#b#c#d'"
      ]
     },
     "execution_count": 96,
     "metadata": {},
     "output_type": "execute_result"
    }
   ],
   "source": [
    "a = 'a:b:c:d'\n",
    "a.replace(\":\", \"#\")"
   ]
  },
  {
   "cell_type": "code",
   "execution_count": 97,
   "id": "755d3154-9bfa-486b-8d63-1965cbaae273",
   "metadata": {},
   "outputs": [
    {
     "data": {
      "text/plain": [
       "'a:b:c:d'"
      ]
     },
     "execution_count": 97,
     "metadata": {},
     "output_type": "execute_result"
    }
   ],
   "source": [
    "a \n",
    "# replace는 원래 a는 보존하고, 클론을 만든거.\n",
    "# 그래서 다시 a를 찍으면 원래 a값이 나옴. "
   ]
  },
  {
   "cell_type": "markdown",
   "id": "8b80a73c-bfbe-48bc-8624-c5b37c8ad47a",
   "metadata": {},
   "source": [
    "* [1, 3, 5, 4, 2]를 [5,4,3,2,1]로 만들기"
   ]
  },
  {
   "cell_type": "code",
   "execution_count": 98,
   "id": "053989f2-500e-4697-87fa-3176e31543ad",
   "metadata": {},
   "outputs": [
    {
     "data": {
      "text/plain": [
       "[5, 4, 3, 2, 1]"
      ]
     },
     "execution_count": 98,
     "metadata": {},
     "output_type": "execute_result"
    }
   ],
   "source": [
    "a = [1, 3, 5, 4, 2]\n",
    "a.sort() \n",
    "# sort는 a를 찍지 않으면 출력되지 않음. \n",
    "# 근데 위에 replace는 바로 값이 나옴. \n",
    "# 이 차이는 a를 바로 바꾸는지, 아니면 a의 클론을 만들어서 a의 클론을 출력하는 형식인지의 차이. \n",
    "# 위에는 클론을 넘겨준 것, sort는 a 자체를 변경시킨 것. \n",
    "\n",
    "a.reverse()\n",
    "a"
   ]
  },
  {
   "cell_type": "code",
   "execution_count": 100,
   "id": "08bdda3b-4f97-42e1-a15a-4c1407e2ab9f",
   "metadata": {},
   "outputs": [
    {
     "data": {
      "text/plain": [
       "[5, 4, 3, 2, 1]"
      ]
     },
     "execution_count": 100,
     "metadata": {},
     "output_type": "execute_result"
    }
   ],
   "source": [
    "a\n",
    "#a값 자체가 변경되었음"
   ]
  },
  {
   "cell_type": "markdown",
   "id": "e7ca9420-43ec-4fbe-abe0-79597cad38b6",
   "metadata": {},
   "source": [
    "* ['life' ,'is','too', 'short']리스트를 life is too short 문자열로 만들어서 출력"
   ]
  },
  {
   "cell_type": "code",
   "execution_count": 104,
   "id": "6704d2dc-c95d-4d98-951a-812f09557823",
   "metadata": {},
   "outputs": [
    {
     "data": {
      "text/plain": [
       "'Life is too short'"
      ]
     },
     "execution_count": 104,
     "metadata": {},
     "output_type": "execute_result"
    }
   ],
   "source": [
    "a = ['Life' ,'is','too', 'short']\n",
    "\" \".join(a) "
   ]
  },
  {
   "cell_type": "markdown",
   "id": "40638886-81ca-480e-9d35-1cfff3a6d682",
   "metadata": {
    "scrolled": true
   },
   "source": [
    "* nums = [1,2,3,4,5,6]리스트에서 짝수만 출력하기"
   ]
  },
  {
   "cell_type": "code",
   "execution_count": 141,
   "id": "26619952-3c31-4457-a4da-2b3c18be1ea8",
   "metadata": {},
   "outputs": [
    {
     "name": "stdout",
     "output_type": "stream",
     "text": [
      "1\n",
      "2\n",
      "3\n",
      "4\n",
      "5\n",
      "6\n"
     ]
    }
   ],
   "source": [
    "nums = [1,2,3,4,5,6] \n",
    "for x in range(len(nums)):\n",
    "    print(nums[x])"
   ]
  },
  {
   "cell_type": "code",
   "execution_count": 140,
   "id": "7c248e89-1a89-4b90-a2ea-72ff7322871c",
   "metadata": {},
   "outputs": [
    {
     "name": "stdout",
     "output_type": "stream",
     "text": [
      "홀수\n",
      "짝수\n",
      "홀수\n",
      "짝수\n",
      "홀수\n",
      "짝수\n"
     ]
    }
   ],
   "source": [
    "nums = [1,2,3,4,5,6] \n",
    "for x in nums : \n",
    "    if x % 2 == 0 :\n",
    "        print(\"짝수\")\n",
    "    else:\n",
    "        print(\"홀수\")"
   ]
  },
  {
   "cell_type": "code",
   "execution_count": 139,
   "id": "da2ef67a-5338-411c-a2e4-1c3007585fe6",
   "metadata": {},
   "outputs": [
    {
     "name": "stdout",
     "output_type": "stream",
     "text": [
      "2\n",
      "4\n",
      "6\n"
     ]
    }
   ],
   "source": [
    "nums = [1,2,3,4,5,6] \n",
    "for x in nums : \n",
    "  if x % 2 == 0 :\n",
    "        print(x)"
   ]
  },
  {
   "cell_type": "markdown",
   "id": "5b545581-2bcd-43c5-8a43-365fc8fd3571",
   "metadata": {},
   "source": [
    "## 02.튜플 _ read only"
   ]
  },
  {
   "cell_type": "markdown",
   "id": "2a671dfc-36f0-4b2e-8d22-7a9e9daf5855",
   "metadata": {},
   "source": [
    "리스트와 비슷하지만, 저장할 수 있는 자료. \n",
    "한번 만들면 수정할 수 없음 \n",
    "중복 허용 \n",
    "대괄호 [] → 리스트, \n",
    "소괄호 () 또는 쉼표만 → 튜플"
   ]
  },
  {
   "cell_type": "code",
   "execution_count": 1,
   "id": "5a981718-7c70-49a5-951d-dfca8936b232",
   "metadata": {},
   "outputs": [],
   "source": [
    "t1 = () \n",
    "t2 = (1,) #값 하나만 넣어도 꼭 쉼표가 들어가야 함. \n",
    "t3 = (1,2)\n",
    "t4 = (1,2,3) \n",
    "t5 = ( 'a', 'b', ('ab', 'cd'))"
   ]
  },
  {
   "cell_type": "code",
   "execution_count": 144,
   "id": "ebc6a3d5-3fc8-4122-9306-e2d4942e8c0b",
   "metadata": {},
   "outputs": [
    {
     "ename": "TypeError",
     "evalue": "'tuple' object doesn't support item deletion",
     "output_type": "error",
     "traceback": [
      "\u001b[31m---------------------------------------------------------------------------\u001b[39m",
      "\u001b[31mTypeError\u001b[39m                                 Traceback (most recent call last)",
      "\u001b[36mCell\u001b[39m\u001b[36m \u001b[39m\u001b[32mIn[144]\u001b[39m\u001b[32m, line 3\u001b[39m\n\u001b[32m      1\u001b[39m \u001b[38;5;66;03m# 요솟값 삭제 __ 오류 남 ; reaf only라서\u001b[39;00m\n\u001b[32m      2\u001b[39m t1 = (\u001b[32m1\u001b[39m, \u001b[32m2\u001b[39m, \u001b[33m'\u001b[39m\u001b[33ma\u001b[39m\u001b[33m'\u001b[39m, \u001b[33m'\u001b[39m\u001b[33mb\u001b[39m\u001b[33m'\u001b[39m) \n\u001b[32m----> \u001b[39m\u001b[32m3\u001b[39m \u001b[38;5;28;01mdel\u001b[39;00m \u001b[43mt1\u001b[49m\u001b[43m[\u001b[49m\u001b[32;43m0\u001b[39;49m\u001b[43m]\u001b[49m\n",
      "\u001b[31mTypeError\u001b[39m: 'tuple' object doesn't support item deletion"
     ]
    }
   ],
   "source": [
    "# 요솟값 삭제 __ 오류 남 ; reaf only라서\n",
    "t1 = (1, 2, 'a', 'b') \n",
    "del t1[0]"
   ]
  },
  {
   "cell_type": "code",
   "execution_count": 145,
   "id": "4a37906a-eb47-40b9-afb6-e354002e8a06",
   "metadata": {},
   "outputs": [
    {
     "ename": "TypeError",
     "evalue": "'tuple' object does not support item assignment",
     "output_type": "error",
     "traceback": [
      "\u001b[31m---------------------------------------------------------------------------\u001b[39m",
      "\u001b[31mTypeError\u001b[39m                                 Traceback (most recent call last)",
      "\u001b[36mCell\u001b[39m\u001b[36m \u001b[39m\u001b[32mIn[145]\u001b[39m\u001b[32m, line 2\u001b[39m\n\u001b[32m      1\u001b[39m \u001b[38;5;66;03m# 요솟값 변경 error\u001b[39;00m\n\u001b[32m----> \u001b[39m\u001b[32m2\u001b[39m \u001b[43mt1\u001b[49m\u001b[43m[\u001b[49m\u001b[32;43m0\u001b[39;49m\u001b[43m]\u001b[49m = \u001b[33m'\u001b[39m\u001b[33mc\u001b[39m\u001b[33m'\u001b[39m\n",
      "\u001b[31mTypeError\u001b[39m: 'tuple' object does not support item assignment"
     ]
    }
   ],
   "source": [
    "# 요솟값 변경 error\n",
    "t1[0] = 'c'"
   ]
  },
  {
   "cell_type": "code",
   "execution_count": 147,
   "id": "49a9d850-82ee-4d61-9a8f-fd41550ad13e",
   "metadata": {},
   "outputs": [
    {
     "data": {
      "text/plain": [
       "(1, 'b')"
      ]
     },
     "execution_count": 147,
     "metadata": {},
     "output_type": "execute_result"
    }
   ],
   "source": [
    "# 인덱싱\n",
    "t1[0], t1[3]"
   ]
  },
  {
   "cell_type": "code",
   "execution_count": 149,
   "id": "bbb59af4-c1a7-4240-aa0f-c811ea52f754",
   "metadata": {},
   "outputs": [
    {
     "data": {
      "text/plain": [
       "(2, 'a', 'b')"
      ]
     },
     "execution_count": 149,
     "metadata": {},
     "output_type": "execute_result"
    }
   ],
   "source": [
    "# 슬라이싱 \n",
    "t1[1:]"
   ]
  },
  {
   "cell_type": "code",
   "execution_count": null,
   "id": "1234e41f-53a5-49f9-b478-5e01dda15c67",
   "metadata": {},
   "outputs": [],
   "source": []
  }
 ],
 "metadata": {
  "kernelspec": {
   "display_name": "Python 3 (ipykernel)",
   "language": "python",
   "name": "python3"
  },
  "language_info": {
   "codemirror_mode": {
    "name": "ipython",
    "version": 3
   },
   "file_extension": ".py",
   "mimetype": "text/x-python",
   "name": "python",
   "nbconvert_exporter": "python",
   "pygments_lexer": "ipython3",
   "version": "3.13.5"
  }
 },
 "nbformat": 4,
 "nbformat_minor": 5
}

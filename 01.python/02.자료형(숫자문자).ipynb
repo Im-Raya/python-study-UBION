{
 "cells": [
  {
   "cell_type": "markdown",
   "id": "a07f3638-0742-43b6-ad87-6c9768d88503",
   "metadata": {},
   "source": [
    "### 01.숫자형"
   ]
  },
  {
   "cell_type": "code",
   "execution_count": 1,
   "id": "56ebc310-0de3-4e24-bcc1-d7c40745dc50",
   "metadata": {},
   "outputs": [
    {
     "name": "stdout",
     "output_type": "stream",
     "text": [
      "7\n"
     ]
    }
   ],
   "source": [
    "a = 3\n",
    "b = 4\n",
    "c = a + b\n",
    "print(c)"
   ]
  },
  {
   "cell_type": "code",
   "execution_count": 2,
   "id": "84274277-bfc2-4fc7-925b-2425b4821463",
   "metadata": {},
   "outputs": [
    {
     "data": {
      "text/plain": [
       "8"
      ]
     },
     "execution_count": 2,
     "metadata": {},
     "output_type": "execute_result"
    }
   ],
   "source": [
    "c = c + 1\n",
    "c "
   ]
  },
  {
   "cell_type": "code",
   "execution_count": 3,
   "id": "b729f843-6785-4966-9008-9604329e29ef",
   "metadata": {},
   "outputs": [
    {
     "data": {
      "text/plain": [
       "9"
      ]
     },
     "execution_count": 3,
     "metadata": {},
     "output_type": "execute_result"
    }
   ],
   "source": [
    "c += 1\n",
    "c"
   ]
  },
  {
   "cell_type": "code",
   "execution_count": 4,
   "id": "99434948-69cd-4f4b-882c-11000f0faf4e",
   "metadata": {},
   "outputs": [
    {
     "data": {
      "text/plain": [
       "10.0"
      ]
     },
     "execution_count": 4,
     "metadata": {},
     "output_type": "execute_result"
    }
   ],
   "source": [
    "a = 3\n",
    "b = 7.0\n",
    "a + b "
   ]
  },
  {
   "cell_type": "markdown",
   "id": "04e5a492-5872-4732-b290-0935196b896f",
   "metadata": {},
   "source": [
    "### 02.문자열"
   ]
  },
  {
   "cell_type": "code",
   "execution_count": 13,
   "id": "58b173ee-a2c3-4972-8ee2-a4fb4f29ea5b",
   "metadata": {},
   "outputs": [
    {
     "ename": "SyntaxError",
     "evalue": "unterminated string literal (detected at line 1) (2705242216.py, line 1)",
     "output_type": "error",
     "traceback": [
      "  \u001b[36mCell\u001b[39m\u001b[36m \u001b[39m\u001b[32mIn[13]\u001b[39m\u001b[32m, line 1\u001b[39m\n\u001b[31m    \u001b[39m\u001b[31mprint(\"안녕하세요.\u001b[39m\n          ^\n\u001b[31mSyntaxError\u001b[39m\u001b[31m:\u001b[39m unterminated string literal (detected at line 1)\n"
     ]
    }
   ],
   "source": [
    "print(\"안녕하세요. \n",
    "날씨가 좋아요\")"
   ]
  },
  {
   "cell_type": "code",
   "execution_count": 11,
   "id": "c8707b55-073f-416f-b975-84f4fb64cdce",
   "metadata": {},
   "outputs": [
    {
     "ename": "SyntaxError",
     "evalue": "unterminated string literal (detected at line 1) (3867084549.py, line 1)",
     "output_type": "error",
     "traceback": [
      "  \u001b[36mCell\u001b[39m\u001b[36m \u001b[39m\u001b[32mIn[11]\u001b[39m\u001b[32m, line 1\u001b[39m\n\u001b[31m    \u001b[39m\u001b[31mprint('안녕하세요.\u001b[39m\n          ^\n\u001b[31mSyntaxError\u001b[39m\u001b[31m:\u001b[39m unterminated string literal (detected at line 1)\n"
     ]
    }
   ],
   "source": [
    "print('안녕하세요. \n",
    "날씨가 좋아요')"
   ]
  },
  {
   "cell_type": "code",
   "execution_count": 9,
   "id": "d118e5d4-f7d4-4a35-9dd0-9ad5da9551e5",
   "metadata": {},
   "outputs": [
    {
     "name": "stdout",
     "output_type": "stream",
     "text": [
      "안녕하세요. \n",
      "날씨가 좋아요\n"
     ]
    }
   ],
   "source": [
    "print(\"\"\"안녕하세요. \n",
    "날씨가 좋아요\"\"\")"
   ]
  },
  {
   "cell_type": "code",
   "execution_count": 12,
   "id": "0fce95c6-43bf-42ad-a60c-17314b68d12b",
   "metadata": {},
   "outputs": [
    {
     "name": "stdout",
     "output_type": "stream",
     "text": [
      "안녕하세요. \n",
      "날씨가 좋아요\n"
     ]
    }
   ],
   "source": [
    "print('''안녕하세요. \n",
    "날씨가 좋아요''')"
   ]
  },
  {
   "cell_type": "code",
   "execution_count": 20,
   "id": "6b78adb6-4524-4a36-a073-c478e2b4f9c2",
   "metadata": {},
   "outputs": [
    {
     "ename": "SyntaxError",
     "evalue": "unterminated string literal (detected at line 2) (648722290.py, line 2)",
     "output_type": "error",
     "traceback": [
      "  \u001b[36mCell\u001b[39m\u001b[36m \u001b[39m\u001b[32mIn[20]\u001b[39m\u001b[32m, line 2\u001b[39m\n\u001b[31m    \u001b[39m\u001b[31mfood = 'python's favorite '\u001b[39m\n                              ^\n\u001b[31mSyntaxError\u001b[39m\u001b[31m:\u001b[39m unterminated string literal (detected at line 2)\n"
     ]
    }
   ],
   "source": [
    "# error : '를 특수문자로 인식 \n",
    "food = 'python's favorite '\n",
    "food"
   ]
  },
  {
   "cell_type": "code",
   "execution_count": 18,
   "id": "1c929a49-8574-4cda-92e2-fd8cd1e7ae8d",
   "metadata": {},
   "outputs": [
    {
     "data": {
      "text/plain": [
       "\"python's favorite \""
      ]
     },
     "execution_count": 18,
     "metadata": {},
     "output_type": "execute_result"
    }
   ],
   "source": [
    "# 해결책 : \"로 감싸기\n",
    "food = \"python's favorite \"\n",
    "food"
   ]
  },
  {
   "cell_type": "code",
   "execution_count": 21,
   "id": "2f29a7ea-2e49-47ff-964d-44b779219e97",
   "metadata": {},
   "outputs": [
    {
     "data": {
      "text/plain": [
       "'\"python is very easy.\" he says.'"
      ]
     },
     "execution_count": 21,
     "metadata": {},
     "output_type": "execute_result"
    }
   ],
   "source": [
    "'\"python is very easy.\" he says.'"
   ]
  },
  {
   "cell_type": "code",
   "execution_count": 23,
   "id": "5716b52d-cffd-4010-a893-4154cd6b7e07",
   "metadata": {},
   "outputs": [
    {
     "data": {
      "text/plain": [
       "'\"python is very easy.\" he says.'"
      ]
     },
     "execution_count": 23,
     "metadata": {},
     "output_type": "execute_result"
    }
   ],
   "source": [
    "\"\\\"python is very easy.\\\" he says.\""
   ]
  },
  {
   "cell_type": "code",
   "execution_count": 27,
   "id": "46845209-41ec-40b8-9a37-2797a86da576",
   "metadata": {},
   "outputs": [
    {
     "name": "stdout",
     "output_type": "stream",
     "text": [
      "안녕하세요. \n",
      "날씨가\t좋아요.\n"
     ]
    }
   ],
   "source": [
    "print( '안녕하세요. \\n날씨가\\t좋아요.')"
   ]
  },
  {
   "cell_type": "code",
   "execution_count": 169,
   "id": "454795ab-f283-4867-a457-4a0ab539497e",
   "metadata": {},
   "outputs": [
    {
     "data": {
      "text/plain": [
       "'python is fun!'"
      ]
     },
     "execution_count": 169,
     "metadata": {},
     "output_type": "execute_result"
    }
   ],
   "source": [
    "head = \"python\"\n",
    "tall = \" is fun!\" \n",
    "head + tall "
   ]
  },
  {
   "cell_type": "code",
   "execution_count": 170,
   "id": "41a6c389-5323-4497-8d37-66841b6f0d65",
   "metadata": {},
   "outputs": [
    {
     "data": {
      "text/plain": [
       "'python python '"
      ]
     },
     "execution_count": 170,
     "metadata": {},
     "output_type": "execute_result"
    }
   ],
   "source": [
    "a = \"python \"\n",
    "a * 2 "
   ]
  },
  {
   "cell_type": "code",
   "execution_count": 31,
   "id": "1b9f0f48-391f-42dc-892e-0af35045515f",
   "metadata": {},
   "outputs": [
    {
     "name": "stdout",
     "output_type": "stream",
     "text": [
      "==================================================\n",
      "my program\n",
      "==================================================\n"
     ]
    }
   ],
   "source": [
    "print ( \"=\" * 50)\n",
    "print(\"my program\")\n",
    "print(\"=\" * 50)"
   ]
  },
  {
   "cell_type": "code",
   "execution_count": 32,
   "id": "b6232ccb-3907-4bbe-823c-e395d8fb85bd",
   "metadata": {},
   "outputs": [
    {
     "data": {
      "text/plain": [
       "17"
      ]
     },
     "execution_count": 32,
     "metadata": {},
     "output_type": "execute_result"
    }
   ],
   "source": [
    "a = \"life is too short\"\n",
    "len(a)"
   ]
  },
  {
   "cell_type": "markdown",
   "id": "3ca8054d-7c20-4c8f-b50c-5b2d5a183e7f",
   "metadata": {},
   "source": [
    "##### 문자열 인덱싱"
   ]
  },
  {
   "cell_type": "code",
   "execution_count": 175,
   "id": "3132b60d-435c-404b-9e1a-bb02acec6337",
   "metadata": {},
   "outputs": [
    {
     "data": {
      "text/plain": [
       "34"
      ]
     },
     "execution_count": 175,
     "metadata": {},
     "output_type": "execute_result"
    }
   ],
   "source": [
    "a = \"life is too short, You need python\"\n",
    "len(a)"
   ]
  },
  {
   "cell_type": "code",
   "execution_count": 174,
   "id": "290c985c-224a-414d-a41b-3be7c8ed82cd",
   "metadata": {},
   "outputs": [
    {
     "data": {
      "text/plain": [
       "'e'"
      ]
     },
     "execution_count": 174,
     "metadata": {},
     "output_type": "execute_result"
    }
   ],
   "source": [
    "a = \"life is too short, You need python\"\n",
    "a[3]"
   ]
  },
  {
   "cell_type": "code",
   "execution_count": 184,
   "id": "95f6a125-6506-4068-a2a5-510431860f3c",
   "metadata": {},
   "outputs": [
    {
     "data": {
      "text/plain": [
       "' '"
      ]
     },
     "execution_count": 184,
     "metadata": {},
     "output_type": "execute_result"
    }
   ],
   "source": [
    "#a요소값 출력\n",
    "a[7]"
   ]
  },
  {
   "cell_type": "code",
   "execution_count": 185,
   "id": "c1f0c8e1-f685-4d0a-909b-8574049170c5",
   "metadata": {},
   "outputs": [
    {
     "data": {
      "text/plain": [
       "'s'"
      ]
     },
     "execution_count": 185,
     "metadata": {},
     "output_type": "execute_result"
    }
   ],
   "source": [
    "a[6]"
   ]
  },
  {
   "cell_type": "code",
   "execution_count": 46,
   "id": "9303a8e6-1fa8-49e3-82fe-15bcb16305d6",
   "metadata": {},
   "outputs": [
    {
     "data": {
      "text/plain": [
       "'n'"
      ]
     },
     "execution_count": 46,
     "metadata": {},
     "output_type": "execute_result"
    }
   ],
   "source": [
    "a[-1]"
   ]
  },
  {
   "cell_type": "markdown",
   "id": "17835a1f-4469-4a8f-9095-f16cb15a1116",
   "metadata": {},
   "source": [
    "##### 문자열 슬라이싱"
   ]
  },
  {
   "cell_type": "code",
   "execution_count": 186,
   "id": "93fb6d63-6c87-4350-b9a7-d69929dce8b6",
   "metadata": {},
   "outputs": [
    {
     "data": {
      "text/plain": [
       "('l', ' ', 'life')"
      ]
     },
     "execution_count": 186,
     "metadata": {},
     "output_type": "execute_result"
    }
   ],
   "source": [
    "a[0], a[4], a[0:4]"
   ]
  },
  {
   "cell_type": "code",
   "execution_count": 49,
   "id": "ad895abc-98d7-4dd3-9e8e-1c75976f9c6f",
   "metadata": {},
   "outputs": [
    {
     "data": {
      "text/plain": [
       "'is'"
      ]
     },
     "execution_count": 49,
     "metadata": {},
     "output_type": "execute_result"
    }
   ],
   "source": [
    "#is 요소 뽑기\n",
    "a[5:7]"
   ]
  },
  {
   "cell_type": "code",
   "execution_count": 50,
   "id": "68f203e0-7fce-46a9-8e4d-7ceb6893e66c",
   "metadata": {},
   "outputs": [
    {
     "data": {
      "text/plain": [
       "'life is too short'"
      ]
     },
     "execution_count": 50,
     "metadata": {},
     "output_type": "execute_result"
    }
   ],
   "source": [
    "a[:17]"
   ]
  },
  {
   "cell_type": "code",
   "execution_count": 51,
   "id": "5040844a-95a7-42e0-996b-eeb9a0c0bbcf",
   "metadata": {},
   "outputs": [
    {
     "data": {
      "text/plain": [
       "'You need python'"
      ]
     },
     "execution_count": 51,
     "metadata": {},
     "output_type": "execute_result"
    }
   ],
   "source": [
    "a[19:]"
   ]
  },
  {
   "cell_type": "code",
   "execution_count": 52,
   "id": "7bb1a858-966f-405d-bcc3-78108783a095",
   "metadata": {},
   "outputs": [
    {
     "data": {
      "text/plain": [
       "'You need'"
      ]
     },
     "execution_count": 52,
     "metadata": {},
     "output_type": "execute_result"
    }
   ],
   "source": [
    "a[19:-7] #19~ -8까지 추출"
   ]
  },
  {
   "cell_type": "code",
   "execution_count": 61,
   "id": "a7e162e4-c43a-49cb-b0a3-206726df4d7c",
   "metadata": {},
   "outputs": [
    {
     "name": "stdout",
     "output_type": "stream",
     "text": [
      "2023 0331 Rainy\n"
     ]
    }
   ],
   "source": [
    "a = \"20230331Rainy\"\n",
    "year = a[:4]\n",
    "day = a[4:8]\n",
    "weather = a[8:]\n",
    "print( year, day, weather ) "
   ]
  },
  {
   "cell_type": "code",
   "execution_count": 156,
   "id": "235c85ed-fa10-4a52-9e52-9fe9daa293b4",
   "metadata": {},
   "outputs": [
    {
     "ename": "TypeError",
     "evalue": "'str' object does not support item assignment",
     "output_type": "error",
     "traceback": [
      "\u001b[31m---------------------------------------------------------------------------\u001b[39m",
      "\u001b[31mTypeError\u001b[39m                                 Traceback (most recent call last)",
      "\u001b[36mCell\u001b[39m\u001b[36m \u001b[39m\u001b[32mIn[156]\u001b[39m\u001b[32m, line 3\u001b[39m\n\u001b[32m      1\u001b[39m \u001b[38;5;66;03m# 문자형은 수정이 불가한 collexction 타입 \u001b[39;00m\n\u001b[32m      2\u001b[39m a = \u001b[33m\"\u001b[39m\u001b[33mpithon\u001b[39m\u001b[33m\"\u001b[39m\n\u001b[32m----> \u001b[39m\u001b[32m3\u001b[39m \u001b[43ma\u001b[49m\u001b[43m[\u001b[49m\u001b[32;43m1\u001b[39;49m\u001b[43m]\u001b[49m = \u001b[33m'\u001b[39m\u001b[33my\u001b[39m\u001b[33m'\u001b[39m\n",
      "\u001b[31mTypeError\u001b[39m: 'str' object does not support item assignment"
     ]
    }
   ],
   "source": [
    "# 문자형은 수정이 불가한 collexction 타입 \n",
    "a = \"pithon\"\n",
    "a[1] = 'y'"
   ]
  },
  {
   "cell_type": "code",
   "execution_count": 64,
   "id": "3a0954a0-2788-4a17-b221-747f5e40af7c",
   "metadata": {},
   "outputs": [
    {
     "data": {
      "text/plain": [
       "'python'"
      ]
     },
     "execution_count": 64,
     "metadata": {},
     "output_type": "execute_result"
    }
   ],
   "source": [
    "a[:1] + 'y' + a[2:]"
   ]
  },
  {
   "cell_type": "markdown",
   "id": "087bbe48-6612-4573-87f7-882b022e7d84",
   "metadata": {},
   "source": [
    "##### 문자열 포매팅"
   ]
  },
  {
   "cell_type": "markdown",
   "id": "8ab297d8-1931-497b-9a09-685462dc2ccd",
   "metadata": {},
   "source": [
    "* 방법 1 : %"
   ]
  },
  {
   "cell_type": "code",
   "execution_count": 66,
   "id": "f18e455c-94f2-4cd1-9c9d-521b151e9957",
   "metadata": {},
   "outputs": [
    {
     "data": {
      "text/plain": [
       "'I eat 4 apples.'"
      ]
     },
     "execution_count": 66,
     "metadata": {},
     "output_type": "execute_result"
    }
   ],
   "source": [
    "\"I eat %d apples.\" % 4"
   ]
  },
  {
   "cell_type": "code",
   "execution_count": 69,
   "id": "6af9ca97-575a-432e-817b-398127e3f9e5",
   "metadata": {},
   "outputs": [
    {
     "name": "stdout",
     "output_type": "stream",
     "text": [
      "안녕\n",
      "안녕\n",
      "안녕\n",
      "안녕\n",
      "안녕\n",
      "하세요\n"
     ]
    }
   ],
   "source": [
    "for x in range(5):\n",
    "    print(\"안녕\")\n",
    "print(\"하세요\")"
   ]
  },
  {
   "cell_type": "code",
   "execution_count": 155,
   "id": "db36e5ca-ea95-41a9-bdda-5c1432417177",
   "metadata": {},
   "outputs": [
    {
     "name": "stdout",
     "output_type": "stream",
     "text": [
      "0\n",
      "1\n",
      "2\n",
      "3\n",
      "4\n"
     ]
    }
   ],
   "source": [
    "# 여기서x는 변수명으로, 내가 하고 싶은대로 지정하것. \n",
    "# a로 바꿔도 됨. \n",
    "for x in range(5):\n",
    "    print(x)"
   ]
  },
  {
   "cell_type": "code",
   "execution_count": 4,
   "id": "ab311e6a-1769-4192-87d5-c3894b993028",
   "metadata": {},
   "outputs": [
    {
     "name": "stdout",
     "output_type": "stream",
     "text": [
      "I eat 1 apples.\n",
      "I eat 2 apples.\n",
      "I eat 3 apples.\n",
      "I eat 4 apples.\n",
      "I eat 5 apples.\n"
     ]
    }
   ],
   "source": [
    "for a in range(5):\n",
    "    print(\"I eat %d apples.\" % (a+1) )"
   ]
  },
  {
   "cell_type": "code",
   "execution_count": null,
   "id": "9cf75d6f-d953-499b-b217-30f3df14d57d",
   "metadata": {},
   "outputs": [
    {
     "name": "stdout",
     "output_type": "stream",
     "text": [
      "2\n",
      "0\n",
      "2\n",
      "3\n",
      "0\n",
      "3\n",
      "3\n",
      "1\n",
      "R\n",
      "a\n",
      "i\n",
      "n\n",
      "y\n"
     ]
    }
   ],
   "source": [
    "a = \"20230331Rainy\"\n",
    "for x in range(len(a)):\n",
    "    print(a[x])\n",
    "    \n",
    "    #a의 길이만큼 반복 \n",
    "        # print(a의 x번째 요소값 추출 )"
   ]
  },
  {
   "cell_type": "code",
   "execution_count": 81,
   "id": "cd893ca0-1352-4c41-a98d-be54bbb3b9c7",
   "metadata": {},
   "outputs": [
    {
     "data": {
      "text/plain": [
       "'I eat five apples.'"
      ]
     },
     "execution_count": 81,
     "metadata": {},
     "output_type": "execute_result"
    }
   ],
   "source": [
    "\"I eat %s apples.\" % \"five\""
   ]
  },
  {
   "cell_type": "code",
   "execution_count": 82,
   "id": "d1a0045f-9594-4e20-875f-280aed475da9",
   "metadata": {},
   "outputs": [
    {
     "data": {
      "text/plain": [
       "'I eat 3 apples.'"
      ]
     },
     "execution_count": 82,
     "metadata": {},
     "output_type": "execute_result"
    }
   ],
   "source": [
    "\"I eat %s apples.\" % 3"
   ]
  },
  {
   "cell_type": "code",
   "execution_count": 87,
   "id": "3ff28b38-958d-4073-a10f-81562e20d34c",
   "metadata": {},
   "outputs": [
    {
     "data": {
      "text/plain": [
       "'I eat 3.400000 apples.'"
      ]
     },
     "execution_count": 87,
     "metadata": {},
     "output_type": "execute_result"
    }
   ],
   "source": [
    "#원래 소수점은 s가 아니라 f사용\n",
    "\"I eat %f apples.\" % 3.4"
   ]
  },
  {
   "cell_type": "code",
   "execution_count": 83,
   "id": "6e294709-cab6-494a-a9a2-98c5086456b8",
   "metadata": {},
   "outputs": [
    {
     "data": {
      "text/plain": [
       "'I eat 3.4 apples.'"
      ]
     },
     "execution_count": 83,
     "metadata": {},
     "output_type": "execute_result"
    }
   ],
   "source": [
    "\"I eat %s apples.\" % 3.4"
   ]
  },
  {
   "cell_type": "code",
   "execution_count": 84,
   "id": "78fc679e-d8e3-46d2-9842-e6d9cca85fea",
   "metadata": {},
   "outputs": [
    {
     "data": {
      "text/plain": [
       "'I eat one apples.'"
      ]
     },
     "execution_count": 84,
     "metadata": {},
     "output_type": "execute_result"
    }
   ],
   "source": [
    "\"I eat %s apples.\" % \"one\""
   ]
  },
  {
   "cell_type": "code",
   "execution_count": 114,
   "id": "7327948e-b788-410f-be86-0c5e4e8ca570",
   "metadata": {},
   "outputs": [
    {
     "ename": "TypeError",
     "evalue": "%d format: a real number is required, not str",
     "output_type": "error",
     "traceback": [
      "\u001b[31m---------------------------------------------------------------------------\u001b[39m",
      "\u001b[31mTypeError\u001b[39m                                 Traceback (most recent call last)",
      "\u001b[36mCell\u001b[39m\u001b[36m \u001b[39m\u001b[32mIn[114]\u001b[39m\u001b[32m, line 1\u001b[39m\n\u001b[32m----> \u001b[39m\u001b[32m1\u001b[39m \u001b[33;43m\"\u001b[39;49m\u001b[33;43mI eat \u001b[39;49m\u001b[38;5;132;43;01m%d\u001b[39;49;00m\u001b[33;43m apples.\u001b[39;49m\u001b[33;43m\"\u001b[39;49m\u001b[43m \u001b[49m\u001b[43m%\u001b[49m\u001b[43m \u001b[49m\u001b[33;43m\"\u001b[39;49m\u001b[33;43mone\u001b[39;49m\u001b[33;43m\"\u001b[39;49m\n",
      "\u001b[31mTypeError\u001b[39m: %d format: a real number is required, not str"
     ]
    }
   ],
   "source": [
    "\"I eat %d apples.\" % \"one\""
   ]
  },
  {
   "cell_type": "code",
   "execution_count": 154,
   "id": "17b882d5-6120-4ed7-bab5-f4cb5da70e36",
   "metadata": {},
   "outputs": [
    {
     "data": {
      "text/plain": [
       "'I eat 3 apples.'"
      ]
     },
     "execution_count": 154,
     "metadata": {},
     "output_type": "execute_result"
    }
   ],
   "source": [
    "#d는 정수라 소수점 나오지 않고 3까지만 나왔음. \n",
    "#%s는 뒤에 문자나 숫자 다 가능\n",
    "#%f는 실수 \n",
    "#%d는 문자를 담을 수 없음. \n",
    "#%d는 에러는 나지 않지만 정수만 추출함. 소숫점 짜르고 추출(3/6 -> 3) \n",
    "# %를 문자로 추출하고자 한다면 %%를 써야 함. \n",
    "# 자릿수 나열 시 %10s 10칸 정렬\n",
    "\n",
    "\"I eat %d apples.\" % 3.6"
   ]
  },
  {
   "cell_type": "code",
   "execution_count": 153,
   "id": "e620aab9-7d00-4195-b972-0914c736112e",
   "metadata": {},
   "outputs": [
    {
     "ename": "ValueError",
     "evalue": "incomplete format",
     "output_type": "error",
     "traceback": [
      "\u001b[31m---------------------------------------------------------------------------\u001b[39m",
      "\u001b[31mValueError\u001b[39m                                Traceback (most recent call last)",
      "\u001b[36mCell\u001b[39m\u001b[36m \u001b[39m\u001b[32mIn[153]\u001b[39m\u001b[32m, line 2\u001b[39m\n\u001b[32m      1\u001b[39m \u001b[38;5;66;03m# %한번 쓰면 오류 \u001b[39;00m\n\u001b[32m----> \u001b[39m\u001b[32m2\u001b[39m \u001b[33;43m\"\u001b[39;49m\u001b[33;43mError is \u001b[39;49m\u001b[38;5;132;43;01m%d\u001b[39;49;00m\u001b[33;43m%\u001b[39;49m\u001b[33;43m\"\u001b[39;49m\u001b[43m \u001b[49m\u001b[43m%\u001b[49m\u001b[43m \u001b[49m\u001b[32;43m98\u001b[39;49m\n",
      "\u001b[31mValueError\u001b[39m: incomplete format"
     ]
    }
   ],
   "source": [
    "# %한번 쓰면 오류 \n",
    "\"Error is %d%\" % 98"
   ]
  },
  {
   "cell_type": "code",
   "execution_count": 152,
   "id": "6323acdf-a88b-48d6-9f11-f9f9f1fe5d38",
   "metadata": {},
   "outputs": [
    {
     "data": {
      "text/plain": [
       "'Error is 98%'"
      ]
     },
     "execution_count": 152,
     "metadata": {},
     "output_type": "execute_result"
    }
   ],
   "source": [
    "# %%로 퍼센트 표시 가능  \n",
    "\"Error is %d%%\" % 98"
   ]
  },
  {
   "cell_type": "code",
   "execution_count": 97,
   "id": "d4459714-4d7e-42f5-9161-584455fabeb6",
   "metadata": {
    "scrolled": true
   },
   "outputs": [
    {
     "data": {
      "text/plain": [
       "'        hi'"
      ]
     },
     "execution_count": 97,
     "metadata": {},
     "output_type": "execute_result"
    }
   ],
   "source": [
    "# 10칸 정렬, 오른쪽 정렬을 하고자 함.\n",
    "\"%10s\" % \"hi\""
   ]
  },
  {
   "cell_type": "code",
   "execution_count": 99,
   "id": "a1c18403-cd8b-4740-b56c-4e438f897ad8",
   "metadata": {
    "scrolled": true
   },
   "outputs": [
    {
     "data": {
      "text/plain": [
       "'hi        '"
      ]
     },
     "execution_count": 99,
     "metadata": {},
     "output_type": "execute_result"
    }
   ],
   "source": [
    "# 10칸 정렬, 왼쪽 정렬을 하고자 함.\n",
    "\"%-10s\" % \"hi\""
   ]
  },
  {
   "cell_type": "code",
   "execution_count": 100,
   "id": "8752f0a2-329e-4831-8e01-86e50aeeff29",
   "metadata": {
    "scrolled": true
   },
   "outputs": [
    {
     "data": {
      "text/plain": [
       "'    3.4213'"
      ]
     },
     "execution_count": 100,
     "metadata": {},
     "output_type": "execute_result"
    }
   ],
   "source": [
    "# 10칸 정렬, 4번째까지 표시\n",
    "\"%10.4f\" % 3.42134234"
   ]
  },
  {
   "cell_type": "markdown",
   "id": "53318a75-3d0d-414d-b043-0fa9e17f2d08",
   "metadata": {},
   "source": [
    "* 방법2 : format()"
   ]
  },
  {
   "cell_type": "code",
   "execution_count": 102,
   "id": "dbdfae67-7a50-49a8-9d21-f43c11c2f9d2",
   "metadata": {},
   "outputs": [
    {
     "data": {
      "text/plain": [
       "'I eat 3 apples'"
      ]
     },
     "execution_count": 102,
     "metadata": {},
     "output_type": "execute_result"
    }
   ],
   "source": [
    "\"I eat {0} apples\".format(3) "
   ]
  },
  {
   "cell_type": "code",
   "execution_count": 103,
   "id": "b4958c96-954b-4421-b566-ea6f0143b5ea",
   "metadata": {},
   "outputs": [
    {
     "data": {
      "text/plain": [
       "'hi'"
      ]
     },
     "execution_count": 103,
     "metadata": {},
     "output_type": "execute_result"
    }
   ],
   "source": [
    "#스트링 {} 명령어 .fomat()\n",
    "\"{0}\".format(\"hi\")"
   ]
  },
  {
   "cell_type": "code",
   "execution_count": 151,
   "id": "7c43612c-2e44-428e-99f1-06eab6c0620d",
   "metadata": {},
   "outputs": [
    {
     "data": {
      "text/plain": [
       "'hi        '"
      ]
     },
     "execution_count": 151,
     "metadata": {},
     "output_type": "execute_result"
    }
   ],
   "source": [
    "# 기본적으로 왼쪽 정렬임 \n",
    "\"{0:10}\".format(\"hi\")"
   ]
  },
  {
   "cell_type": "code",
   "execution_count": 109,
   "id": "b042ebd1-fe55-42f2-b8c8-5ac75a64aa51",
   "metadata": {},
   "outputs": [
    {
     "data": {
      "text/plain": [
       "'        hi'"
      ]
     },
     "execution_count": 109,
     "metadata": {},
     "output_type": "execute_result"
    }
   ],
   "source": [
    "# 오른쪽 정령 :>, 왼쪽 정렬 :< 으로 하면 됨. \n",
    "\"{0:>10}\".format(\"hi\")"
   ]
  },
  {
   "cell_type": "code",
   "execution_count": 106,
   "id": "4668259f-8dca-4a05-af0c-c9e06ed5f744",
   "metadata": {},
   "outputs": [
    {
     "data": {
      "text/plain": [
       "'    hi    '"
      ]
     },
     "execution_count": 106,
     "metadata": {},
     "output_type": "execute_result"
    }
   ],
   "source": [
    "# 중앙 정령 :^\n",
    "\"{0:^10}\".format(\"hi\")"
   ]
  },
  {
   "cell_type": "code",
   "execution_count": 111,
   "id": "0a411af5-80d6-4a40-840b-8a2489ef2180",
   "metadata": {},
   "outputs": [
    {
     "data": {
      "text/plain": [
       "'====hi===='"
      ]
     },
     "execution_count": 111,
     "metadata": {},
     "output_type": "execute_result"
    }
   ],
   "source": [
    "# 공백에 = 표시 \n",
    "\"{0:=^10}\".format(\"hi\")"
   ]
  },
  {
   "cell_type": "code",
   "execution_count": 132,
   "id": "603d36af-d62f-49f4-884e-2257a74001a8",
   "metadata": {},
   "outputs": [
    {
     "data": {
      "text/plain": [
       "'3.4213234000  aa'"
      ]
     },
     "execution_count": 132,
     "metadata": {},
     "output_type": "execute_result"
    }
   ],
   "source": [
    "# y출력 하고, 두칸 띄고 aa 출력 \n",
    "# 0 삽입 위치\n",
    "# 두번째 0,문장의 자릿 수 _ 별도 지정하지 않음. \n",
    "# .10f소숫점 10자리까지 다 0으로 출력되서 나옴\n",
    "# 만약 문장의 자릿 수 < .10f.값의 길이 가 더 길면 문장의 자릿 수를 무시하고 다 추출\n",
    "# 만약 문장의 자릿 수 > .10f. 남는 문장의 자릿 수 만큼 공백을 함께 추출\n",
    "y= 3.4213234\n",
    "\"{0:0.10f}  aa\".format(y)"
   ]
  },
  {
   "cell_type": "code",
   "execution_count": 140,
   "id": "5c48d172-96bc-41a8-bd9d-4740ad3b4db7",
   "metadata": {},
   "outputs": [
    {
     "data": {
      "text/plain": [
       "'3.421323  aa'"
      ]
     },
     "execution_count": 140,
     "metadata": {},
     "output_type": "execute_result"
    }
   ],
   "source": [
    "# \n",
    "y= 3.4213234\n",
    "\"{0:5.6f}  aa\".format(y)"
   ]
  },
  {
   "cell_type": "code",
   "execution_count": 125,
   "id": "e1740409-ea35-4b51-b4d2-d3248d696533",
   "metadata": {
    "collapsed": true,
    "jupyter": {
     "outputs_hidden": true
    }
   },
   "outputs": [
    {
     "data": {
      "text/plain": [
       "'{ and }'"
      ]
     },
     "execution_count": 125,
     "metadata": {},
     "output_type": "execute_result"
    }
   ],
   "source": [
    "# {}도 문자로 출력하고 싶다면 두번씩 입력하자! \n",
    "\"{{ and }}\".format()"
   ]
  },
  {
   "cell_type": "markdown",
   "id": "9445f5d2-a609-498c-a738-8b4288a7b6c3",
   "metadata": {},
   "source": [
    "* f\"\" - python ver 3.6이후에 적용"
   ]
  },
  {
   "cell_type": "code",
   "execution_count": 149,
   "id": "6c44bb51-ca52-4762-8eb3-9b98292b0e31",
   "metadata": {},
   "outputs": [
    {
     "data": {
      "text/plain": [
       "'    3.4213'"
      ]
     },
     "execution_count": 149,
     "metadata": {},
     "output_type": "execute_result"
    }
   ],
   "source": [
    "#10자리칸을 만들고, .4f 소숫점 4자리까지만 출력하기 \n",
    "\n",
    "y = 3.42134234\n",
    "f'{y:10.4f}'"
   ]
  },
  {
   "cell_type": "code",
   "execution_count": 129,
   "id": "15c8130a-c942-4160-b180-5bfb966ee04a",
   "metadata": {},
   "outputs": [
    {
     "data": {
      "text/plain": [
       "'{ and }'"
      ]
     },
     "execution_count": 129,
     "metadata": {},
     "output_type": "execute_result"
    }
   ],
   "source": [
    "f'{{ and }}'"
   ]
  },
  {
   "cell_type": "markdown",
   "id": "86ebcc31-720a-45e0-82d0-352d9aa241d8",
   "metadata": {},
   "source": [
    "### 문자열 함수들"
   ]
  },
  {
   "cell_type": "code",
   "execution_count": 141,
   "id": "70d64841-e8a8-4bd9-bfbe-59e319a5857c",
   "metadata": {},
   "outputs": [
    {
     "data": {
      "text/plain": [
       "2"
      ]
     },
     "execution_count": 141,
     "metadata": {},
     "output_type": "execute_result"
    }
   ],
   "source": [
    "a = \"hpbby\"\n",
    "a.count('b') #b의 개수 "
   ]
  },
  {
   "cell_type": "code",
   "execution_count": 150,
   "id": "6e590f5b-29ea-4a7a-a701-9f65050a0f54",
   "metadata": {},
   "outputs": [
    {
     "name": "stdout",
     "output_type": "stream",
     "text": [
      "4\n",
      "-1\n"
     ]
    }
   ],
   "source": [
    "a = \"python is the best choice\"\n",
    "print(a.find('o'))\n",
    "print(a.find('k')) #k 위치 알려주기 = 못찾은 경우 -로 표시 함"
   ]
  },
  {
   "cell_type": "code",
   "execution_count": 144,
   "id": "2e2038bb-dcb4-448b-ae65-51b8b5bc6d32",
   "metadata": {
    "scrolled": true
   },
   "outputs": [
    {
     "name": "stdout",
     "output_type": "stream",
     "text": [
      "8\n"
     ]
    },
    {
     "ename": "ValueError",
     "evalue": "substring not found",
     "output_type": "error",
     "traceback": [
      "\u001b[31m---------------------------------------------------------------------------\u001b[39m",
      "\u001b[31mValueError\u001b[39m                                Traceback (most recent call last)",
      "\u001b[36mCell\u001b[39m\u001b[36m \u001b[39m\u001b[32mIn[144]\u001b[39m\u001b[32m, line 4\u001b[39m\n\u001b[32m      2\u001b[39m a = \u001b[33m\"\u001b[39m\u001b[33mLife is too short\u001b[39m\u001b[33m\"\u001b[39m\n\u001b[32m      3\u001b[39m \u001b[38;5;28mprint\u001b[39m(a.index(\u001b[33m'\u001b[39m\u001b[33mt\u001b[39m\u001b[33m'\u001b[39m))\n\u001b[32m----> \u001b[39m\u001b[32m4\u001b[39m \u001b[38;5;28mprint\u001b[39m(\u001b[43ma\u001b[49m\u001b[43m.\u001b[49m\u001b[43mindex\u001b[49m\u001b[43m(\u001b[49m\u001b[33;43m'\u001b[39;49m\u001b[33;43mk\u001b[39;49m\u001b[33;43m'\u001b[39;49m\u001b[43m)\u001b[49m)\n",
      "\u001b[31mValueError\u001b[39m: substring not found"
     ]
    }
   ],
   "source": [
    "#위치 알려주기2(index) 못찾은 경우, 표시하지 않고 오류 표시\n",
    "a = \"Life is too short\"\n",
    "print(a.index('t'))\n",
    "print(a.index('k'))"
   ]
  },
  {
   "cell_type": "code",
   "execution_count": 145,
   "id": "39c2cd02-5bb5-4ee0-9258-6e891068635b",
   "metadata": {},
   "outputs": [
    {
     "data": {
      "text/plain": [
       "'a#b#c#d'"
      ]
     },
     "execution_count": 145,
     "metadata": {},
     "output_type": "execute_result"
    }
   ],
   "source": [
    "#값 하나하나 사이에 문자열을 삽입\n",
    "\"#\".join('abcd')"
   ]
  },
  {
   "cell_type": "code",
   "execution_count": 147,
   "id": "996911f7-3381-4a13-a447-2794e0b7b45c",
   "metadata": {},
   "outputs": [
    {
     "data": {
      "text/plain": [
       "'a#bcd#c#d'"
      ]
     },
     "execution_count": 147,
     "metadata": {},
     "output_type": "execute_result"
    }
   ],
   "source": [
    "# join명령어 안에 스트링 입력 , 이번에는 리스트를 사용\n",
    "# 리스트 사용 시 각 리스트 값 사이에만 문자열 삽입 \n",
    "\"#\".join(['a','bcd','c','d'])"
   ]
  },
  {
   "cell_type": "code",
   "execution_count": null,
   "id": "6a6a4b04-9ff8-4940-ab4a-91344d282fbd",
   "metadata": {},
   "outputs": [
    {
     "data": {
      "text/plain": [
       "'HI'"
      ]
     },
     "execution_count": 158,
     "metadata": {},
     "output_type": "execute_result"
    }
   ],
   "source": [
    "# 소문자를 대문자로 바꾸기(upper)\n",
    "a = \"HI\"\n",
    "a.upper()"
   ]
  },
  {
   "cell_type": "code",
   "execution_count": 157,
   "id": "c2272692-6a0a-4a81-bd37-0271c4a407b3",
   "metadata": {},
   "outputs": [
    {
     "data": {
      "text/plain": [
       "'hi'"
      ]
     },
     "execution_count": 157,
     "metadata": {},
     "output_type": "execute_result"
    }
   ],
   "source": [
    "# 소문자르르 대문자로 바꾸기(lower)\n",
    "a = \"hi\"\n",
    "a.lower()"
   ]
  },
  {
   "cell_type": "code",
   "execution_count": 164,
   "id": "164b35a9-1a54-455d-9bb3-cac8e00d0fdd",
   "metadata": {},
   "outputs": [
    {
     "data": {
      "text/plain": [
       "'hi'"
      ]
     },
     "execution_count": 164,
     "metadata": {},
     "output_type": "execute_result"
    }
   ],
   "source": [
    "# 양쪽 공백 지우기(strip) \n",
    "a = \" hi \"\n",
    "a.strip()"
   ]
  },
  {
   "cell_type": "code",
   "execution_count": 161,
   "id": "6d2ecfec-6ad5-4ac8-a1cd-a7bd65535739",
   "metadata": {},
   "outputs": [
    {
     "data": {
      "text/plain": [
       "'hi '"
      ]
     },
     "execution_count": 161,
     "metadata": {},
     "output_type": "execute_result"
    }
   ],
   "source": [
    "# 왼쪽 공백 지우기(lstrip) \n",
    "a = \" hi \"\n",
    "a.lstrip()"
   ]
  },
  {
   "cell_type": "code",
   "execution_count": 163,
   "id": "c95e6145-49c9-4a78-9331-af37b41bca2e",
   "metadata": {},
   "outputs": [
    {
     "data": {
      "text/plain": [
       "' hi'"
      ]
     },
     "execution_count": 163,
     "metadata": {},
     "output_type": "execute_result"
    }
   ],
   "source": [
    "# 오른쪽 공백 지우기(Rstrip) \n",
    "a = \" hi \"\n",
    "a.rstrip()"
   ]
  },
  {
   "cell_type": "code",
   "execution_count": 166,
   "id": "756aaf5b-ae1a-4caf-a9fb-a499d69fb984",
   "metadata": {},
   "outputs": [
    {
     "data": {
      "text/plain": [
       "'Your leg is too short'"
      ]
     },
     "execution_count": 166,
     "metadata": {},
     "output_type": "execute_result"
    }
   ],
   "source": [
    "# 문자열 바꾸기 (replace)\n",
    "a = \"Life is too short\"\n",
    "a.replace(\"Life\", \"Your leg\")"
   ]
  },
  {
   "cell_type": "code",
   "execution_count": 167,
   "id": "301155e3-95f4-4bc4-a9f9-b551a5607d6e",
   "metadata": {},
   "outputs": [
    {
     "data": {
      "text/plain": [
       "['Life', 'is', 'too', 'short']"
      ]
     },
     "execution_count": 167,
     "metadata": {},
     "output_type": "execute_result"
    }
   ],
   "source": [
    "# 문자열 나누기 (split) \n",
    "a = \"Life is too short\"\n",
    "b = a.split()\n",
    "b"
   ]
  },
  {
   "cell_type": "code",
   "execution_count": 168,
   "id": "3bf2a230-fe91-41ed-a06d-7ed9ce95948e",
   "metadata": {},
   "outputs": [
    {
     "data": {
      "text/plain": [
       "'is'"
      ]
     },
     "execution_count": 168,
     "metadata": {},
     "output_type": "execute_result"
    }
   ],
   "source": [
    "b[1]"
   ]
  }
 ],
 "metadata": {
  "kernelspec": {
   "display_name": "base",
   "language": "python",
   "name": "python3"
  },
  "language_info": {
   "codemirror_mode": {
    "name": "ipython",
    "version": 3
   },
   "file_extension": ".py",
   "mimetype": "text/x-python",
   "name": "python",
   "nbconvert_exporter": "python",
   "pygments_lexer": "ipython3",
   "version": "3.13.5"
  }
 },
 "nbformat": 4,
 "nbformat_minor": 5
}

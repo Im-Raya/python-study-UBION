{
 "cells": [
  {
   "cell_type": "code",
   "execution_count": 238,
   "id": "56c77193",
   "metadata": {},
   "outputs": [],
   "source": [
    "class calculator : \n",
    "    def __init__(self) : #class함수 시작 시 꼭 써줘야 하는 함수. \n",
    "        self.result = 0 # clss안에서 변수 설정 시 꼭 self. ~으로 사용해야 한다. 이유는 ppt에 필기 함.\n",
    "    def add(self,num):\n",
    "        self.result += num \n",
    "        return self.result\n",
    "    def sub(self,num):\n",
    "        self.result -= num\n",
    "        return self.result \n",
    "        "
   ]
  },
  {
   "cell_type": "code",
   "execution_count": 239,
   "id": "16ce1a08",
   "metadata": {},
   "outputs": [
    {
     "name": "stdout",
     "output_type": "stream",
     "text": [
      "3\n",
      "7\n",
      "3\n"
     ]
    }
   ],
   "source": [
    "cal1 = calculator() #만들어지는 시점 \n",
    "print(cal1.add(3)) \n",
    "print(cal1.add(4))\n",
    "print(cal1.sub(4))"
   ]
  },
  {
   "cell_type": "code",
   "execution_count": 240,
   "id": "dfd319e2",
   "metadata": {},
   "outputs": [
    {
     "data": {
      "text/plain": [
       "4"
      ]
     },
     "execution_count": 240,
     "metadata": {},
     "output_type": "execute_result"
    }
   ],
   "source": [
    "cal2 = calculator()\n",
    "cal2.result = 4\n",
    "cal2.result"
   ]
  },
  {
   "cell_type": "markdown",
   "id": "c197aaf8",
   "metadata": {},
   "source": [
    "* 또 다른 계산기"
   ]
  },
  {
   "cell_type": "code",
   "execution_count": 241,
   "id": "dbf09821",
   "metadata": {},
   "outputs": [],
   "source": [
    "class Fourcal : \n",
    "    def setdata(self, first, second):\n",
    "        self.first = first\n",
    "        self.second = second\n",
    "    #더하기 함수 만들기\n",
    "    def add(self): \n",
    "        result = self.first + self.second\n",
    "        return result\n",
    "    #빼기\n",
    "    def sub(self):\n",
    "        result = self.first - self.second\n",
    "        return result\n",
    "    #곱하기\n",
    "    def mul(self) :\n",
    "        result = self.first * self.second\n",
    "        return result\n",
    "    #나누기\n",
    "    def div(self) :\n",
    "        result = self.first / self.second\n",
    "        return result"
   ]
  },
  {
   "cell_type": "code",
   "execution_count": 242,
   "id": "b5c56eef",
   "metadata": {},
   "outputs": [
    {
     "name": "stdout",
     "output_type": "stream",
     "text": [
      "<class '__main__.Fourcal'>\n"
     ]
    },
    {
     "data": {
      "text/plain": [
       "(3, 4)"
      ]
     },
     "execution_count": 242,
     "metadata": {},
     "output_type": "execute_result"
    }
   ],
   "source": [
    "a = Fourcal()\n",
    "print(type(a))\n",
    "a.setdata(3,4) #메모리 생성되는 시점\n",
    "a.first, a.second\n"
   ]
  },
  {
   "cell_type": "code",
   "execution_count": 243,
   "id": "741eb206",
   "metadata": {},
   "outputs": [
    {
     "data": {
      "text/plain": [
       "(5, 6)"
      ]
     },
     "execution_count": 243,
     "metadata": {},
     "output_type": "execute_result"
    }
   ],
   "source": [
    "b = Fourcal()\n",
    "b.setdata(5,6)\n",
    "b.first, b.second"
   ]
  },
  {
   "cell_type": "code",
   "execution_count": 244,
   "id": "17552c10",
   "metadata": {},
   "outputs": [
    {
     "name": "stdout",
     "output_type": "stream",
     "text": [
      "7\n",
      "-1\n",
      "12\n",
      "0.75\n"
     ]
    }
   ],
   "source": [
    "print(a.add())\n",
    "print(a.sub())\n",
    "print(a.mul())\n",
    "print(a.div())"
   ]
  },
  {
   "cell_type": "code",
   "execution_count": 245,
   "id": "2b8be4e0",
   "metadata": {},
   "outputs": [
    {
     "name": "stdout",
     "output_type": "stream",
     "text": [
      "18\n"
     ]
    }
   ],
   "source": [
    "x = a.add()\n",
    "y = b.add()\n",
    "\n",
    "print(x + y)"
   ]
  },
  {
   "cell_type": "markdown",
   "id": "a8466b6e",
   "metadata": {},
   "source": [
    "### 생성자 : __int__()"
   ]
  },
  {
   "cell_type": "code",
   "execution_count": 246,
   "id": "de9ce1ea",
   "metadata": {},
   "outputs": [],
   "source": [
    "class Fourcal : \n",
    "    def __init__(self, first = 0, second = 0) :\n",
    "        self.first = first\n",
    "        self.second = second\n",
    "        \n",
    "    def setdata(self, first, second):\n",
    "        self.first = first\n",
    "        self.second = second\n",
    "        \n",
    "    #더하기 함수 만들기\n",
    "    def add(self): \n",
    "        result = self.first + self.second\n",
    "        return result\n",
    "    #빼기\n",
    "    def sub(self):\n",
    "        result = self.first - self.second\n",
    "        return result\n",
    "    #곱하기\n",
    "    def mul(self) :\n",
    "        result = self.first * self.second\n",
    "        return result\n",
    "    #나누기\n",
    "    def div(self) :\n",
    "        result = self.first / self.second\n",
    "        return result"
   ]
  },
  {
   "cell_type": "code",
   "execution_count": 247,
   "id": "694c46fa",
   "metadata": {},
   "outputs": [
    {
     "data": {
      "text/plain": [
       "0"
      ]
     },
     "execution_count": 247,
     "metadata": {},
     "output_type": "execute_result"
    }
   ],
   "source": [
    "a = Fourcal()\n",
    "a.add()"
   ]
  },
  {
   "cell_type": "code",
   "execution_count": 248,
   "id": "af72320b",
   "metadata": {},
   "outputs": [
    {
     "data": {
      "text/plain": [
       "9"
      ]
     },
     "execution_count": 248,
     "metadata": {},
     "output_type": "execute_result"
    }
   ],
   "source": [
    "a = Fourcal(4,5)\n",
    "a.add()"
   ]
  },
  {
   "cell_type": "markdown",
   "id": "ca2c1863",
   "metadata": {},
   "source": [
    "### Mission : 학생 클래스 만들기\n",
    "* 변수 : 이름, 나이, 전공 \n",
    "* 함수 : 성인 여부 판별, 자기소개"
   ]
  },
  {
   "cell_type": "code",
   "execution_count": 249,
   "id": "a777cace",
   "metadata": {},
   "outputs": [],
   "source": [
    "class student : \n",
    "    def __init__(self, name, age,major ) :\n",
    "        self.name = name \n",
    "        self.age = age\n",
    "        self.major = major\n",
    "        \n",
    "    #함수 만들기 \n",
    "    def is_adult(self) :\n",
    "        return self.age >= 20 \n",
    "    \n",
    "    def intro(self):\n",
    "        # result = print( \"안녕하세요\",self.name,\"입니다.\")\n",
    "        return f\"안녕하세요, 저는 {self.name}이고 {self.age}살이며,{self.major}을 전공하고 있습니다. \"\n",
    "\n",
    "        "
   ]
  },
  {
   "cell_type": "code",
   "execution_count": 250,
   "id": "19162103",
   "metadata": {},
   "outputs": [
    {
     "name": "stdout",
     "output_type": "stream",
     "text": [
      "안녕하세요, 저는 임수진이고 25살이며,경제금융을 전공하고 있습니다. \n",
      "안녕하세요, 저는 임정한이고 19살이며,물리치료을 전공하고 있습니다. \n",
      "True\n",
      "False\n"
     ]
    }
   ],
   "source": [
    "S1 = student( \"임수진\", 25, \"경제금융\")\n",
    "S2 = student(\"임정한\", 19, \"물리치료\")\n",
    "\n",
    "print(S1.intro())\n",
    "print(S2.intro())\n",
    "\n",
    "print(S1.is_adult())\n",
    "print(S2.is_adult())"
   ]
  },
  {
   "cell_type": "code",
   "execution_count": 251,
   "id": "fc0b1f05",
   "metadata": {},
   "outputs": [],
   "source": [
    "# 성적 추가 _ 리스트 \n",
    "class student : \n",
    "    def __init__(self, name, age,major ) :\n",
    "        self.name = name \n",
    "        self.age = age\n",
    "        self.major = major\n",
    "        self.grades = []   #성적목록\n",
    "        \n",
    "    #함수 만들기 \n",
    "    def is_adult(self) :\n",
    "        return self.age >= 20 \n",
    "    \n",
    "    def intro(self):\n",
    "        # result = print( \"안녕하세요\",self.name,\"입니다.\")\n",
    "        return f\"안녕하세요, 저는 {self.name}이고 {self.age}살이며,{self.major}을 전공하고 있습니다. \"\n",
    "    \n",
    "    def add_grade(self, score):\n",
    "        if 0 <= score <= 100:\n",
    "            self.grades.append(score)\n",
    "            print( f\"{self.name}님의 성적 {score}점이 추가되었습니다.\")\n",
    "        else:\n",
    "            print(\"성적은 0~100사이여야 합니다.\")\n",
    "    def get_average(self):\n",
    "        if not self.grades:\n",
    "            return \"성적이 없습니다.\"\n",
    "        else :\n",
    "            return sum(self.grades) / len(self.grades)\n",
    "        "
   ]
  },
  {
   "cell_type": "code",
   "execution_count": 252,
   "id": "c0bad1a7",
   "metadata": {},
   "outputs": [
    {
     "name": "stdout",
     "output_type": "stream",
     "text": [
      "안녕하세요, 저는 임수진이고 25살이며,경제금융을 전공하고 있습니다. \n",
      "안녕하세요, 저는 임정한이고 19살이며,물리치료을 전공하고 있습니다. \n",
      "임수진 성인여부 : True\n",
      "임정한 성인여부 : False\n"
     ]
    }
   ],
   "source": [
    "S1 = student( \"임수진\", 25, \"경제금융\")\n",
    "S2 = student(\"임정한\", 19, \"물리치료\")\n",
    "\n",
    "print(S1.intro())\n",
    "print(S2.intro())\n",
    "\n",
    "print(f\"{S1.name} 성인여부 : {S1.is_adult()}\")\n",
    "print(f\"{S2.name} 성인여부 : {S2.is_adult()}\")"
   ]
  },
  {
   "cell_type": "code",
   "execution_count": 253,
   "id": "44630408",
   "metadata": {},
   "outputs": [
    {
     "name": "stdout",
     "output_type": "stream",
     "text": [
      "임수진님의 성적 95점이 추가되었습니다.\n",
      "임수진님의 성적 88점이 추가되었습니다.\n",
      "임수진님의 성적 76점이 추가되었습니다.\n",
      "임수진님의 평균 성적: 86.33점\n"
     ]
    }
   ],
   "source": [
    "S1.add_grade(95)\n",
    "S1.add_grade(88)\n",
    "S1.add_grade(76)\n",
    "\n",
    "print(f\"{S1.name}님의 평균 성적: {S1.get_average():.2f}점\")"
   ]
  },
  {
   "cell_type": "markdown",
   "id": "ba4d849a",
   "metadata": {},
   "source": [
    "### classroom 설계"
   ]
  },
  {
   "cell_type": "markdown",
   "id": "7b607b18",
   "metadata": {},
   "source": [
    "##### 개념 설계 \n",
    "* 목표 \n",
    "    * 여러 학생(S)을 등록하고 관리 \n",
    "    * 전체 학생 목록 출력 \n",
    "    * 반 전체 평균 성적 계산"
   ]
  },
  {
   "cell_type": "markdown",
   "id": "7ef164e0",
   "metadata": {},
   "source": [
    "* 구조\n",
    "    * Student (위에서 함)\n",
    "        * 변수 : name, age, major, grades[]\n",
    "        * 함수 : intro(), add_grade() ,get_average()\n",
    "            ###### 또다른 리스트로 만들면 된대. \n",
    "    * Classroom \n",
    "        * 변수 : name, students[], \n",
    "        * 함수 : add_student(), show_students(), get_class_average() "
   ]
  },
  {
   "cell_type": "code",
   "execution_count": 254,
   "id": "08253f76",
   "metadata": {},
   "outputs": [],
   "source": [
    "#내꺼 \n",
    "class student : \n",
    "    def __init__(self, name, age,major ) :\n",
    "        self.name = name \n",
    "        self.age = age\n",
    "        self.major = major\n",
    "        self.grades = []   #성적목록\n",
    "        \n",
    "    #함수 만들기 \n",
    "    def is_adult(self) :\n",
    "        return self.age >= 20 \n",
    "    \n",
    "    def intro(self):\n",
    "        return f\"안녕하세요, 저는 {self.name}이고 {self.age}살이며,{self.major}을 전공하고 있습니다. \"\n",
    "    \n",
    "    def add_grade(self, score):\n",
    "        if 0 <= score <= 100:\n",
    "            self.grades.append(score)\n",
    "            print( f\"{self.name}님의 성적 {score}점이 추가되었습니다.\")\n",
    "        else:\n",
    "            print(\"성적은 0~100사이여야 합니다.\")\n",
    "    def get_average(self):\n",
    "        if not self.grades:\n",
    "            return \"성적이 없습니다.\"\n",
    "        else :\n",
    "            return sum(self.grades) / len(self.grades)\n",
    "class classroom : \n",
    "    def __init__(self, name):\n",
    "        self.name = name\n",
    "        self.students = []\n",
    "        \n",
    "    def add_student(self,student) :\n",
    "        self.students.append(student)\n",
    "        print(f\"{student.name}님이 {self.name}반에 등록되었습니다.\")\n",
    "        \n",
    "    def show_students(self ) :\n",
    "        print(f\"{self.name}반 학생 목록:\")\n",
    "        # 홍길동    컴공    3.4 \n",
    "        \n",
    "    def get_clas_average(self ) :\n",
    "        pass\n",
    "    \n",
    "    "
   ]
  },
  {
   "cell_type": "code",
   "execution_count": 255,
   "id": "20cb4071",
   "metadata": {},
   "outputs": [
    {
     "name": "stdout",
     "output_type": "stream",
     "text": [
      "윤진성님의 성적 95점이 추가되었습니다.\n",
      "윤진성님의 성적 88점이 추가되었습니다.\n",
      "임양섭님의 성적 76점이 추가되었습니다.\n",
      "정수환님의 성적 85점이 추가되었습니다.\n",
      "정수환님의 성적 92점이 추가되었습니다.\n",
      "윤진성님이 A반에 등록되었습니다.\n",
      "임양섭님이 A반에 등록되었습니다.\n",
      "정수환님이 A반에 등록되었습니다.\n",
      "A반 학생 목록:\n"
     ]
    }
   ],
   "source": [
    "# 학생 생성\n",
    "s1 = student(\"윤진성\", 18, \"미술\")\n",
    "s2 = student(\"임양섭\", 22, \"컴퓨터공학\")\n",
    "s3 = student(\"정수환\", 20, \"프랑스어\")\n",
    "# 성적 추가\n",
    "s1.add_grade(95)\n",
    "s1.add_grade(88)\n",
    "s2.add_grade(76)\n",
    "s3.add_grade(85)\n",
    "s3.add_grade(92)\n",
    "# 반 생성 & 학생 등록\n",
    "class_a = classroom(\"A\")\n",
    "class_a.add_student(s1)\n",
    "class_a.add_student(s2)\n",
    "class_a.add_student(s3)\n",
    "# 학생 목록 출력\n",
    "class_a.show_students()"
   ]
  },
  {
   "cell_type": "code",
   "execution_count": 282,
   "id": "9e364cf4",
   "metadata": {},
   "outputs": [],
   "source": [
    "# 교수님 답 \n",
    "class Student:\n",
    "    def __init__(self, name, age, major):\n",
    "        self.name = name       # 학생 이름\n",
    "        self.age = age         # 나이\n",
    "        self.major = major     # 전공\n",
    "        self.grades = []       # 성적 목록\n",
    "        \n",
    "    def introduce(self):\n",
    "        return f\"안녕하세요, 저는 {self.name}이고 {self.age}살이며, {self.major}를 전공하고 있습니다.\"\n",
    "    \n",
    "    def is_adult(self):\n",
    "        return self.age >= 20  # 성인 여부 판별\n",
    "    \n",
    "    def add_grade(self, score):\n",
    "        if 0 <= score <= 100:\n",
    "            self.grades.append(score)\n",
    "            print(f\"{self.name}님의 성적 {score}점이 추가되었습니다.\")\n",
    "        else:\n",
    "            print(\"성적은 0~100 사이여야 합니다.\")\n",
    "            \n",
    "    def get_average(self):\n",
    "        if not self.grades:\n",
    "            return \"성적이 없습니다.\"\n",
    "        return sum(self.grades) / len(self.grades)\n",
    "class Classroom:\n",
    "    def __init__(self, name):\n",
    "        self.name = name\n",
    "        self.students = []\n",
    "        \n",
    "    def add_student(self, student):\n",
    "        self.students.append(student)\n",
    "        print(f\"{student.name}님이 {self.name} 반에 등록되었습니다.\")\n",
    "        \n",
    "    def show_students(self):\n",
    "        print(f\" 🏷️ {self.name} 반 학생 목록:\")\n",
    "        print(\"=\"*60)\n",
    "        for student in self.students:\n",
    "            avg = student.get_average() \n",
    "            avg_str = f\"{avg:.2f}점\" if avg is not None else \"성적없음\"\n",
    "            print(f\" - {student.name} ({student.major}, 평균: {avg_str})\")\n",
    "            \n",
    "        # 홍길동  컴공  3.4\n",
    "    \n",
    "    # 나중에 한대     \n",
    "    # def get_class_average(self):\n",
    "    #    pass"
   ]
  },
  {
   "cell_type": "code",
   "execution_count": 283,
   "id": "d514ec67",
   "metadata": {},
   "outputs": [
    {
     "name": "stdout",
     "output_type": "stream",
     "text": [
      "윤진성님의 성적 95점이 추가되었습니다.\n",
      "윤진성님의 성적 88점이 추가되었습니다.\n",
      "임양섭님의 성적 76점이 추가되었습니다.\n",
      "정수환님의 성적 85점이 추가되었습니다.\n",
      "정수환님의 성적 92점이 추가되었습니다.\n",
      "윤진성님이 A 반에 등록되었습니다.\n",
      "임양섭님이 A 반에 등록되었습니다.\n",
      "정수환님이 A 반에 등록되었습니다.\n",
      " 🏷️ A 반 학생 목록:\n",
      "============================================================\n",
      " - 윤진성 (미술, 평균: 91.50점)\n",
      " - 임양섭 (컴퓨터공학, 평균: 76.00점)\n",
      " - 정수환 (프랑스어, 평균: 88.50점)\n"
     ]
    }
   ],
   "source": [
    "# 학생 생성\n",
    "s1 = student(\"윤진성\", 18, \"미술\")\n",
    "s2 = student(\"임양섭\", 22, \"컴퓨터공학\")\n",
    "s3 = student(\"정수환\", 20, \"프랑스어\")\n",
    "\n",
    "# 성적 추가\n",
    "s1.add_grade(95)\n",
    "s1.add_grade(88)\n",
    "s2.add_grade(76)\n",
    "s3.add_grade(85)\n",
    "s3.add_grade(92)\n",
    "\n",
    "# 반 생성 & 학생 등록\n",
    "class_a = Classroom(\"A\")\n",
    "class_a.add_student(s1)\n",
    "class_a.add_student(s2)\n",
    "class_a.add_student(s3)\n",
    "\n",
    "# 학생 목록 출력\n",
    "class_a.show_students()"
   ]
  },
  {
   "cell_type": "code",
   "execution_count": 281,
   "id": "ead045d3",
   "metadata": {},
   "outputs": [],
   "source": [
    "# 과목 추가해보기 \n",
    "class Student:\n",
    "    def __init__(self, name, age, major):\n",
    "        self.name = name       # 학생 이름\n",
    "        self.age = age         # 나이\n",
    "        self.major = major     # 전공\n",
    "        self.grades = []       # 성적 목록\n",
    "        \n",
    "    def introduce(self):\n",
    "        return f\"안녕하세요, 저는 {self.name}이고 {self.age}살이며, {self.major}를 전공하고 있습니다.\"\n",
    "    \n",
    "    def is_adult(self):\n",
    "        return self.age >= 20  # 성인 여부 판별\n",
    "    \n",
    "    def add_grade(self, score):\n",
    "        if 0 <= score <= 100:\n",
    "            self.grades.append(score)\n",
    "            print(f\"{self.name}님의 성적 {score}점이 추가되었습니다.\")\n",
    "        else:\n",
    "            print(\"성적은 0~100 사이여야 합니다.\")\n",
    "            \n",
    "    def get_average(self):\n",
    "        if not self.grades:\n",
    "            return \"성적이 없습니다.\"\n",
    "        return sum(self.grades) / len(self.grades)\n",
    "class Classroom:\n",
    "    def __init__(self, name):\n",
    "        self.name = name\n",
    "        self.students = []\n",
    "        \n",
    "    def add_student(self, student):\n",
    "        self.students.append(student)\n",
    "        print(f\"{student.name}님이 {self.name} 반에 등록되었습니다.\")\n",
    "        \n",
    "    def show_students(self):\n",
    "        print(f\"{self.name} 반 학생 목록:\")\n",
    "        # 홍길동  컴공  3.4\n",
    "        \n",
    "    def get_class_average(self):\n",
    "        pass"
   ]
  },
  {
   "cell_type": "markdown",
   "id": "33be4e60",
   "metadata": {},
   "source": [
    "### Mission 은행 관리"
   ]
  },
  {
   "cell_type": "markdown",
   "id": "04450365",
   "metadata": {},
   "source": [
    "* 목표 \n",
    "    * 계좌 소유자 이름과 잔액 관리\n",
    "    * 입금과 잔액 조회 기능 제공    "
   ]
  },
  {
   "cell_type": "markdown",
   "id": "538ec1e1",
   "metadata": {},
   "source": [
    "* 구조\n",
    "    * 클래스 명 : Account\n",
    "    * 변수 : 계좌 소유자(owner : str ), 잔액(balance : int )\n",
    "    * 함수 : 입금: deposit(amount : int )), 잔액조회 : check_balance() -> str"
   ]
  },
  {
   "cell_type": "code",
   "execution_count": 297,
   "id": "a97a0237",
   "metadata": {},
   "outputs": [],
   "source": [
    "class Account:\n",
    "    def __init__(self, owner, balance=0): #초기 값 =0 설정해서 오류 방지하기\n",
    "        self.owner = owner\n",
    "        self.balance = balance\n",
    "    \n",
    "    def deposit(self, amount): #class 변수가 아니고, 그냥 선언한 변수일 뿐이라 self.~으로 처리하지 않음. \n",
    "        if amount > 0 : \n",
    "            self.balance += amount \n",
    "            print(f\"{self.owner}님의 계좌에 {amount}원이 입금되었습니다.\")\n",
    "        else : \n",
    "            print(\"입금 금액은 0보다 커야 합니다\")\n",
    "            \n",
    "    def check_balance(self) : \n",
    "        return print(f\"{self.owner}님의 현재 잔액은 {self.balance}원입니다.\")\n",
    "        "
   ]
  },
  {
   "cell_type": "code",
   "execution_count": 300,
   "id": "86775618",
   "metadata": {},
   "outputs": [
    {
     "name": "stdout",
     "output_type": "stream",
     "text": [
      "임수진님의 계좌에 5000원이 입금되었습니다.\n",
      "임수진님의 현재 잔액은 15000원입니다.\n"
     ]
    }
   ],
   "source": [
    "a1 = Account(\"임수진\", 10000)\n",
    "a1.deposit(5000)\n",
    "a1.check_balance()"
   ]
  },
  {
   "cell_type": "markdown",
   "id": "b0608524",
   "metadata": {},
   "source": [
    "### Mission Bankservice"
   ]
  },
  {
   "cell_type": "markdown",
   "id": "cf652b14",
   "metadata": {},
   "source": [
    "##### 개념 설계"
   ]
  },
  {
   "cell_type": "markdown",
   "id": "0e5121fd",
   "metadata": {},
   "source": [
    "* 목표 \n",
    "     * Account 클래스: 계좌 기본 정보, 입금/출금/잔액 조회 담당\n",
    "     * Bankservice 클래스 : 계좌 간 이체, 이자 계산, 거래 내역 관리등의 서비스 로직 \n",
    "* 구조 \n",
    "     * 클래스명 : Account \n",
    "          * 변수: 계좌 소유자(owner : str ), 잔액(balance : float )\n",
    "          * 함수: 입금: deposit(amount : float ), withdraw( amount : float) 잔액조회 : check_balance() -> str\n",
    "\n",
    "     * 클래스명 : Bankservice\n",
    "          * 변수: account : [], transaction_log: []\n",
    "          * 함수: add_account(account : Account), transfer(from_account : Account, to_account : Account, amount : int ), apply_interest(account : Account, interest_rate : float), show_transaction_log(), \n"
   ]
  },
  {
   "cell_type": "code",
   "execution_count": 311,
   "id": "0126b7ad",
   "metadata": {},
   "outputs": [],
   "source": [
    "class Account:\n",
    "    def __init__(self, owner, balance=0): #초기 값 =0 설정해서 오류 방지하기\n",
    "        self.owner = owner\n",
    "        self.balance = balance\n",
    "    \n",
    "    def deposit(self, amount): #class 변수가 아니고, 그냥 선언한 변수일 뿐이라 self.~으로 처리하지 않음. \n",
    "        if amount > 0 : \n",
    "            self.balance += amount \n",
    "            print(f\"{self.owner}님의 계좌에 {amount}원이 입금되었습니다.\")\n",
    "        else : \n",
    "            print(\"입금 금액은 0보다 커야 합니다\")\n",
    "            \n",
    "    def withdraw(self, amount):\n",
    "        if amount <= 0:\n",
    "            print(\"출금 금액은 0원보다 커야 합니다.\")\n",
    "            return False\n",
    "        \n",
    "        self.balance -= amount\n",
    "        print(f\"{amount}원이 출금되었습니다. 현재 잔액 : {self.balance}원입니다.\")\n",
    "        return True \n",
    "            \n",
    "    def check_balance(self) : \n",
    "        return f\"{self.owner}님의 현재 잔액은 {self.balance}원입니다.\"\n",
    "    \n",
    "class BankService: \n",
    "    #변수 설정 \n",
    "    def __init__(self):\n",
    "        self.accounts = []\n",
    "        self.transaction_log = []\n",
    "        \n",
    "    #함수 설정     \n",
    "    def add_account(self, account) :\n",
    "        self.accounts.append(account)\n",
    "        print( f\"{account.owner}님의 계좌가 등록되었습니다.\")\n",
    "    \n",
    "    #계좌 간 이체 \n",
    "    def transfer(self, from_account, to_account, amount):\n",
    "        if from_account.withdraw(amount):\n",
    "            to_account.deposit(amount)\n",
    "            log = f\"{from_account.owner} → {to_account.owner} : {amount}원 이체 완료\"\n",
    "            self.transaction_log.append(log)\n",
    "            print(log)\n",
    "        else :\n",
    "            print(\"이체 실패\")\n",
    "        \n",
    "    # 이자율 계좌 적용 \n",
    "    def apply_interest(self, account ,  interest_rate) :\n",
    "        if interest_rate < 0 :\n",
    "            print(\"이자율은 음수가 될 수 없습니다.\")\n",
    "            return\n",
    "        \n",
    "        interest = account.balance * interest_rate\n",
    "        account.deposit(interest)\n",
    "        \n",
    "        log = f\"{account.owner}님 계좌에 {interest_rate*100: .2f}%이자 {interest: .2f}원 적용\"\n",
    "        self.transaction_log.append(log)\n",
    "        print(log)\n",
    "        \n",
    "    def show_transaction_log(self) : \n",
    "        print(\"===거래내역===\")\n",
    "        if not self.transaction_log: \n",
    "            print(\"거래 내역이 없습니다.\")\n",
    "            return\n",
    "        for log in self.transaction_log:\n",
    "            print(log)\n",
    "            "
   ]
  },
  {
   "cell_type": "code",
   "execution_count": 312,
   "id": "c2524125",
   "metadata": {},
   "outputs": [
    {
     "name": "stdout",
     "output_type": "stream",
     "text": [
      "정수환님의 계좌가 등록되었습니다.\n",
      "안호준님의 계좌가 등록되었습니다.\n",
      "정수환님의 현재 잔액은 100000원입니다.\n",
      "안호준님의 현재 잔액은 50000원입니다.\n",
      "정수환님의 계좌에 20000원이 입금되었습니다.\n",
      "안호준님의 계좌에 5000원이 입금되었습니다.\n",
      "정수환님의 계좌에 2400.0원이 입금되었습니다.\n",
      "정수환님 계좌에  2.00%이자  2400.00원 적용\n",
      "30000원이 출금되었습니다. 현재 잔액 : 92400.0원입니다.\n",
      "안호준님의 계좌에 30000원이 입금되었습니다.\n",
      "정수환 → 안호준 : 30000원 이체 완료\n",
      "===거래내역===\n",
      "정수환님 계좌에  2.00%이자  2400.00원 적용\n",
      "정수환 → 안호준 : 30000원 이체 완료\n"
     ]
    }
   ],
   "source": [
    "acc1 = Account(\"정수환\", 100000)\n",
    "acc2 = Account(\"안호준\", 50000)\n",
    "\n",
    "service = BankService()\n",
    "service.add_account(acc1)\n",
    "service.add_account(acc2)\n",
    "\n",
    "print(acc1.check_balance())\n",
    "print(acc2.check_balance())\n",
    "\n",
    "acc1.deposit(20000)\n",
    "acc2.deposit(5000)\n",
    "\n",
    "service.apply_interest(acc1, 0.02)\n",
    "service.transfer(acc1, acc2, 30000)\n",
    "\n",
    "service.show_transaction_log()"
   ]
  },
  {
   "cell_type": "code",
   "execution_count": 313,
   "id": "3cc88bf3",
   "metadata": {},
   "outputs": [],
   "source": [
    "#선생님 답\n",
    "class Account:\n",
    "    def __init__(self, owner, balance=0):\n",
    "        self.owner = owner\n",
    "        self.balance = balance\n",
    "    def deposit(self, amount):\n",
    "        if amount > 0:\n",
    "            self.balance += amount\n",
    "            print(f\"{amount}원이 입금되었습니다.\")\n",
    "        else:\n",
    "            print(\"입금 금액은 0보다 커야 합니다.\")\n",
    "    def withdraw(self, amount):\n",
    "        if amount <= 0:\n",
    "            print(\"출금 금액은 0보다 커야 합니다.\")\n",
    "            return False\n",
    "        if amount > self.balance:\n",
    "            print(\"잔액이 부족합니다.\")\n",
    "            return False\n",
    "        self.balance -= amount\n",
    "        print(f\"{amount}원이 출금되었습니다. 현재 잔액: {self.balance}원\")\n",
    "        return True\n",
    "    def check_balance(self):\n",
    "        return f\"{self.owner}님의 현재 잔액은 {self.balance}원입니다.\"\n",
    "class BankService:\n",
    "    def __init__(self):\n",
    "        self.accounts = []\n",
    "        self.transaction_log = []\n",
    "    # 계좌 등록\n",
    "    def add_account(self, account):\n",
    "        self.accounts.append(account)\n",
    "        print(f\"{account.owner}님의 계좌가 등록되었습니다.\")\n",
    "    # 계좌간 이체\n",
    "    def transfer(self, from_account, to_account, amount):\n",
    "        if from_account.withdraw(amount):\n",
    "            to_account.deposit(amount)\n",
    "            log = f\"{from_account.owner} → {to_account.owner} : {amount}원 이체 완료\"\n",
    "            self.transaction_log.append(log)\n",
    "            print(log)\n",
    "        else:\n",
    "            print(\"이체 실패\")\n",
    "    # 이자율 계좌 적용\n",
    "    def apply_interest(self, account, interest_rate):\n",
    "        if interest_rate < 0:\n",
    "            print(\"이자율은 음수가 될 수 없습니다.\")\n",
    "            return\n",
    "        interest = account.balance * interest_rate\n",
    "        account.deposit(interest)\n",
    "        log = f\"{account.owner}님 계좌에 {interest_rate*100:.2f}% 이자 {interest:.2f}원 적용\"\n",
    "        self.transaction_log.append(log)\n",
    "        print(log)\n",
    "    def show_transaction_log(self):\n",
    "        print(\"=== 거래 내역 ===\")\n",
    "        if not self.transaction_log:\n",
    "            print(\"거래 내역이 없습니다.\")\n",
    "            return\n",
    "        for log in self.transaction_log:\n",
    "            print(log)"
   ]
  },
  {
   "cell_type": "code",
   "execution_count": 314,
   "id": "c0f0dab1",
   "metadata": {},
   "outputs": [
    {
     "name": "stdout",
     "output_type": "stream",
     "text": [
      "정수환님의 계좌가 등록되었습니다.\n",
      "안호준님의 계좌가 등록되었습니다.\n",
      "정수환님의 현재 잔액은 100000원입니다.\n",
      "안호준님의 현재 잔액은 50000원입니다.\n",
      "20000원이 입금되었습니다.\n",
      "5000원이 입금되었습니다.\n",
      "2400.0원이 입금되었습니다.\n",
      "정수환님 계좌에 2.00% 이자 2400.00원 적용\n",
      "30000원이 출금되었습니다. 현재 잔액: 92400.0원\n",
      "30000원이 입금되었습니다.\n",
      "정수환 → 안호준 : 30000원 이체 완료\n",
      "=== 거래 내역 ===\n",
      "정수환님 계좌에 2.00% 이자 2400.00원 적용\n",
      "정수환 → 안호준 : 30000원 이체 완료\n"
     ]
    }
   ],
   "source": [
    "acc1 = Account(\"정수환\", 100000)\n",
    "acc2 = Account(\"안호준\", 50000)\n",
    "\n",
    "service = BankService()\n",
    "service.add_account(acc1)\n",
    "service.add_account(acc2)\n",
    "\n",
    "print(acc1.check_balance())\n",
    "print(acc2.check_balance())\n",
    "\n",
    "acc1.deposit(20000)\n",
    "acc2.deposit(5000)\n",
    "\n",
    "service.apply_interest(acc1, 0.02)\n",
    "service.transfer(acc1, acc2, 30000)\n",
    "\n",
    "service.show_transaction_log()"
   ]
  },
  {
   "cell_type": "markdown",
   "id": "8de2b464",
   "metadata": {},
   "source": [
    "### 클래스의 상속"
   ]
  },
  {
   "cell_type": "code",
   "execution_count": 315,
   "id": "c8e4da18",
   "metadata": {},
   "outputs": [],
   "source": [
    "class MoreFourCal(Fourcal):\n",
    "    pass"
   ]
  },
  {
   "cell_type": "code",
   "execution_count": 316,
   "id": "fd675107",
   "metadata": {},
   "outputs": [
    {
     "data": {
      "text/plain": [
       "6"
      ]
     },
     "execution_count": 316,
     "metadata": {},
     "output_type": "execute_result"
    }
   ],
   "source": [
    "a = MoreFourCal(4,2)\n",
    "a.add()"
   ]
  },
  {
   "cell_type": "code",
   "execution_count": 317,
   "id": "f2a37c7a",
   "metadata": {},
   "outputs": [],
   "source": [
    "class MoreFourCal(Fourcal):\n",
    "    def pow(self) :\n",
    "        result = self.first **self.second\n",
    "        return result"
   ]
  },
  {
   "cell_type": "code",
   "execution_count": 318,
   "id": "226324b9",
   "metadata": {},
   "outputs": [
    {
     "name": "stdout",
     "output_type": "stream",
     "text": [
      "16\n",
      "6\n"
     ]
    }
   ],
   "source": [
    "a = MoreFourCal(4,2)\n",
    "print(a.pow())\n",
    "print(a.add())"
   ]
  },
  {
   "cell_type": "markdown",
   "id": "ddc35b2e",
   "metadata": {},
   "source": [
    "### 매서드 오버라이딩\n",
    "    * class를 재정의하는거라고 생각하면 될 듯 "
   ]
  },
  {
   "cell_type": "code",
   "execution_count": 323,
   "id": "976672ec",
   "metadata": {},
   "outputs": [
    {
     "ename": "ZeroDivisionError",
     "evalue": "division by zero",
     "output_type": "error",
     "traceback": [
      "\u001b[31m---------------------------------------------------------------------------\u001b[39m",
      "\u001b[31mZeroDivisionError\u001b[39m                         Traceback (most recent call last)",
      "\u001b[36mCell\u001b[39m\u001b[36m \u001b[39m\u001b[32mIn[323]\u001b[39m\u001b[32m, line 2\u001b[39m\n\u001b[32m      1\u001b[39m a = Fourcal(\u001b[32m4\u001b[39m,\u001b[32m0\u001b[39m) \u001b[38;5;66;03m#0으로는 나눌 수 없음\u001b[39;00m\n\u001b[32m----> \u001b[39m\u001b[32m2\u001b[39m \u001b[43ma\u001b[49m\u001b[43m.\u001b[49m\u001b[43mdiv\u001b[49m\u001b[43m(\u001b[49m\u001b[43m)\u001b[49m\n",
      "\u001b[36mCell\u001b[39m\u001b[36m \u001b[39m\u001b[32mIn[246]\u001b[39m\u001b[32m, line 24\u001b[39m, in \u001b[36mFourcal.div\u001b[39m\u001b[34m(self)\u001b[39m\n\u001b[32m     23\u001b[39m \u001b[38;5;28;01mdef\u001b[39;00m\u001b[38;5;250m \u001b[39m\u001b[34mdiv\u001b[39m(\u001b[38;5;28mself\u001b[39m) :\n\u001b[32m---> \u001b[39m\u001b[32m24\u001b[39m     result = \u001b[38;5;28;43mself\u001b[39;49m\u001b[43m.\u001b[49m\u001b[43mfirst\u001b[49m\u001b[43m \u001b[49m\u001b[43m/\u001b[49m\u001b[43m \u001b[49m\u001b[38;5;28;43mself\u001b[39;49m\u001b[43m.\u001b[49m\u001b[43msecond\u001b[49m\n\u001b[32m     25\u001b[39m     \u001b[38;5;28;01mreturn\u001b[39;00m result\n",
      "\u001b[31mZeroDivisionError\u001b[39m: division by zero"
     ]
    }
   ],
   "source": [
    "a = Fourcal(4,0) #0으로는 나눌 수 없음\n",
    "a.div()"
   ]
  },
  {
   "cell_type": "code",
   "execution_count": 324,
   "id": "5e59a077",
   "metadata": {},
   "outputs": [],
   "source": [
    "#똑같이 div를 만드는데, 수정할거임\n",
    "class SafeFourcal(Fourcal):\n",
    "    def div(self):\n",
    "        if self.second == 0:\n",
    "            return 0\n",
    "        else: \n",
    "            return self.first / self.second"
   ]
  },
  {
   "cell_type": "code",
   "execution_count": 325,
   "id": "16383b10",
   "metadata": {},
   "outputs": [
    {
     "data": {
      "text/plain": [
       "0"
      ]
     },
     "execution_count": 325,
     "metadata": {},
     "output_type": "execute_result"
    }
   ],
   "source": [
    "a = SafeFourcal(4,0)\n",
    "a.div()"
   ]
  },
  {
   "cell_type": "markdown",
   "id": "92396bc7",
   "metadata": {},
   "source": [
    "### 클래스 변수"
   ]
  },
  {
   "cell_type": "code",
   "execution_count": null,
   "id": "b42d97b6",
   "metadata": {},
   "outputs": [],
   "source": [
    "class Family :\n",
    "    lastname = \"김\" # 선언을하면 메모리에 lastname 김. 이라고 생기는 거임."
   ]
  },
  {
   "cell_type": "code",
   "execution_count": null,
   "id": "f37db1d8",
   "metadata": {},
   "outputs": [
    {
     "data": {
      "text/plain": [
       "'김'"
      ]
     },
     "execution_count": 327,
     "metadata": {},
     "output_type": "execute_result"
    }
   ],
   "source": [
    "Family.lastname \n"
   ]
  },
  {
   "cell_type": "code",
   "execution_count": 329,
   "id": "8c614f6a",
   "metadata": {},
   "outputs": [
    {
     "data": {
      "text/plain": [
       "('김', '김')"
      ]
     },
     "execution_count": 329,
     "metadata": {},
     "output_type": "execute_result"
    }
   ],
   "source": [
    "a = Family()\n",
    "b = Family()\n",
    "\n",
    "a.lastname , b.lastname"
   ]
  },
  {
   "cell_type": "code",
   "execution_count": null,
   "id": "889c97fd",
   "metadata": {},
   "outputs": [
    {
     "data": {
      "text/plain": [
       "('박', '박')"
      ]
     },
     "execution_count": 331,
     "metadata": {},
     "output_type": "execute_result"
    }
   ],
   "source": [
    "Family.lastname = \"박\" # 김이 사라지고 lastname 박 이 남음 \n",
    "\n",
    "a.lastname, b.lastname"
   ]
  },
  {
   "cell_type": "code",
   "execution_count": null,
   "id": "d7027394",
   "metadata": {},
   "outputs": [
    {
     "data": {
      "text/plain": [
       "'최'"
      ]
     },
     "execution_count": 332,
     "metadata": {},
     "output_type": "execute_result"
    }
   ],
   "source": [
    "a.lastname = \"최\" # a에만 최라고 지정 =>a의 메모리에 저장 \n",
    "\n",
    "a.lastname"
   ]
  },
  {
   "cell_type": "code",
   "execution_count": 335,
   "id": "79c12392",
   "metadata": {},
   "outputs": [
    {
     "data": {
      "text/plain": [
       "('박', '박', '최')"
      ]
     },
     "execution_count": 335,
     "metadata": {},
     "output_type": "execute_result"
    }
   ],
   "source": [
    "Family.lastname, b.lastname, a.lastname # Family.lastname, b.l은 , a는 최 출력"
   ]
  },
  {
   "cell_type": "code",
   "execution_count": null,
   "id": "697d72ab",
   "metadata": {},
   "outputs": [],
   "source": []
  }
 ],
 "metadata": {
  "kernelspec": {
   "display_name": "base",
   "language": "python",
   "name": "python3"
  },
  "language_info": {
   "codemirror_mode": {
    "name": "ipython",
    "version": 3
   },
   "file_extension": ".py",
   "mimetype": "text/x-python",
   "name": "python",
   "nbconvert_exporter": "python",
   "pygments_lexer": "ipython3",
   "version": "3.13.5"
  }
 },
 "nbformat": 4,
 "nbformat_minor": 5
}

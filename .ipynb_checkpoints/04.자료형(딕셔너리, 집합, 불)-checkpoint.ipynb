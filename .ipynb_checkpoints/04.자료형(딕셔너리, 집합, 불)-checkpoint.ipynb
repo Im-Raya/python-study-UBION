{
 "cells": [
  {
   "cell_type": "markdown",
   "id": "46f13c8d-9924-4455-bdc8-1a620a88696a",
   "metadata": {},
   "source": [
    "### 딕셔너리"
   ]
  },
  {
   "cell_type": "markdown",
   "id": "2e053e3a-c384-4919-b5a0-6589516dc11e",
   "metadata": {},
   "source": [
    "#### 추가 "
   ]
  },
  {
   "cell_type": "code",
   "execution_count": 27,
   "id": "605843f5-98a5-4b72-b212-a9f3c5e2e0e3",
   "metadata": {},
   "outputs": [
    {
     "data": {
      "text/plain": [
       "{'a': [1, 2, 3]}"
      ]
     },
     "execution_count": 27,
     "metadata": {},
     "output_type": "execute_result"
    }
   ],
   "source": [
    "# 초기화 \n",
    "a = {1:'hi'}\n",
    "a = { 'a' : [1,2,3]}\n",
    "a"
   ]
  },
  {
   "cell_type": "code",
   "execution_count": 25,
   "id": "c13a5e32-f705-4281-b326-4fc9c7978d85",
   "metadata": {},
   "outputs": [
    {
     "data": {
      "text/plain": [
       "{1: 'a', 2: 'b'}"
      ]
     },
     "execution_count": 25,
     "metadata": {},
     "output_type": "execute_result"
    }
   ],
   "source": [
    "a = {1:'a'}\n",
    "a[2] = 'b' # 추가\n",
    "a"
   ]
  },
  {
   "cell_type": "code",
   "execution_count": 10,
   "id": "78655e79-c3a3-4f15-8533-6654c84eaf7b",
   "metadata": {},
   "outputs": [
    {
     "data": {
      "text/plain": [
       "{1: 'a', 2: 'b', 'name': 'pey'}"
      ]
     },
     "execution_count": 10,
     "metadata": {},
     "output_type": "execute_result"
    }
   ],
   "source": [
    "a['name'] = 'pey'\n",
    "a"
   ]
  },
  {
   "cell_type": "code",
   "execution_count": 11,
   "id": "b4da0d8b-479c-4ad0-b1e3-8bbbf501962c",
   "metadata": {},
   "outputs": [
    {
     "data": {
      "text/plain": [
       "{1: 'a', 2: 'b', 'name': 'pey', 3: [1, 2, 3]}"
      ]
     },
     "execution_count": 11,
     "metadata": {},
     "output_type": "execute_result"
    }
   ],
   "source": [
    "a[3] = [1,2,3]\n",
    "a"
   ]
  },
  {
   "cell_type": "markdown",
   "id": "34f28203-bb68-4c3f-8328-3d03dd9c5b1c",
   "metadata": {},
   "source": [
    "#### 삭제"
   ]
  },
  {
   "cell_type": "code",
   "execution_count": 12,
   "id": "c74d6aa1-c3f9-45e9-8bfa-f53e4d94ea3e",
   "metadata": {},
   "outputs": [
    {
     "data": {
      "text/plain": [
       "{2: 'b', 'name': 'pey', 3: [1, 2, 3]}"
      ]
     },
     "execution_count": 12,
     "metadata": {},
     "output_type": "execute_result"
    }
   ],
   "source": [
    "del a[1] \n",
    "a"
   ]
  },
  {
   "cell_type": "markdown",
   "id": "2e7e13bf-3823-4cae-aa53-61b4f495d365",
   "metadata": {},
   "source": [
    "##### key 사용해 Value 얻기"
   ]
  },
  {
   "cell_type": "code",
   "execution_count": 14,
   "id": "e81005a2-e32d-4cd7-9164-6c06dde08f21",
   "metadata": {},
   "outputs": [
    {
     "data": {
      "text/plain": [
       "([1, 2, 3], 'pey')"
      ]
     },
     "execution_count": 14,
     "metadata": {},
     "output_type": "execute_result"
    }
   ],
   "source": [
    "a[3], a['name']"
   ]
  },
  {
   "cell_type": "code",
   "execution_count": 16,
   "id": "60c52c90-002c-4945-872a-6895b46c3442",
   "metadata": {},
   "outputs": [
    {
     "data": {
      "text/plain": [
       "{1: 'b'}"
      ]
     },
     "execution_count": 16,
     "metadata": {},
     "output_type": "execute_result"
    }
   ],
   "source": [
    "# 중복 불가, 순서 없음\n",
    "# 드래서 마지막에 들어간 b가 추출된거임. \n",
    "a = {1:'a', 1:'b'}\n",
    "a"
   ]
  },
  {
   "cell_type": "code",
   "execution_count": 17,
   "id": "783f3edd-a824-474a-a058-4d01bab9f690",
   "metadata": {},
   "outputs": [
    {
     "ename": "TypeError",
     "evalue": "unhashable type: 'list'",
     "output_type": "error",
     "traceback": [
      "\u001b[31m---------------------------------------------------------------------------\u001b[39m",
      "\u001b[31mTypeError\u001b[39m                                 Traceback (most recent call last)",
      "\u001b[36mCell\u001b[39m\u001b[36m \u001b[39m\u001b[32mIn[17]\u001b[39m\u001b[32m, line 2\u001b[39m\n\u001b[32m      1\u001b[39m \u001b[38;5;66;03m# 주의할 사항 : list는 Key값이 될 수 없음\u001b[39;00m\n\u001b[32m----> \u001b[39m\u001b[32m2\u001b[39m a = {[\u001b[32m1\u001b[39m,\u001b[32m2\u001b[39m] : \u001b[33m'\u001b[39m\u001b[33mhi\u001b[39m\u001b[33m'\u001b[39m}\n",
      "\u001b[31mTypeError\u001b[39m: unhashable type: 'list'"
     ]
    }
   ],
   "source": [
    "# 주의할 사항 : list는 Key값이 될 수 없음\n",
    "a = {[1,2] : 'hi'}"
   ]
  },
  {
   "cell_type": "code",
   "execution_count": 18,
   "id": "5d358938-8acf-4b4d-b8fe-05b4c229467d",
   "metadata": {},
   "outputs": [],
   "source": [
    "# 튜플은 key값이 될 수 있음\n",
    "a = { (1,2) : 'hi'} "
   ]
  },
  {
   "cell_type": "markdown",
   "id": "ecb3fd14-0649-449c-a17e-2fa181310dbf",
   "metadata": {},
   "source": [
    "##### 함수들"
   ]
  },
  {
   "cell_type": "code",
   "execution_count": 20,
   "id": "67066f7f-3a13-4a8f-8710-b810b83be921",
   "metadata": {},
   "outputs": [
    {
     "data": {
      "text/plain": [
       "dict_keys(['name', 'phone', 'birth'])"
      ]
     },
     "execution_count": 20,
     "metadata": {},
     "output_type": "execute_result"
    }
   ],
   "source": [
    "a = { 'name' : 'pey' , 'phone' : '010-9999-1234' , 'birth' : '1118' } \n",
    "a.keys()"
   ]
  },
  {
   "cell_type": "code",
   "execution_count": 22,
   "id": "22e3a441-a8df-4c89-ac05-d84d218b58c3",
   "metadata": {},
   "outputs": [
    {
     "data": {
      "text/plain": [
       "dict"
      ]
     },
     "execution_count": 22,
     "metadata": {},
     "output_type": "execute_result"
    }
   ],
   "source": [
    "type(a)\n",
    "# a가 무슨 타입인지 알려주는 명령어"
   ]
  },
  {
   "cell_type": "code",
   "execution_count": 23,
   "id": "575327d1-6a41-440a-9a87-418273d1ac44",
   "metadata": {},
   "outputs": [
    {
     "data": {
      "text/plain": [
       "['name', 'phone', 'birth']"
      ]
     },
     "execution_count": 23,
     "metadata": {},
     "output_type": "execute_result"
    }
   ],
   "source": [
    "#dict를 list로 변환 \n",
    "list(a)"
   ]
  },
  {
   "cell_type": "code",
   "execution_count": 28,
   "id": "803fa223-1b6e-40fe-af43-2295edec63bb",
   "metadata": {},
   "outputs": [
    {
     "data": {
      "text/plain": [
       "dict_values([[1, 2, 3]])"
      ]
     },
     "execution_count": 28,
     "metadata": {},
     "output_type": "execute_result"
    }
   ],
   "source": [
    "# values 얻기\n",
    "a.values()"
   ]
  },
  {
   "cell_type": "code",
   "execution_count": 29,
   "id": "caeaf0df-c064-4153-b242-625f6b93edc5",
   "metadata": {},
   "outputs": [
    {
     "data": {
      "text/plain": [
       "dict_items([('a', [1, 2, 3])])"
      ]
     },
     "execution_count": 29,
     "metadata": {},
     "output_type": "execute_result"
    }
   ],
   "source": [
    "#Key, value 쌍 얻기 (items) \n",
    "a.items()"
   ]
  },
  {
   "cell_type": "code",
   "execution_count": 31,
   "id": "239e2c85-35dc-4249-977d-2711ad82a3bd",
   "metadata": {},
   "outputs": [
    {
     "data": {
      "text/plain": [
       "{}"
      ]
     },
     "execution_count": 31,
     "metadata": {},
     "output_type": "execute_result"
    }
   ],
   "source": [
    "#key : value 쌍 모두 지우기(clear)\n",
    "a.clear()\n",
    "a"
   ]
  },
  {
   "cell_type": "code",
   "execution_count": 33,
   "id": "bdee22a1-3e3a-4ccd-99a1-9d94c9660ae5",
   "metadata": {},
   "outputs": [
    {
     "data": {
      "text/plain": [
       "('pey', '010-9999-1234')"
      ]
     },
     "execution_count": 33,
     "metadata": {},
     "output_type": "execute_result"
    }
   ],
   "source": [
    "#key로 value얻기 (get)\n",
    "a = {'name' : 'pey', 'phone' : '010-9999-1234' , 'birth' : '1118' }\n",
    "a.get('name'), a.get('phone')"
   ]
  },
  {
   "cell_type": "code",
   "execution_count": 34,
   "id": "312cca0f-3ca1-4ee2-9ff8-fcf7825766ff",
   "metadata": {},
   "outputs": [
    {
     "name": "stdout",
     "output_type": "stream",
     "text": [
      "None\n"
     ]
    }
   ],
   "source": [
    "print(a.get('nokey'))"
   ]
  },
  {
   "cell_type": "code",
   "execution_count": 35,
   "id": "1662bec1-eb41-48df-a266-dfd4436a28aa",
   "metadata": {},
   "outputs": [
    {
     "ename": "KeyError",
     "evalue": "'nokey'",
     "output_type": "error",
     "traceback": [
      "\u001b[31m---------------------------------------------------------------------------\u001b[39m",
      "\u001b[31mKeyError\u001b[39m                                  Traceback (most recent call last)",
      "\u001b[36mCell\u001b[39m\u001b[36m \u001b[39m\u001b[32mIn[35]\u001b[39m\u001b[32m, line 1\u001b[39m\n\u001b[32m----> \u001b[39m\u001b[32m1\u001b[39m \u001b[38;5;28mprint\u001b[39m(\u001b[43ma\u001b[49m\u001b[43m[\u001b[49m\u001b[33;43m'\u001b[39;49m\u001b[33;43mnokey\u001b[39;49m\u001b[33;43m'\u001b[39;49m\u001b[43m]\u001b[49m)\n",
      "\u001b[31mKeyError\u001b[39m: 'nokey'"
     ]
    }
   ],
   "source": [
    "print(a['nokey'])"
   ]
  },
  {
   "cell_type": "code",
   "execution_count": 37,
   "id": "cd78db40-c672-4bb0-a19f-801b5db237ac",
   "metadata": {},
   "outputs": [
    {
     "data": {
      "text/plain": [
       "True"
      ]
     },
     "execution_count": 37,
     "metadata": {},
     "output_type": "execute_result"
    }
   ],
   "source": [
    "#key가 딕셔너리 안에 있는지 조사하기(in)\n",
    "'name' in a"
   ]
  },
  {
   "cell_type": "code",
   "execution_count": 38,
   "id": "4595ea71-5878-48e2-887f-5162740a1713",
   "metadata": {},
   "outputs": [
    {
     "data": {
      "text/plain": [
       "False"
      ]
     },
     "execution_count": 38,
     "metadata": {},
     "output_type": "execute_result"
    }
   ],
   "source": [
    "'email' in a "
   ]
  },
  {
   "cell_type": "markdown",
   "id": "9d7c7c15-6718-4085-9681-0e34553933f4",
   "metadata": {},
   "source": [
    "### 집합(set)"
   ]
  },
  {
   "cell_type": "markdown",
   "id": "acc6e9f0-a40e-4832-b3fc-2719dbbbfaa3",
   "metadata": {},
   "source": [
    "* 중복을 허용하지 않음 \n",
    "* 순서가 없음(unordered) "
   ]
  },
  {
   "cell_type": "code",
   "execution_count": 40,
   "id": "d56938cf-5258-44a1-80d6-f5ab9e063efc",
   "metadata": {},
   "outputs": [
    {
     "data": {
      "text/plain": [
       "{1, 2, 3}"
      ]
     },
     "execution_count": 40,
     "metadata": {},
     "output_type": "execute_result"
    }
   ],
   "source": [
    "s1 = set([1,2,3])\n",
    "s1 "
   ]
  },
  {
   "cell_type": "code",
   "execution_count": 45,
   "id": "465b53f8-7eb4-492d-902d-9e51a3bb1112",
   "metadata": {},
   "outputs": [
    {
     "data": {
      "text/plain": [
       "{'e', 'h', 'l', 'o'}"
      ]
     },
     "execution_count": 45,
     "metadata": {},
     "output_type": "execute_result"
    }
   ],
   "source": [
    "s2 =  set(\"hello\")\n",
    "s2\n",
    "#순서가 없는 데이터 타입이라, 순서는 hello로 나오지 않을 수 있다. \n",
    "# 중복을 허용하지 않아서 l이 한번만 나왔음"
   ]
  },
  {
   "cell_type": "code",
   "execution_count": 46,
   "id": "344d4144-70b2-43ef-b2c6-2763fcb0bf8b",
   "metadata": {},
   "outputs": [
    {
     "data": {
      "text/plain": [
       "[1, 2, 3]"
      ]
     },
     "execution_count": 46,
     "metadata": {},
     "output_type": "execute_result"
    }
   ],
   "source": [
    "#list로 변환\n",
    "l1 = list(s1)\n",
    "l1"
   ]
  },
  {
   "cell_type": "code",
   "execution_count": 47,
   "id": "2484cf47-41e0-444c-8e5e-b24981533862",
   "metadata": {},
   "outputs": [
    {
     "data": {
      "text/plain": [
       "(1, 2, 3)"
      ]
     },
     "execution_count": 47,
     "metadata": {},
     "output_type": "execute_result"
    }
   ],
   "source": [
    "#tuple로 변환\n",
    "t1 = tuple(s1)\n",
    "t1"
   ]
  },
  {
   "cell_type": "markdown",
   "id": "8696a82e-4fc4-4b71-8af8-84ea557e2c75",
   "metadata": {},
   "source": [
    "##### 교집합, 합집합, 차집합"
   ]
  },
  {
   "cell_type": "code",
   "execution_count": 65,
   "id": "16a05665-81f5-4219-abda-3ff3da513946",
   "metadata": {},
   "outputs": [],
   "source": [
    "s1 = set([1 ,2 ,3 ,4 ,5 ,6 ])\n",
    "s2 = set([4 ,5 ,6 ,7 ,8 ,9 ])"
   ]
  },
  {
   "cell_type": "code",
   "execution_count": 66,
   "id": "842805d9-9bef-4bcd-a295-13b6838cfadb",
   "metadata": {},
   "outputs": [
    {
     "data": {
      "text/plain": [
       "{4, 5, 6}"
      ]
     },
     "execution_count": 66,
     "metadata": {},
     "output_type": "execute_result"
    }
   ],
   "source": [
    "# 교집합\n",
    "s1 & s2"
   ]
  },
  {
   "cell_type": "code",
   "execution_count": 67,
   "id": "128e857d-8746-40d0-8f85-e5ef51269f02",
   "metadata": {},
   "outputs": [
    {
     "data": {
      "text/plain": [
       "{4, 5, 6}"
      ]
     },
     "execution_count": 67,
     "metadata": {},
     "output_type": "execute_result"
    }
   ],
   "source": [
    "s1.intersection(s2)"
   ]
  },
  {
   "cell_type": "code",
   "execution_count": 61,
   "id": "47bfc8f8-f9c5-4753-882c-d9a304e6a91e",
   "metadata": {},
   "outputs": [
    {
     "data": {
      "text/plain": [
       "{1, 2, 3, 4, 5, 6, 'e', 'h', 'l', 'o'}"
      ]
     },
     "execution_count": 61,
     "metadata": {},
     "output_type": "execute_result"
    }
   ],
   "source": [
    "#합집합\n",
    "s1 | s2"
   ]
  },
  {
   "cell_type": "code",
   "execution_count": 62,
   "id": "4d7256b5-01a0-430f-a990-e9fe254ea7fe",
   "metadata": {},
   "outputs": [
    {
     "data": {
      "text/plain": [
       "{1, 2, 3, 4, 5, 6, 'e', 'h', 'l', 'o'}"
      ]
     },
     "execution_count": 62,
     "metadata": {},
     "output_type": "execute_result"
    }
   ],
   "source": [
    "s1.union(s2)"
   ]
  },
  {
   "cell_type": "code",
   "execution_count": 68,
   "id": "c7652594-1043-4371-8fdc-0648cd669ae7",
   "metadata": {},
   "outputs": [
    {
     "data": {
      "text/plain": [
       "{1, 2, 3}"
      ]
     },
     "execution_count": 68,
     "metadata": {},
     "output_type": "execute_result"
    }
   ],
   "source": [
    "#차집합 \n",
    "s1 - s2"
   ]
  },
  {
   "cell_type": "code",
   "execution_count": 69,
   "id": "45a699f2-15f5-4bd2-9e22-dcc219ffc13b",
   "metadata": {},
   "outputs": [
    {
     "data": {
      "text/plain": [
       "{1, 2, 3}"
      ]
     },
     "execution_count": 69,
     "metadata": {},
     "output_type": "execute_result"
    }
   ],
   "source": [
    "s1.difference(s2)"
   ]
  },
  {
   "cell_type": "markdown",
   "id": "4d2d4a48-78f2-4def-be11-f1654459064b",
   "metadata": {},
   "source": [
    "##### 함수들(function)"
   ]
  },
  {
   "cell_type": "code",
   "execution_count": 71,
   "id": "012c2289-8000-49f7-b874-2098d6a5355f",
   "metadata": {},
   "outputs": [
    {
     "data": {
      "text/plain": [
       "{1, 2, 3, 4}"
      ]
     },
     "execution_count": 71,
     "metadata": {},
     "output_type": "execute_result"
    }
   ],
   "source": [
    "# 1개 값 추가\n",
    "s1 = set([1,2,3])\n",
    "s1.add(4)\n",
    "s1"
   ]
  },
  {
   "cell_type": "code",
   "execution_count": 72,
   "id": "ea3a35d0-9f30-462e-8f1c-65a09b159d2e",
   "metadata": {},
   "outputs": [
    {
     "data": {
      "text/plain": [
       "{1, 2, 3, 4, 5, 6}"
      ]
     },
     "execution_count": 72,
     "metadata": {},
     "output_type": "execute_result"
    }
   ],
   "source": [
    "#여러개 값 추가\n",
    "s1 = set([1,2,3])\n",
    "s1.update([4,5,6])\n",
    "s1"
   ]
  },
  {
   "cell_type": "code",
   "execution_count": 73,
   "id": "2f8ff7fd-4a24-441e-8504-a5cfc6d0454b",
   "metadata": {},
   "outputs": [
    {
     "data": {
      "text/plain": [
       "{1, 3}"
      ]
     },
     "execution_count": 73,
     "metadata": {},
     "output_type": "execute_result"
    }
   ],
   "source": [
    "#값 제거\n",
    "s1 = set([1,2,3])\n",
    "s1.remove(2)\n",
    "s1"
   ]
  },
  {
   "cell_type": "markdown",
   "id": "5260c85e-800c-4d75-a6f8-8550a3afe393",
   "metadata": {},
   "source": [
    "### 불(Bool)"
   ]
  },
  {
   "cell_type": "code",
   "execution_count": 74,
   "id": "25489ae4-932e-4bf5-b84b-748510e23de7",
   "metadata": {},
   "outputs": [
    {
     "data": {
      "text/plain": [
       "(bool, bool)"
      ]
     },
     "execution_count": 74,
     "metadata": {},
     "output_type": "execute_result"
    }
   ],
   "source": [
    "a = True\n",
    "b = False \n",
    "type(a), type(b)"
   ]
  },
  {
   "cell_type": "code",
   "execution_count": 75,
   "id": "7da01f34-1a32-4370-87bc-3f66adb798ad",
   "metadata": {},
   "outputs": [
    {
     "data": {
      "text/plain": [
       "(True, False)"
      ]
     },
     "execution_count": 75,
     "metadata": {},
     "output_type": "execute_result"
    }
   ],
   "source": [
    "bool(\"python\"), bool(\"\")"
   ]
  },
  {
   "cell_type": "code",
   "execution_count": 76,
   "id": "87287914-c853-4f65-832c-a7312f3537df",
   "metadata": {},
   "outputs": [
    {
     "data": {
      "text/plain": [
       "(True, False)"
      ]
     },
     "execution_count": 76,
     "metadata": {},
     "output_type": "execute_result"
    }
   ],
   "source": [
    "bool([1,2,3]), bool([])"
   ]
  },
  {
   "cell_type": "code",
   "execution_count": 77,
   "id": "cd3ea48a-2cce-4338-bbb3-53c61273624a",
   "metadata": {},
   "outputs": [
    {
     "data": {
      "text/plain": [
       "(True, False)"
      ]
     },
     "execution_count": 77,
     "metadata": {},
     "output_type": "execute_result"
    }
   ],
   "source": [
    "bool((1,2,3)) ,bool(())"
   ]
  },
  {
   "cell_type": "code",
   "execution_count": 78,
   "id": "ee097c00-b103-4cec-9e89-13bd0d67cad3",
   "metadata": {},
   "outputs": [
    {
     "data": {
      "text/plain": [
       "(True, False)"
      ]
     },
     "execution_count": 78,
     "metadata": {},
     "output_type": "execute_result"
    }
   ],
   "source": [
    "bool({'a':1}), bool({})"
   ]
  },
  {
   "cell_type": "code",
   "execution_count": 79,
   "id": "2d810164-e763-4711-b25a-b6a71e5ce5c7",
   "metadata": {},
   "outputs": [
    {
     "data": {
      "text/plain": [
       "(True, False, False)"
      ]
     },
     "execution_count": 79,
     "metadata": {},
     "output_type": "execute_result"
    }
   ],
   "source": [
    "bool(1), bool(0), bool(None)"
   ]
  },
  {
   "cell_type": "markdown",
   "id": "9ee58507-213f-42f4-93cf-3203a7ff758e",
   "metadata": {},
   "source": [
    "### 변수"
   ]
  },
  {
   "cell_type": "code",
   "execution_count": 80,
   "id": "e9aa72ab-cca8-4dcd-b370-a369c0df9535",
   "metadata": {},
   "outputs": [
    {
     "data": {
      "text/plain": [
       "2124916530688"
      ]
     },
     "execution_count": 80,
     "metadata": {},
     "output_type": "execute_result"
    }
   ],
   "source": [
    "a = [1,2,3]\n",
    "id(a)"
   ]
  },
  {
   "cell_type": "code",
   "execution_count": 84,
   "id": "694fef57-c982-49ab-b07f-abd19e242559",
   "metadata": {},
   "outputs": [
    {
     "data": {
      "text/plain": [
       "(2124916526976, 2124916526976)"
      ]
     },
     "execution_count": 84,
     "metadata": {},
     "output_type": "execute_result"
    }
   ],
   "source": [
    "#메모리 공유\n",
    "a = [1,2,3]\n",
    "b = a\n",
    "id(a), id(b)"
   ]
  },
  {
   "cell_type": "code",
   "execution_count": 85,
   "id": "35f37823-a14a-47a9-94f0-9e760222e238",
   "metadata": {},
   "outputs": [
    {
     "data": {
      "text/plain": [
       "True"
      ]
     },
     "execution_count": 85,
     "metadata": {},
     "output_type": "execute_result"
    }
   ],
   "source": [
    "a is b"
   ]
  },
  {
   "cell_type": "code",
   "execution_count": 86,
   "id": "dbdf1f48-7b9c-401d-80ae-c9fb498ea010",
   "metadata": {},
   "outputs": [
    {
     "data": {
      "text/plain": [
       "([1, 4, 3], [1, 4, 3])"
      ]
     },
     "execution_count": 86,
     "metadata": {},
     "output_type": "execute_result"
    }
   ],
   "source": [
    "a[1] = 4\n",
    "a,b"
   ]
  },
  {
   "cell_type": "code",
   "execution_count": 87,
   "id": "768f9b06-84fa-4564-a11e-562e1c9a3789",
   "metadata": {},
   "outputs": [
    {
     "data": {
      "text/plain": [
       "([1, 4, 3], [1, 2, 3])"
      ]
     },
     "execution_count": 87,
     "metadata": {},
     "output_type": "execute_result"
    }
   ],
   "source": [
    "# 메모리 복사([:])\n",
    "a = [1,2,3]\n",
    "b = a[:]\n",
    "a[1]=4\n",
    "a,b"
   ]
  },
  {
   "cell_type": "code",
   "execution_count": 88,
   "id": "e25b9a79-10b9-48e6-b85e-a4c378fbff61",
   "metadata": {},
   "outputs": [
    {
     "data": {
      "text/plain": [
       "False"
      ]
     },
     "execution_count": 88,
     "metadata": {},
     "output_type": "execute_result"
    }
   ],
   "source": [
    "# 메모리 복사 (copy)\n",
    "from copy import copy\n",
    "\n",
    "a = [1,2,3]\n",
    "b = copy(a) # b = a[:]와 동일\n",
    "b is a "
   ]
  }
 ],
 "metadata": {
  "kernelspec": {
   "display_name": "Python 3 (ipykernel)",
   "language": "python",
   "name": "python3"
  },
  "language_info": {
   "codemirror_mode": {
    "name": "ipython",
    "version": 3
   },
   "file_extension": ".py",
   "mimetype": "text/x-python",
   "name": "python",
   "nbconvert_exporter": "python",
   "pygments_lexer": "ipython3",
   "version": "3.13.5"
  }
 },
 "nbformat": 4,
 "nbformat_minor": 5
}

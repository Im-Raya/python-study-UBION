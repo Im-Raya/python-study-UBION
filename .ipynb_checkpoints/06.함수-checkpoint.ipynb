{
 "cells": [
  {
   "cell_type": "code",
   "execution_count": 4,
   "id": "4db09c9f-0d17-461f-b53c-ba9f4cc3b38e",
   "metadata": {},
   "outputs": [
    {
     "name": "stdout",
     "output_type": "stream",
     "text": [
      "Hi\n"
     ]
    }
   ],
   "source": [
    "# type1 : 입력값/결괏값이 없는 함수\n",
    "def say() : \n",
    "    print('Hi')\n",
    "# 이것만 치면 실행 안됨. 얘는 그냥 say()의 정의. \n",
    "\n",
    "say()"
   ]
  },
  {
   "cell_type": "code",
   "execution_count": 6,
   "id": "d7a3d717-a52c-438d-b27e-0328a7cdee79",
   "metadata": {},
   "outputs": [
    {
     "name": "stdout",
     "output_type": "stream",
     "text": [
      "7\n"
     ]
    }
   ],
   "source": [
    "# type2 : 입력값만 있는 함수\n",
    "def add(a,b) : \n",
    "    result = a+b\n",
    "    print(result) \n",
    "# 입력값은 a,b \n",
    "add(3,4) "
   ]
  },
  {
   "cell_type": "code",
   "execution_count": 17,
   "id": "5192d7ab-eb54-489e-907c-cbb76c58bedc",
   "metadata": {
    "scrolled": true
   },
   "outputs": [
    {
     "name": "stdout",
     "output_type": "stream",
     "text": [
      "7\n"
     ]
    }
   ],
   "source": [
    "a = add(3,4)"
   ]
  },
  {
   "cell_type": "code",
   "execution_count": 13,
   "id": "2fb117b4-ad9b-4574-aa74-1ff99a1b1361",
   "metadata": {},
   "outputs": [
    {
     "name": "stdout",
     "output_type": "stream",
     "text": [
      "None\n"
     ]
    }
   ],
   "source": [
    "print(a)\n",
    "# return이 없는 값이기 때문에, 나오지 않음. "
   ]
  },
  {
   "cell_type": "code",
   "execution_count": 18,
   "id": "2b86b15c-f90c-4cc4-b932-cdd272169622",
   "metadata": {},
   "outputs": [
    {
     "name": "stdout",
     "output_type": "stream",
     "text": [
      "Hi\n"
     ]
    }
   ],
   "source": [
    "# type3 : 결괏값만 있는 함수\n",
    "def say():\n",
    "    return 'Hi'\n",
    "\n",
    "print(say()) # say() = hi와 동일. "
   ]
  },
  {
   "cell_type": "code",
   "execution_count": 14,
   "id": "3400b009-a67c-4309-a991-4615b1170ad1",
   "metadata": {},
   "outputs": [
    {
     "data": {
      "text/plain": [
       "'Hi'"
      ]
     },
     "execution_count": 14,
     "metadata": {},
     "output_type": "execute_result"
    }
   ],
   "source": [
    "a = say()\n",
    "a"
   ]
  },
  {
   "cell_type": "code",
   "execution_count": 15,
   "id": "5b7552e8-4213-47bb-a3c9-08d4eef29a23",
   "metadata": {},
   "outputs": [
    {
     "name": "stdout",
     "output_type": "stream",
     "text": [
      "Hi\n"
     ]
    }
   ],
   "source": [
    "print(a)"
   ]
  },
  {
   "cell_type": "code",
   "execution_count": 19,
   "id": "cbe2bdd5-a21e-4847-bd7a-802acb76f931",
   "metadata": {},
   "outputs": [
    {
     "data": {
      "text/plain": [
       "8"
      ]
     },
     "execution_count": 19,
     "metadata": {},
     "output_type": "execute_result"
    }
   ],
   "source": [
    "# type4 : 입력값과 결괏값이 있는 함수\n",
    "def add(a,b) : \n",
    "    result = a+b\n",
    "    return result\n",
    "\n",
    "c = add(3,5)\n",
    "c"
   ]
  },
  {
   "cell_type": "code",
   "execution_count": 20,
   "id": "40b93c20-8466-4af9-8402-e1f35139a245",
   "metadata": {},
   "outputs": [
    {
     "name": "stdout",
     "output_type": "stream",
     "text": [
      "8\n"
     ]
    }
   ],
   "source": [
    "print(c)"
   ]
  },
  {
   "cell_type": "code",
   "execution_count": 22,
   "id": "086f02fe-185b-4ab4-a76a-531fc7929b22",
   "metadata": {},
   "outputs": [
    {
     "name": "stdout",
     "output_type": "stream",
     "text": [
      "10\n"
     ]
    }
   ],
   "source": [
    "# 매개변수 지정하여 호출\n",
    "def add(a,b) : \n",
    "    return a+b\n",
    "    \n",
    "result = add(b=7, a=3)\n",
    "print(result) "
   ]
  },
  {
   "cell_type": "code",
   "execution_count": 29,
   "id": "127084d1-062f-4eb0-9e9c-26e93e40df6f",
   "metadata": {},
   "outputs": [
    {
     "name": "stdout",
     "output_type": "stream",
     "text": [
      "(1, 2, 3)\n",
      "6\n"
     ]
    }
   ],
   "source": [
    "# 입력값이 몇개가 될 지 모를 때. =\n",
    "def add_many(*args) :\n",
    "    print(args)\n",
    "    result = 0\n",
    "    for i in args:\n",
    "        result = result + i \n",
    "    return result \n",
    "\n",
    "result =  add_many(1,2,3) \n",
    "print(result) \n",
    "#return값이 없는데 넣어서 none이 나옴"
   ]
  },
  {
   "cell_type": "code",
   "execution_count": 30,
   "id": "754570d7-a770-485d-a43a-14918bc69c30",
   "metadata": {},
   "outputs": [
    {
     "name": "stdout",
     "output_type": "stream",
     "text": [
      "(1, 2, 3, 4, 5, 6, 7, 8, 9, 10)\n",
      "55\n"
     ]
    }
   ],
   "source": [
    "result = add_many(1,2,3,4,5,6,7,8,9,10)\n",
    "print(result) "
   ]
  },
  {
   "cell_type": "code",
   "execution_count": 90,
   "id": "0c4c700e-5101-4c8c-8ce6-98ca6fe07949",
   "metadata": {},
   "outputs": [],
   "source": [
    "def add_mul(choice, *args) : \n",
    "    \n",
    "    if choice == \"add\" : \n",
    "        result = 0 \n",
    "        for i in args: \n",
    "            result = result + i \n",
    "    elif choice == \"mul\" :\n",
    "        result = 1\n",
    "        for i in args: \n",
    "            result = result * i  \n",
    "            \n",
    "    return result "
   ]
  },
  {
   "cell_type": "code",
   "execution_count": 91,
   "id": "6febc118-af69-4a71-8508-21f2f49468b9",
   "metadata": {},
   "outputs": [
    {
     "name": "stdout",
     "output_type": "stream",
     "text": [
      "15\n"
     ]
    }
   ],
   "source": [
    "result = add_mul('add', 1,2,3,4,5)\n",
    "print(result) "
   ]
  },
  {
   "cell_type": "code",
   "execution_count": 92,
   "id": "c11a5019-76b5-477e-a0e3-a207ed3c4a0f",
   "metadata": {},
   "outputs": [
    {
     "name": "stdout",
     "output_type": "stream",
     "text": [
      "120\n"
     ]
    }
   ],
   "source": [
    "result = add_mul('mul', 1,2,3,4,5)\n",
    "print(result) "
   ]
  },
  {
   "cell_type": "code",
   "execution_count": null,
   "id": "4916c5f2-f7a5-48f1-8173-e63c3ebeb70b",
   "metadata": {},
   "outputs": [],
   "source": []
  },
  {
   "cell_type": "code",
   "execution_count": null,
   "id": "e7dff955-461a-4d90-b34e-0a6cd5d9e90d",
   "metadata": {},
   "outputs": [],
   "source": []
  }
 ],
 "metadata": {
  "kernelspec": {
   "display_name": "Python 3 (ipykernel)",
   "language": "python",
   "name": "python3"
  },
  "language_info": {
   "codemirror_mode": {
    "name": "ipython",
    "version": 3
   },
   "file_extension": ".py",
   "mimetype": "text/x-python",
   "name": "python",
   "nbconvert_exporter": "python",
   "pygments_lexer": "ipython3",
   "version": "3.13.5"
  }
 },
 "nbformat": 4,
 "nbformat_minor": 5
}
